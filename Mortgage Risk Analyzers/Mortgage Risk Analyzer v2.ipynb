{
 "cells": [
  {
   "cell_type": "markdown",
   "metadata": {},
   "source": [
    "# Mortgage Risk Analyzer v2"
   ]
  },
  {
   "cell_type": "markdown",
   "metadata": {},
   "source": [
    "## Intro\n",
    "This is a simplification of v1.  \n",
    "This is a non-dimentional alaysis of mortgage expenditure minimization.  \n",
    "Goal: minimize x  \n",
    "where x = expenses / housePrice  \n",
    "and where expenses = payments + interest  \n",
    "\n",
    "if x = 1.5, that means that you actually pay 1.5 times the house price."
   ]
  },
  {
   "cell_type": "markdown",
   "metadata": {
    "hide_input": false
   },
   "source": [
    "## Code\n",
    "skip this unless you're interested"
   ]
  },
  {
   "cell_type": "code",
   "execution_count": 1,
   "metadata": {
    "hide_input": false
   },
   "outputs": [],
   "source": [
    "import ipywidgets as widgets\n",
    "input_sliders = []\n",
    "input_sliders.append(widgets.FloatSlider(value=3,min=1,max=10,step=0.01,description='Intrest Rate (%)',style={'description_width': 'initial'},))\n",
    "input_sliders.append(widgets.IntSlider(value=200,min=100,max=1000,description='House Price ($k)',style={'description_width': 'initial'},))\n",
    "input_sliders.append(widgets.IntSlider(value=50,min=1,max=100,description='Down Payment ($k)',style={'description_width': 'initial'},))\n",
    "input_sliders.append(widgets.IntSlider(value=30,min=1,max=60,description='Term (years)',style={'description_width': 'initial'},))\n",
    "input_sliders.append(widgets.FloatSlider(value=1,min=1,max=5,description='Payment Multiplier (%)',style={'description_width': 'initial'},))"
   ]
  },
  {
   "cell_type": "code",
   "execution_count": 2,
   "metadata": {},
   "outputs": [],
   "source": [
    "variables = []\n",
    "for s in input_sliders:\n",
    "    smin = int(s.min*100)\n",
    "    smax = int(s.max*100)\n",
    "    diff = smax-smin\n",
    "    points_per_graph = 16\n",
    "    step = int(diff/points_per_graph)\n",
    "    variables.append([x / 100 for x in range(smin, smax, step)])"
   ]
  },
  {
   "cell_type": "markdown",
   "metadata": {},
   "source": [
    "This function calculates x. It goes through each month and calculates the monthly payment amount, & intrest."
   ]
  },
  {
   "cell_type": "code",
   "execution_count": 3,
   "metadata": {},
   "outputs": [],
   "source": [
    "def calculateX(intrestRate, housePrice, downPayment, term, minPaymentMuliplyer):\n",
    "    intrestRate = intrestRate/100\n",
    "    housePrice = housePrice*1000\n",
    "    downPayment = downPayment*1000\n",
    "    \n",
    "    #print('Calculating x for ',intrestRate,' ',housePrice,' ',downPayment,' ',term,' ',minPaymentMuliplyer)\n",
    "    n = 12*term\n",
    "    monthlyInterestRate = intrestRate / 12\n",
    "    r = 1/(1+monthlyInterestRate)\n",
    "    loan = housePrice - downPayment\n",
    "    minPayment = loan * ((1-r)/(r-r**(n+1)))\n",
    "    payment = minPayment * minPaymentMuliplyer\n",
    "    paymentSum = 0\n",
    "    while loan > 1:\n",
    "        #print('loan ',loan)\n",
    "        # 1 month passes\n",
    "        interest = loan * monthlyInterestRate\n",
    "        #print('interest ',interest)\n",
    "        \n",
    "        p = payment\n",
    "        #print('payment ',p)\n",
    "        if interest + loan < payment:\n",
    "            p = interest + loan\n",
    "        if p < interest:\n",
    "            print('error. payment too small')\n",
    "        \n",
    "        loan = loan - p + interest\n",
    "        paymentSum += p\n",
    "    expenses = paymentSum + downPayment\n",
    "    x = expenses / housePrice\n",
    "    return x\n",
    "    \n",
    "        "
   ]
  },
  {
   "cell_type": "code",
   "execution_count": 4,
   "metadata": {},
   "outputs": [],
   "source": [
    "import matplotlib.pyplot as plt\n",
    "def mccgraph(x,y,xlabel):\n",
    "    plt.figure()\n",
    "    plt.xlabel(xlabel)\n",
    "    plt.ylabel('x')\n",
    "    plt.plot(x, y, '-ok')\n",
    "    plt.show()"
   ]
  },
  {
   "cell_type": "code",
   "execution_count": 5,
   "metadata": {
    "scrolled": true
   },
   "outputs": [],
   "source": [
    "def slider_values():\n",
    "    values = []\n",
    "    for s in input_sliders:\n",
    "        values.append(s.value) \n",
    "    return values\n",
    "\n",
    "def show_comparitive_graphs():\n",
    "    for i,var in enumerate(variables):\n",
    "        #print(var)\n",
    "        values = slider_values()\n",
    "        output = []\n",
    "        xlabel = ''\n",
    "        for v in var:\n",
    "            #print(v)\n",
    "            values[i] = v\n",
    "            xlabel = input_sliders[i].description\n",
    "            output.append(calculateX(values[0],values[1],values[2],values[3],values[4]))\n",
    "        mccgraph(var, output, xlabel)"
   ]
  },
  {
   "cell_type": "code",
   "execution_count": 6,
   "metadata": {},
   "outputs": [],
   "source": [
    "from IPython.display import clear_output\n",
    "reload_button = widgets.Button(description=\"Reload\")\n",
    "def reload_data(change):\n",
    "    clear_output(wait=True)\n",
    "    display(reload_button)\n",
    "    show_comparitive_graphs()\n",
    "    values = slider_values()\n",
    "    x = calculateX(values[0],values[1],values[2],values[3],values[4])\n",
    "    print(\"You will spend $\"+str(int(x*values[1]))+\"k on your house (x=\"+str(round(x,2))+\")\")"
   ]
  },
  {
   "cell_type": "markdown",
   "metadata": {},
   "source": [
    "# Input & Output"
   ]
  },
  {
   "cell_type": "code",
   "execution_count": 7,
   "metadata": {},
   "outputs": [
    {
     "data": {
      "application/vnd.jupyter.widget-view+json": {
       "model_id": "ea96be40552e4100bc0241ef85843dba",
       "version_major": 2,
       "version_minor": 0
      },
      "text/plain": [
       "FloatSlider(value=3.0, description='Intrest Rate (%)', max=10.0, min=1.0, step=0.01, style=SliderStyle(descrip…"
      ]
     },
     "metadata": {},
     "output_type": "display_data"
    },
    {
     "data": {
      "application/vnd.jupyter.widget-view+json": {
       "model_id": "ac61a5df595e41a38e543452aec065c4",
       "version_major": 2,
       "version_minor": 0
      },
      "text/plain": [
       "IntSlider(value=200, description='House Price ($k)', max=1000, min=100, style=SliderStyle(description_width='i…"
      ]
     },
     "metadata": {},
     "output_type": "display_data"
    },
    {
     "data": {
      "application/vnd.jupyter.widget-view+json": {
       "model_id": "9daefa3b519d457d8920f9cac4c54ab0",
       "version_major": 2,
       "version_minor": 0
      },
      "text/plain": [
       "IntSlider(value=50, description='Down Payment ($k)', min=1, style=SliderStyle(description_width='initial'))"
      ]
     },
     "metadata": {},
     "output_type": "display_data"
    },
    {
     "data": {
      "application/vnd.jupyter.widget-view+json": {
       "model_id": "433d9f912ecf43f29599ddfeb54b8017",
       "version_major": 2,
       "version_minor": 0
      },
      "text/plain": [
       "IntSlider(value=30, description='Term (years)', max=60, min=1, style=SliderStyle(description_width='initial'))"
      ]
     },
     "metadata": {},
     "output_type": "display_data"
    },
    {
     "data": {
      "application/vnd.jupyter.widget-view+json": {
       "model_id": "d9957c12563c4140bf89ee7961299ec1",
       "version_major": 2,
       "version_minor": 0
      },
      "text/plain": [
       "FloatSlider(value=1.0, description='Payment Multiplier (%)', max=5.0, min=1.0, style=SliderStyle(description_w…"
      ]
     },
     "metadata": {},
     "output_type": "display_data"
    }
   ],
   "source": [
    "for s in input_sliders:\n",
    "    display(s)"
   ]
  },
  {
   "cell_type": "code",
   "execution_count": 8,
   "metadata": {},
   "outputs": [
    {
     "data": {
      "application/vnd.jupyter.widget-view+json": {
       "model_id": "8928c98303854837b69a3de7b5f16594",
       "version_major": 2,
       "version_minor": 0
      },
      "text/plain": [
       "Button(description='Reload', style=ButtonStyle())"
      ]
     },
     "metadata": {},
     "output_type": "display_data"
    },
    {
     "data": {
      "image/png": "[encoded data removed]",
      "text/plain": [
       "<Figure size 432x288 with 1 Axes>"
      ]
     },
     "metadata": {
      "needs_background": "light"
     },
     "output_type": "display_data"
    },
    {
     "data": {
      "image/png": "[encoded data removed]",
      "text/plain": [
       "<Figure size 432x288 with 1 Axes>"
      ]
     },
     "metadata": {
      "needs_background": "light"
     },
     "output_type": "display_data"
    },
    {
     "data": {
      "image/png": "[encoded data removed]",
      "text/plain": [
       "<Figure size 432x288 with 1 Axes>"
      ]
     },
     "metadata": {
      "needs_background": "light"
     },
     "output_type": "display_data"
    },
    {
     "data": {
      "image/png": "[encoded data removed]",
      "text/plain": [
       "<Figure size 432x288 with 1 Axes>"
      ]
     },
     "metadata": {
      "needs_background": "light"
     },
     "output_type": "display_data"
    },
    {
     "data": {
      "image/png": "[encoded data removed]",
      "text/plain": [
       "<Figure size 432x288 with 1 Axes>"
      ]
     },
     "metadata": {
      "needs_background": "light"
     },
     "output_type": "display_data"
    },
    {
     "name": "stdout",
     "output_type": "stream",
     "text": [
      "You will spend $277k on your house (x=1.39)\n"
     ]
    }
   ],
   "source": [
    "reload_data(None)\n",
    "reload_button.on_click(reload_data)"
   ]
  },
  {
   "cell_type": "markdown",
   "metadata": {},
   "source": [
    "## Options\n",
    "This is an analysis that compairs two house options"
   ]
  },
  {
   "cell_type": "code",
   "execution_count": 11,
   "metadata": {},
   "outputs": [],
   "source": [
    "housePrice = 500\n",
    "intrestRate = 5\n",
    "downPayment = housePrice * 0.20\n",
    "term = 30"
   ]
  },
  {
   "cell_type": "code",
   "execution_count": 12,
   "metadata": {},
   "outputs": [
    {
     "name": "stdout",
     "output_type": "stream",
     "text": [
      "If a house costs $500k\n",
      "Option 1 x = 1.75\n",
      "Option 2 x = 1.21\n",
      "Option 2 is $265.73k more than Option 1\n"
     ]
    }
   ],
   "source": [
    "minPaymentMuliplyer = 1\n",
    "option1 = calculateX(intrestRate, housePrice, downPayment, term, minPaymentMuliplyer) # the lesw better option\n",
    "\n",
    "minPaymentMuliplyer = 2\n",
    "option2 = calculateX(intrestRate, housePrice, downPayment, term, minPaymentMuliplyer) # the better option\n",
    "\n",
    "expensesdiff = option1*housePrice - option2*housePrice\n",
    "print('If a house costs $'+str(housePrice)+'k')\n",
    "print('Option 1 x = '+str(round(option1,2)))\n",
    "print('Option 2 x = '+str(round(option2,2)))\n",
    "print('Option 2 is $'+str(round(expensesdiff,2))+'k more than Option 1')"
   ]
  },
  {
   "cell_type": "markdown",
   "metadata": {},
   "source": [
    "## Known end term analysis\n",
    "This is an analysis of total expensis assuming you know how long you will have live in your house."
   ]
  },
  {
   "cell_type": "code",
   "execution_count": null,
   "metadata": {},
   "outputs": [],
   "source": []
  },
  {
   "cell_type": "markdown",
   "metadata": {},
   "source": [
    "## Adjusted rate analysis\n",
    "This is an analysis like the fixed rate analyis"
   ]
  },
  {
   "cell_type": "code",
   "execution_count": null,
   "metadata": {},
   "outputs": [],
   "source": []
  }
 ],
 "metadata": {
  "kernelspec": {
   "display_name": "Python 3",
   "language": "python",
   "name": "python3"
  },
  "language_info": {
   "codemirror_mode": {
    "name": "ipython",
    "version": 3
   },
   "file_extension": ".py",
   "mimetype": "text/x-python",
   "name": "python",
   "nbconvert_exporter": "python",
   "pygments_lexer": "ipython3",
   "version": "3.7.6"
  }
 },
 "nbformat": 4,
 "nbformat_minor": 4
}
