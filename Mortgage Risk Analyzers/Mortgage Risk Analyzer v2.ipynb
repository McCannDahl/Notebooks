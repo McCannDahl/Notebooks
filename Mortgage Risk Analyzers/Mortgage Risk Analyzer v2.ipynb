{
 "cells": [
  {
   "cell_type": "markdown",
   "metadata": {},
   "source": [
    "# Mortgage Risk Analyzer v2"
   ]
  },
  {
   "cell_type": "markdown",
   "metadata": {},
   "source": [
    "## Intro\n",
    "This is a non-dimentional alaysis of mortgage expenditure minimization.  \n",
    "\n",
    "- Goal: minimize expenses  \n",
    "    - expenses = payments + interest  \n",
    "- Nondimentional Implementation: x = expenses / housePrice  \n",
    "    - if x = 1.5, that means that you actually pay 1.5 times the house price."
   ]
  },
  {
   "cell_type": "markdown",
   "metadata": {
    "hide_input": false
   },
   "source": [
    "## Code\n",
    "skip this if you're not interested"
   ]
  },
  {
   "cell_type": "code",
   "execution_count": 1,
   "metadata": {
    "hide_input": false
   },
   "outputs": [],
   "source": [
    "import ipywidgets as widgets\n",
    "input_sliders = []\n",
    "input_sliders.append(widgets.FloatSlider(value=3,min=1,max=10,step=0.01,description='Intrest Rate (%)',style={'description_width': 'initial'},layout=widgets.Layout(width='100%')))\n",
    "input_sliders.append(widgets.IntSlider(value=300,min=100,max=1000,description='House Price ($k)',style={'description_width': 'initial'},layout=widgets.Layout(width='100%')))\n",
    "input_sliders.append(widgets.IntSlider(value=60,min=1,max=100,description='Down Payment ($k)',style={'description_width': 'initial'},layout=widgets.Layout(width='100%')))\n",
    "input_sliders.append(widgets.IntSlider(value=30,min=1,max=60,description='Term (years)',style={'description_width': 'initial'},layout=widgets.Layout(width='100%')))\n",
    "input_sliders.append(widgets.FloatSlider(value=2,min=0,max=5,description='Private Mortgage Insurance (%)',style={'description_width': 'initial'},layout=widgets.Layout(width='100%')))\n",
    "input_sliders.append(widgets.FloatSlider(value=1,min=1,max=5,description='Payment Multiplier (%)',style={'description_width': 'initial'},layout=widgets.Layout(width='100%')))\n",
    "input_sliders.append(widgets.IntSlider(value=1500,min=500,max=5000,description='Specific Payment Amount ($)',style={'description_width': 'initial'},layout=widgets.Layout(width='100%')))\n",
    "\n",
    "input_radios = widgets.RadioButtons(\n",
    "    options=['Minimum', 'Using Payment Multiplier', 'Using Specific Amount'],\n",
    "    value='Minimum',\n",
    "    layout={'width': 'max-content'},\n",
    "    description='Payment:'\n",
    ")\n",
    "\n",
    "onetime_sliders = []\n",
    "onetime_sliders.append(widgets.FloatSlider(value=2,min=1,max=5,description='Closing Costs (%)',style={'description_width': 'initial'},layout=widgets.Layout(width='100%')))\n",
    "onetime_sliders.append(widgets.IntSlider(value=350,min=300,max=400,description='Appraisal Fee ($)',style={'description_width': 'initial'},layout=widgets.Layout(width='100%')))\n",
    "onetime_sliders.append(widgets.IntSlider(value=400,min=300,max=500,description='Inspection Fee ($)',style={'description_width': 'initial'},layout=widgets.Layout(width='100%')))\n",
    "\n",
    "lifetime_sliders = []\n",
    "lifetime_sliders.append(widgets.IntSlider(value=600,min=500,max=5000,description='Home Insurance ($/yr)',style={'description_width': 'initial'},layout=widgets.Layout(width='100%')))\n",
    "lifetime_sliders.append(widgets.IntSlider(value=200,min=0,max=700,description='HOA contribution ($/mo)',style={'description_width': 'initial'},layout=widgets.Layout(width='100%')))\n",
    "lifetime_sliders.append(widgets.FloatSlider(value=4.5,min=0,max=200,description='Property Taxes ($k/yr)',style={'description_width': 'initial'},layout=widgets.Layout(width='100%')))\n",
    "lifetime_sliders.append(widgets.IntSlider(value=300,min=0,max=1000,description='Utilities ($/mo)',style={'description_width': 'initial'},layout=widgets.Layout(width='100%')))\n"
   ]
  },
  {
   "cell_type": "markdown",
   "metadata": {},
   "source": [
    "This function calculates x. It goes through each month and calculates the monthly payment amount, & intrest."
   ]
  },
  {
   "cell_type": "code",
   "execution_count": 2,
   "metadata": {},
   "outputs": [],
   "source": [
    "def calculateX(intrestRate, housePrice, downPayment, term, privateMortgageInsurancePct=0, minPaymentMuliplyer=1, specificPaymentAmount=None):\n",
    "    intrestRate = intrestRate/100\n",
    "    housePrice = housePrice*1000\n",
    "    downPayment = downPayment*1000\n",
    "    privateMortgageInsurancePct = privateMortgageInsurancePct/100\n",
    "    \n",
    "    #print('Calculating x for ',intrestRate,' ',housePrice,' ',downPayment,' ',term,' ',minPaymentMuliplyer)\n",
    "    n = 12*term\n",
    "    monthlyInterestRate = intrestRate / 12\n",
    "    #print(\"monthlyInterestRate =\",monthlyInterestRate)\n",
    "    r = 1/(1+monthlyInterestRate)\n",
    "    loan = housePrice - downPayment\n",
    "    #print(\"loan =\",loan)\n",
    "    minPayment = loan * ((1-r)/(r-r**(n+1)))\n",
    "    #print(\"minpayment =\",minPayment)\n",
    "    payment = minPayment * minPaymentMuliplyer\n",
    "    if specificPaymentAmount:\n",
    "        payment = specificPaymentAmount\n",
    "    #print(\"payment =\",payment)\n",
    "    \n",
    "    paymentSum = 0\n",
    "    totalmonths = 0\n",
    "    totalmonthsWithPMI = 0\n",
    "    totalprivateMortgageInsurance = 0\n",
    "    balance = loan\n",
    "    \n",
    "    while balance > 1:\n",
    "        #print('balance ',balance)\n",
    "        # 1 month passes\n",
    "        interest = balance * monthlyInterestRate\n",
    "        #print('interest ',interest)\n",
    "        \n",
    "        p = payment\n",
    "        #print('payment ',p)\n",
    "        if interest + balance < payment:\n",
    "            p = interest + balance\n",
    "        \n",
    "        privateMortgageInsurance = 0\n",
    "        if ((paymentSum + downPayment) < loan * 0.2) and (totalmonths < term*12/2):\n",
    "            privateMortgageInsurance = privateMortgageInsurancePct*loan\n",
    "            totalmonthsWithPMI += 1\n",
    "            totalprivateMortgageInsurance += privateMortgageInsurance\n",
    "        \n",
    "        if p < interest:\n",
    "            #print('error. payment too small ',intrestRate,' ',housePrice,' ',downPayment,' ',term,' ',minPaymentMuliplyer)\n",
    "            return 0,0,0,0,0,0\n",
    "            \n",
    "        balance = balance - (p) + (interest)\n",
    "        paymentSum += p\n",
    "        totalmonths += 1\n",
    "    expenses = paymentSum + downPayment + totalprivateMortgageInsurance\n",
    "    x = expenses / housePrice\n",
    "    return x, totalmonths, minPayment, payment, totalmonthsWithPMI, totalprivateMortgageInsurance\n",
    "    \n",
    "        "
   ]
  },
  {
   "cell_type": "code",
   "execution_count": 3,
   "metadata": {},
   "outputs": [],
   "source": [
    "def calculateOneTimeExpenses(housePrice, downPayment, closingCostsPrct=0, appraisalFee=0, inspectionFee=0):\n",
    "    housePrice = housePrice*1000\n",
    "    downPayment = downPayment*1000\n",
    "    closingCostsPrct = closingCostsPrct/100\n",
    "    loan = housePrice - downPayment\n",
    "    closingCosts = closingCostsPrct*loan\n",
    "    return closingCosts + appraisalFee + inspectionFee"
   ]
  },
  {
   "cell_type": "code",
   "execution_count": 4,
   "metadata": {},
   "outputs": [],
   "source": [
    "def calculateLifetimeExpensesPerMonth(homeInsurance,HOA,propertyTaxes,utilities):\n",
    "    return homeInsurance/12 + HOA + propertyTaxes*1000/12 + utilities\n"
   ]
  },
  {
   "cell_type": "code",
   "execution_count": 5,
   "metadata": {},
   "outputs": [],
   "source": [
    "import matplotlib.pyplot as plt\n",
    "def mccgraph(x,y,xlabel):\n",
    "    plt.figure()\n",
    "    plt.xlabel(xlabel)\n",
    "    plt.ylabel('x')\n",
    "    plt.plot(x, y, '-ok')\n",
    "    plt.show()"
   ]
  },
  {
   "cell_type": "code",
   "execution_count": 6,
   "metadata": {
    "scrolled": true
   },
   "outputs": [],
   "source": [
    "def input_slider_values():\n",
    "    values = []\n",
    "    for s in input_sliders:\n",
    "        values.append(s.value)\n",
    "    if input_radios.value == 'Minimum':\n",
    "        values[5] = 1\n",
    "        values[6] = None\n",
    "    if input_radios.value == 'Using Payment Multiplier':\n",
    "        values[6] = None\n",
    "    if input_radios.value =='Using Specific Amount':\n",
    "        values[5] = 1\n",
    "        \n",
    "    return values\n",
    "def onetime_slider_values():\n",
    "    values = []\n",
    "    for s in onetime_sliders:\n",
    "        values.append(s.value) \n",
    "    return values\n",
    "def lifetime_slider_values():\n",
    "    values = []\n",
    "    for s in lifetime_sliders:\n",
    "        values.append(s.value)\n",
    "    return values\n"
   ]
  },
  {
   "cell_type": "code",
   "execution_count": 7,
   "metadata": {},
   "outputs": [],
   "source": [
    "def show_comparitive_graphs():\n",
    "    variables = []\n",
    "    for s in input_sliders:\n",
    "        smin = int(s.min*100)\n",
    "        smax = int(s.max*100)\n",
    "        diff = smax-smin\n",
    "        points_per_graph = 20\n",
    "        step = int(diff/points_per_graph)\n",
    "        variables.append([x / 100 for x in range(smin, smax, step)])\n",
    "    for i,var in enumerate(variables):\n",
    "        #print(var)\n",
    "        values = input_slider_values()\n",
    "        output = []\n",
    "        xlabel = ''\n",
    "        xvalues = []\n",
    "        for v in var:\n",
    "            #print(v)\n",
    "            values[i] = v\n",
    "            if input_radios.value == 'Minimum':\n",
    "                values[5] = 1\n",
    "                values[6] = None\n",
    "            if input_radios.value == 'Using Payment Multiplier':\n",
    "                values[6] = None\n",
    "            if input_radios.value =='Using Specific Amount':\n",
    "                values[5] = 1\n",
    "            xlabel = input_sliders[i].description\n",
    "            x, totalmonths, minPayment, payment, totalmonthsWithPMI, totalPMI = calculateX(values[0],values[1],values[2],values[3],values[4],values[5],values[6])\n",
    "            if x>0:\n",
    "                output.append(x)\n",
    "                xvalues.append(v)\n",
    "        mccgraph(xvalues, output, xlabel)"
   ]
  },
  {
   "cell_type": "code",
   "execution_count": 8,
   "metadata": {},
   "outputs": [],
   "source": [
    "from IPython.display import clear_output\n",
    "reload_graphs_button = widgets.Button(description=\"Reload Graphs\")\n",
    "reload_single_option_button = widgets.Button(description=\"Reload Single Option\")\n",
    "def reload_graphs(change):\n",
    "    plt.close('all')\n",
    "    clear_output(wait=True)\n",
    "    display(reload_graphs_button)\n",
    "    show_comparitive_graphs()\n",
    "def reload_single_option_data(change):\n",
    "    plt.close('all')\n",
    "    clear_output(wait=True)\n",
    "    display(reload_single_option_button)\n",
    "    values = input_slider_values()\n",
    "    x, totalmonths, minPayment, payment, totalmonthsWithPMI, totalPMI = calculateX(values[0],values[1],values[2],values[3],values[4],values[5],values[6])\n",
    "    print(\"Minimum monthly payment = $\"+str(round(minPayment,2))+\" and actual monthly payment = $\"+str(round(payment,2)))\n",
    "    print(\"You will spend $\"+str(int(x*values[1]))+\"k on your house worth $\"+str(int(values[1]))+\"k in \"+str(round(totalmonths/12,2))+\" years (x=\"+str(round(x,2))+\")\")\n",
    "    print(\"Months paid with PMI = \"+str(round(totalmonthsWithPMI,2))+\" months and total PMI amount = $\"+str(round(totalPMI,2)))\n",
    "    onetimevalues = onetime_slider_values()\n",
    "    oneTimeExpenses = calculateOneTimeExpenses(values[1],values[2],onetimevalues[0],onetimevalues[1],onetimevalues[2])\n",
    "    print(\"One time expenses = $\"+str(round(oneTimeExpenses,2)))\n",
    "    lifetimevalues = lifetime_slider_values()\n",
    "    lifetimeExpensesPerMonth = calculateLifetimeExpensesPerMonth(lifetimevalues[0],lifetimevalues[1],lifetimevalues[2],lifetimevalues[3])\n",
    "    print(\"Lifetime expenses = $\"+str(round(lifetimeExpensesPerMonth,2))+\"/month\")"
   ]
  },
  {
   "cell_type": "markdown",
   "metadata": {},
   "source": [
    "## Fixed Rate Mortgage\n",
    "Set the input values for the various variables here. Then to calculate the fixed rate analysis, press the buttons below."
   ]
  },
  {
   "cell_type": "code",
   "execution_count": 9,
   "metadata": {
    "scrolled": true
   },
   "outputs": [
    {
     "name": "stdout",
     "output_type": "stream",
     "text": [
      "Loan Variables\n"
     ]
    },
    {
     "data": {
      "application/vnd.jupyter.widget-view+json": {
       "model_id": "07359fe0a0b64e3eacba98d453300d44",
       "version_major": 2,
       "version_minor": 0
      },
      "text/plain": [
       "FloatSlider(value=3.0, description='Intrest Rate (%)', layout=Layout(width='100%'), max=10.0, min=1.0, step=0.…"
      ]
     },
     "metadata": {},
     "output_type": "display_data"
    },
    {
     "data": {
      "application/vnd.jupyter.widget-view+json": {
       "model_id": "0449b0a814884911841cbacd3ccf7733",
       "version_major": 2,
       "version_minor": 0
      },
      "text/plain": [
       "IntSlider(value=300, description='House Price ($k)', layout=Layout(width='100%'), max=1000, min=100, style=Sli…"
      ]
     },
     "metadata": {},
     "output_type": "display_data"
    },
    {
     "data": {
      "application/vnd.jupyter.widget-view+json": {
       "model_id": "ea3e8df09cf44708b48faab41c441f87",
       "version_major": 2,
       "version_minor": 0
      },
      "text/plain": [
       "IntSlider(value=60, description='Down Payment ($k)', layout=Layout(width='100%'), min=1, style=SliderStyle(des…"
      ]
     },
     "metadata": {},
     "output_type": "display_data"
    },
    {
     "data": {
      "application/vnd.jupyter.widget-view+json": {
       "model_id": "40f6493c4b4441c6a4d348e15c63f316",
       "version_major": 2,
       "version_minor": 0
      },
      "text/plain": [
       "IntSlider(value=30, description='Term (years)', layout=Layout(width='100%'), max=60, min=1, style=SliderStyle(…"
      ]
     },
     "metadata": {},
     "output_type": "display_data"
    },
    {
     "data": {
      "application/vnd.jupyter.widget-view+json": {
       "model_id": "0fc39a2da8304b07b34605f99ddc9c44",
       "version_major": 2,
       "version_minor": 0
      },
      "text/plain": [
       "FloatSlider(value=2.0, description='Private Mortgage Insurance (%)', layout=Layout(width='100%'), max=5.0, sty…"
      ]
     },
     "metadata": {},
     "output_type": "display_data"
    },
    {
     "data": {
      "application/vnd.jupyter.widget-view+json": {
       "model_id": "d452cac3cd634651a70814c5d509c8cc",
       "version_major": 2,
       "version_minor": 0
      },
      "text/plain": [
       "FloatSlider(value=1.0, description='Payment Multiplier (%)', layout=Layout(width='100%'), max=5.0, min=1.0, st…"
      ]
     },
     "metadata": {},
     "output_type": "display_data"
    },
    {
     "data": {
      "application/vnd.jupyter.widget-view+json": {
       "model_id": "a2f312a8f0a041f9b6578df5abaf1db7",
       "version_major": 2,
       "version_minor": 0
      },
      "text/plain": [
       "IntSlider(value=1500, description='Specific Payment Amount ($)', layout=Layout(width='100%'), max=5000, min=50…"
      ]
     },
     "metadata": {},
     "output_type": "display_data"
    },
    {
     "data": {
      "application/vnd.jupyter.widget-view+json": {
       "model_id": "7f140f0490ca42a385c30700a62d129d",
       "version_major": 2,
       "version_minor": 0
      },
      "text/plain": [
       "RadioButtons(description='Payment:', layout=Layout(width='max-content'), options=('Minimum', 'Using Payment Mu…"
      ]
     },
     "metadata": {},
     "output_type": "display_data"
    },
    {
     "name": "stdout",
     "output_type": "stream",
     "text": [
      "One Time Expenses\n"
     ]
    },
    {
     "data": {
      "application/vnd.jupyter.widget-view+json": {
       "model_id": "48861702b8aa48c790e7191e99c26638",
       "version_major": 2,
       "version_minor": 0
      },
      "text/plain": [
       "FloatSlider(value=2.0, description='Closing Costs (%)', layout=Layout(width='100%'), max=5.0, min=1.0, style=S…"
      ]
     },
     "metadata": {},
     "output_type": "display_data"
    },
    {
     "data": {
      "application/vnd.jupyter.widget-view+json": {
       "model_id": "a210d480c43b4fb68e93f3a947d31e5a",
       "version_major": 2,
       "version_minor": 0
      },
      "text/plain": [
       "IntSlider(value=350, description='Appraisal Fee ($)', layout=Layout(width='100%'), max=400, min=300, style=Sli…"
      ]
     },
     "metadata": {},
     "output_type": "display_data"
    },
    {
     "data": {
      "application/vnd.jupyter.widget-view+json": {
       "model_id": "3ed4c9651b154b81a4bdd0e73a952a3f",
       "version_major": 2,
       "version_minor": 0
      },
      "text/plain": [
       "IntSlider(value=400, description='Inspection Fee ($)', layout=Layout(width='100%'), max=500, min=300, style=Sl…"
      ]
     },
     "metadata": {},
     "output_type": "display_data"
    },
    {
     "name": "stdout",
     "output_type": "stream",
     "text": [
      "Lifetime Expenses\n"
     ]
    },
    {
     "data": {
      "application/vnd.jupyter.widget-view+json": {
       "model_id": "0ea2aab040e1421c94e02f39bf2451a0",
       "version_major": 2,
       "version_minor": 0
      },
      "text/plain": [
       "IntSlider(value=600, description='Home Insurance ($/yr)', layout=Layout(width='100%'), max=5000, min=500, styl…"
      ]
     },
     "metadata": {},
     "output_type": "display_data"
    },
    {
     "data": {
      "application/vnd.jupyter.widget-view+json": {
       "model_id": "524b8bd4227e4e7c9c416dbcd39b84ba",
       "version_major": 2,
       "version_minor": 0
      },
      "text/plain": [
       "IntSlider(value=200, description='HOA contribution ($/mo)', layout=Layout(width='100%'), max=700, style=Slider…"
      ]
     },
     "metadata": {},
     "output_type": "display_data"
    },
    {
     "data": {
      "application/vnd.jupyter.widget-view+json": {
       "model_id": "804f8dd58cda46acbd039fff6c9a6657",
       "version_major": 2,
       "version_minor": 0
      },
      "text/plain": [
       "FloatSlider(value=4.5, description='Property Taxes ($k/yr)', layout=Layout(width='100%'), max=200.0, style=Sli…"
      ]
     },
     "metadata": {},
     "output_type": "display_data"
    },
    {
     "data": {
      "application/vnd.jupyter.widget-view+json": {
       "model_id": "30d718202f3e4484820a668dcad7a2b5",
       "version_major": 2,
       "version_minor": 0
      },
      "text/plain": [
       "IntSlider(value=300, description='Utilities ($/mo)', layout=Layout(width='100%'), max=1000, style=SliderStyle(…"
      ]
     },
     "metadata": {},
     "output_type": "display_data"
    }
   ],
   "source": [
    "print(\"Loan Variables\")\n",
    "for s in input_sliders:\n",
    "    display(s)\n",
    "display(input_radios)\n",
    "print(\"One Time Expenses\")\n",
    "for s in onetime_sliders:\n",
    "    display(s)\n",
    "print(\"Lifetime Expenses\")\n",
    "for s in lifetime_sliders:\n",
    "    display(s)"
   ]
  },
  {
   "cell_type": "code",
   "execution_count": 10,
   "metadata": {},
   "outputs": [
    {
     "data": {
      "application/vnd.jupyter.widget-view+json": {
       "model_id": "da0cdd3aa09049dcb8b1a9b5140563fd",
       "version_major": 2,
       "version_minor": 0
      },
      "text/plain": [
       "Button(description='Reload Single Option', style=ButtonStyle())"
      ]
     },
     "metadata": {},
     "output_type": "display_data"
    },
    {
     "name": "stdout",
     "output_type": "stream",
     "text": [
      "Minimum monthly payment = $1011.85 and actual monthly payment = $1011.85\n",
      "You will spend $424k on your house worth $300k in 30.0 years (x=1.41)\n",
      "Months paid with PMI = 0 months and total PMI amount = $0\n",
      "One time expenses = $5550.0\n",
      "Lifetime expenses = $925.0/month\n"
     ]
    }
   ],
   "source": [
    "reload_single_option_data(None)\n",
    "reload_single_option_button.on_click(reload_single_option_data)"
   ]
  },
  {
   "cell_type": "markdown",
   "metadata": {},
   "source": [
    "## Variable analysis\n",
    "This shows graphs of how each variable impacts x. Change the sliders and then reload the graphs to see how the graphs change. These are ussed to asses the impact of differences in variables. For example, the difference in x between a payment multiplier of 1 and 2 is much larger than the difference in x between a payment multiplier of 2 and 3."
   ]
  },
  {
   "cell_type": "code",
   "execution_count": 11,
   "metadata": {},
   "outputs": [
    {
     "data": {
      "application/vnd.jupyter.widget-view+json": {
       "model_id": "49acc178fc5f44e4b5e99b3d86fb5bd2",
       "version_major": 2,
       "version_minor": 0
      },
      "text/plain": [
       "Button(description='Reload Graphs', style=ButtonStyle())"
      ]
     },
     "metadata": {},
     "output_type": "display_data"
    },
    {
     "data": {
      "image/png": "[encoded data removed]",
      "text/plain": [
       "<Figure size 432x288 with 1 Axes>"
      ]
     },
     "metadata": {
      "needs_background": "light"
     },
     "output_type": "display_data"
    },
    {
     "data": {
      "image/png": "[encoded data removed]",
      "text/plain": [
       "<Figure size 432x288 with 1 Axes>"
      ]
     },
     "metadata": {
      "needs_background": "light"
     },
     "output_type": "display_data"
    },
    {
     "data": {
      "image/png": "[encoded data removed]",
      "text/plain": [
       "<Figure size 432x288 with 1 Axes>"
      ]
     },
     "metadata": {
      "needs_background": "light"
     },
     "output_type": "display_data"
    },
    {
     "data": {
      "image/png": "[encoded data removed]",
      "text/plain": [
       "<Figure size 432x288 with 1 Axes>"
      ]
     },
     "metadata": {
      "needs_background": "light"
     },
     "output_type": "display_data"
    },
    {
     "data": {
      "image/png": "[encoded data removed]",
      "text/plain": [
       "<Figure size 432x288 with 1 Axes>"
      ]
     },
     "metadata": {
      "needs_background": "light"
     },
     "output_type": "display_data"
    },
    {
     "data": {
      "image/png": "[encoded data removed]",
      "text/plain": [
       "<Figure size 432x288 with 1 Axes>"
      ]
     },
     "metadata": {
      "needs_background": "light"
     },
     "output_type": "display_data"
    },
    {
     "data": {
      "image/png": "[encoded data removed]",
      "text/plain": [
       "<Figure size 432x288 with 1 Axes>"
      ]
     },
     "metadata": {
      "needs_background": "light"
     },
     "output_type": "display_data"
    }
   ],
   "source": [
    "reload_graphs(None)\n",
    "reload_graphs_button.on_click(reload_graphs)"
   ]
  },
  {
   "cell_type": "markdown",
   "metadata": {},
   "source": [
    "## 2 Options Analysis\n",
    "This is an analysis that compairs two house options"
   ]
  },
  {
   "cell_type": "code",
   "execution_count": 45,
   "metadata": {},
   "outputs": [],
   "source": [
    "housePrice = 200\n",
    "downPayment = 60\n",
    "intrestRate = 3\n",
    "term = 30\n",
    "privateMortgageInsurancePct = 0\n",
    "minPaymentMuliplyer = 2\n",
    "specificPaymentAmount = None"
   ]
  },
  {
   "cell_type": "code",
   "execution_count": 46,
   "metadata": {},
   "outputs": [
    {
     "name": "stdout",
     "output_type": "stream",
     "text": [
      "Option 1\n",
      "Minimum monthly payment = $632.41 and actual monthly payment = $1264.81\n",
      "You will spend $228k on your house in 11.75 years (x=1.14)\n",
      "Months paid with PMI = 0 months and total PMI amount = $0\n",
      "Option 2\n",
      "Minimum monthly payment = $674.57 and actual monthly payment = $1349.13\n",
      "You will spend $230k on your house in 11.75 years (x=1.15)\n",
      "Months paid with PMI = 0 months and total PMI amount = $0\n",
      "Option 1 is -0.01 more than Option 2\n",
      "Option 1 is $-1.88k more than Option 2\n"
     ]
    }
   ],
   "source": [
    "\n",
    "downPayment = 50\n",
    "x, totalmonths, minPayment, payment, totalmonthsWithPMI, totalPMI = calculateX(intrestRate, housePrice, downPayment, term, privateMortgageInsurancePct,minPaymentMuliplyer,specificPaymentAmount)\n",
    "option1 = x\n",
    "print(\"Option 1\")\n",
    "print(\"Minimum monthly payment = $\"+str(round(minPayment,2))+\" and actual monthly payment = $\"+str(round(payment,2)))\n",
    "print(\"You will spend $\"+str(int(x*housePrice))+\"k on your house in \"+str(round(totalmonths/12,2))+\" years (x=\"+str(round(x,2))+\")\")\n",
    "print(\"Months paid with PMI = \"+str(round(totalmonthsWithPMI,2))+\" months and total PMI amount = $\"+str(round(totalPMI,2)))\n",
    "    \n",
    "downPayment = 40\n",
    "x, totalmonths, minPayment, payment, totalmonthsWithPMI, totalPMI = calculateX(intrestRate, housePrice, downPayment, term, privateMortgageInsurancePct,minPaymentMuliplyer,specificPaymentAmount)\n",
    "option2 = x\n",
    "print(\"Option 2\")\n",
    "print(\"Minimum monthly payment = $\"+str(round(minPayment,2))+\" and actual monthly payment = $\"+str(round(payment,2)))\n",
    "print(\"You will spend $\"+str(int(x*housePrice))+\"k on your house in \"+str(round(totalmonths/12,2))+\" years (x=\"+str(round(x,2))+\")\")\n",
    "print(\"Months paid with PMI = \"+str(round(totalmonthsWithPMI,2))+\" months and total PMI amount = $\"+str(round(totalPMI,2)))\n",
    "\n",
    "xdiff = option1-option2\n",
    "print('Option 1 is '+str(round(xdiff,2))+' more than Option 2')\n",
    "expensesdiff = option1*housePrice - option2*housePrice\n",
    "print('Option 1 is $'+str(round(expensesdiff,2))+'k more than Option 2')"
   ]
  },
  {
   "cell_type": "code",
   "execution_count": null,
   "metadata": {},
   "outputs": [],
   "source": []
  }
 ],
 "metadata": {
  "kernelspec": {
   "display_name": "Python 3",
   "language": "python",
   "name": "python3"
  },
  "language_info": {
   "codemirror_mode": {
    "name": "ipython",
    "version": 3
   },
   "file_extension": ".py",
   "mimetype": "text/x-python",
   "name": "python",
   "nbconvert_exporter": "python",
   "pygments_lexer": "ipython3",
   "version": "3.7.6"
  }
 },
 "nbformat": 4,
 "nbformat_minor": 4
}
