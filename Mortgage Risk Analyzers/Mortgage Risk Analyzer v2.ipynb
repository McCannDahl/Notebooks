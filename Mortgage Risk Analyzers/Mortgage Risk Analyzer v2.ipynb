{
 "cells": [
  {
   "cell_type": "markdown",
   "metadata": {},
   "source": [
    "# Mortgage Risk Analyzer v2"
   ]
  },
  {
   "cell_type": "markdown",
   "metadata": {},
   "source": [
    "## Intro\n",
    "This is a simplification of v1.  \n",
    "Goal: minimize x  \n",
    "where x = expenses / housePrice  \n",
    "and where expenses = payments + interest  "
   ]
  },
  {
   "cell_type": "markdown",
   "metadata": {},
   "source": [
    "## Inputs\n",
    "Set your input variables"
   ]
  },
  {
   "cell_type": "code",
   "execution_count": 40,
   "metadata": {},
   "outputs": [
    {
     "data": {
      "application/vnd.jupyter.widget-view+json": {
       "model_id": "7a331033e3914dd19c09d275a32ce4b0",
       "version_major": 2,
       "version_minor": 0
      },
      "text/plain": [
       "FloatSlider(value=3.0, description='Intrest Rate (%)', max=10.0, min=1.0, step=0.01, style=SliderStyle(descrip…"
      ]
     },
     "metadata": {},
     "output_type": "display_data"
    },
    {
     "data": {
      "application/vnd.jupyter.widget-view+json": {
       "model_id": "88422783d04c4f4d951bffea80d60463",
       "version_major": 2,
       "version_minor": 0
      },
      "text/plain": [
       "IntSlider(value=200, description='House Price ($k)', max=1000, min=100, style=SliderStyle(description_width='i…"
      ]
     },
     "metadata": {},
     "output_type": "display_data"
    },
    {
     "data": {
      "application/vnd.jupyter.widget-view+json": {
       "model_id": "39776c34592e43c2b14000c699d5982d",
       "version_major": 2,
       "version_minor": 0
      },
      "text/plain": [
       "IntSlider(value=50, description='Down Payment ($k)', min=1, style=SliderStyle(description_width='initial'))"
      ]
     },
     "metadata": {},
     "output_type": "display_data"
    },
    {
     "data": {
      "application/vnd.jupyter.widget-view+json": {
       "model_id": "5c026adbf2e94be09538178e270698b7",
       "version_major": 2,
       "version_minor": 0
      },
      "text/plain": [
       "IntSlider(value=30, description='Term (years)', max=60, min=1, style=SliderStyle(description_width='initial'))"
      ]
     },
     "metadata": {},
     "output_type": "display_data"
    },
    {
     "data": {
      "application/vnd.jupyter.widget-view+json": {
       "model_id": "9640b17fbcc043499cfc92926994c19b",
       "version_major": 2,
       "version_minor": 0
      },
      "text/plain": [
       "FloatSlider(value=1.0, description='Payment Multiplier (%)', max=5.0, min=1.0, style=SliderStyle(description_w…"
      ]
     },
     "metadata": {},
     "output_type": "display_data"
    }
   ],
   "source": [
    "import ipywidgets as widgets\n",
    "input_sliders = [None,None,None,None,None]\n",
    "input_sliders[0] = widgets.FloatSlider(\n",
    "    value=3,\n",
    "    min=1,\n",
    "    max=10,\n",
    "    step=0.01,\n",
    "    description='Intrest Rate (%)',\n",
    "    style={'description_width': 'initial'},\n",
    ")\n",
    "display(input_sliders[0])\n",
    "input_sliders[1] = widgets.IntSlider(\n",
    "    value=200,\n",
    "    min=100,\n",
    "    max=1000,\n",
    "    description='House Price ($k)',\n",
    "    style={'description_width': 'initial'},\n",
    ")\n",
    "display(input_sliders[1])\n",
    "input_sliders[2] = widgets.IntSlider(\n",
    "    value=50,\n",
    "    min=1,\n",
    "    max=100,\n",
    "    description='Down Payment ($k)',\n",
    "    style={'description_width': 'initial'},\n",
    ")\n",
    "display(input_sliders[2])\n",
    "input_sliders[3] = widgets.IntSlider(\n",
    "    value=30,\n",
    "    min=1,\n",
    "    max=60,\n",
    "    description='Term (years)',\n",
    "    style={'description_width': 'initial'},\n",
    ")\n",
    "display(input_sliders[3])\n",
    "input_sliders[4] = widgets.FloatSlider(\n",
    "    value=1,\n",
    "    min=1,\n",
    "    max=5,\n",
    "    description='Payment Multiplier (%)',\n",
    "    style={'description_width': 'initial'},\n",
    ")\n",
    "display(input_sliders[4])"
   ]
  },
  {
   "cell_type": "markdown",
   "metadata": {},
   "source": [
    "## Implementation\n",
    "We will consider the following variables. Let's define a range for each."
   ]
  },
  {
   "cell_type": "code",
   "execution_count": 41,
   "metadata": {},
   "outputs": [],
   "source": [
    "variables = [\n",
    "    [x / 100  for x in range(int(input_sliders[0].min), int(input_sliders[0].max), 1)],\n",
    "    [x * 1000  for x in range(int(input_sliders[1].min), int(input_sliders[1].max), 1000)],\n",
    "    [x * 1000  for x in range(int(input_sliders[2].min), int(input_sliders[2].max), 100)],\n",
    "    [x for x in range(int(input_sliders[3].min), int(input_sliders[3].max), 1)],\n",
    "    [x for x in range(int(input_sliders[4].min), int(input_sliders[4].max), 1)],\n",
    "]"
   ]
  },
  {
   "cell_type": "markdown",
   "metadata": {},
   "source": [
    "This function calculates x. It goes through each month and calculates the monthly payment amount, & intrest."
   ]
  },
  {
   "cell_type": "code",
   "execution_count": 42,
   "metadata": {},
   "outputs": [],
   "source": [
    "def calculateX(intrestRate, housePrice, downPayment, term, minPaymentMuliplyer):\n",
    "    n = 12*term\n",
    "    monthlyInterestRate = intrestRate / 12\n",
    "    r = 1/(1+monthlyInterestRate)\n",
    "    loan = housePrice - downPayment\n",
    "    minPayment = loan * ((1-r)/(r-r**(n+1)))\n",
    "    payment = minPayment * minPaymentMuliplyer\n",
    "    paymentSum = 0\n",
    "    while loan > 1:\n",
    "        # 1 month passes\n",
    "        interest = loan * monthlyInterestRate\n",
    "        \n",
    "        p = payment\n",
    "        if interest + loan < payment:\n",
    "            p = interest + loan\n",
    "        \n",
    "        loan = loan - p + interest\n",
    "        paymentSum += p\n",
    "    expenses = paymentSum + downPayment\n",
    "    x = expenses / housePrice\n",
    "    return x\n",
    "    \n",
    "        "
   ]
  },
  {
   "cell_type": "code",
   "execution_count": 43,
   "metadata": {},
   "outputs": [],
   "source": [
    "import matplotlib.pyplot as plt\n",
    "def graph(x,y,xlabel):\n",
    "    plt.figure()\n",
    "    plt.xlabel(xlabel)\n",
    "    plt.ylabel('x')\n",
    "    plt.plot(x, y, '-ok')\n",
    "    plt.show()"
   ]
  },
  {
   "cell_type": "markdown",
   "metadata": {},
   "source": [
    "## Execution\n",
    "Now lets go through each variable and calculate x for each. See the graphs output below."
   ]
  },
  {
   "cell_type": "code",
   "execution_count": null,
   "metadata": {},
   "outputs": [
    {
     "data": {
      "image/png": "[encoded data removed]",
      "text/plain": [
       "<Figure size 432x288 with 1 Axes>"
      ]
     },
     "metadata": {
      "needs_background": "light"
     },
     "output_type": "display_data"
    }
   ],
   "source": [
    "for i,var in enumerate(variables):\n",
    "    a = input_sliders[0].value\n",
    "    b = input_sliders[1].value\n",
    "    c = input_sliders[2].value\n",
    "    d = input_sliders[3].value\n",
    "    e = input_sliders[4].value\n",
    "    output = []\n",
    "    xlabel = ''\n",
    "    for v in var:\n",
    "        if i == 0:\n",
    "            a = v\n",
    "            xlabel = 'Intrest Rate (%)'\n",
    "        if i == 1:\n",
    "            b = v\n",
    "            xlabel = 'Home Price ($)'\n",
    "        if i == 2:\n",
    "            c = v\n",
    "            xlabel = 'Down Payment (%)'\n",
    "        if i == 3:\n",
    "            d = v\n",
    "            xlabel = 'Term (years)'\n",
    "        if i == 4:\n",
    "            e = v\n",
    "            xlabel = 'Minimum Payment Multiplyer'\n",
    "        output.append(calculateX(a,b,c,d,e))\n",
    "    graph(var, output, xlabel)"
   ]
  },
  {
   "cell_type": "markdown",
   "metadata": {},
   "source": [
    "## Interpretation\n",
    "1. There is a positive relationship between x and interest rate as expected. Example:  \n",
    "intrest rate of 5% vs 7% assuming house price of \\\\$500,000  \n",
    "If interest rate = 5%, then x = 1.2. If x = 1.2, then this means than the adjusted house price is \\\\$600k  \n",
    "If interest rate = 7%, then x = 1.25. If x = 1.25, then this means than the adjusted house price is \\\\$625k  \n",
    "Therefore 2% increase in interest rate roughfly equals an increase of \\\\$25k that we would have to pay.  \n",
    "\n",
    "2. There is no relationship between x and home price, meaning that the ratio of \"Adjusted House Price\" to \"House Price\" remains constant as House Price changes.\n",
    "\n",
    "3. There is a linear relationship between x and down payment, and term.\n",
    "\n",
    "4. The most interesting find is the last graph. There seems to be an inverse relationship between x and the \"Minimum Payment Multiplyer\". This means that if one can pay twice the minimum payment per month, there are large savings. However, the difference between twice the minimum payment per month and tree times the minimum payment per month is not as much. See below for an example of this analysis."
   ]
  },
  {
   "cell_type": "code",
   "execution_count": 9,
   "metadata": {},
   "outputs": [
    {
     "name": "stdout",
     "output_type": "stream",
     "text": [
      "If a house costs 500000\n",
      "Option 1 x = 1.5222323919924534\n",
      "Option 2 x = 1.1502159810905208\n",
      "Option 2 is $186008.21 more than Option 1\n"
     ]
    }
   ],
   "source": [
    "housePrice = 500000\n",
    "print('If a house costs '+str(housePrice))\n",
    "\n",
    "intrestRate = 0.05\n",
    "downPayment = housePrice * 0.20\n",
    "term = 30\n",
    "taxRate = 0.30\n",
    "minPaymentMuliplyer = 1\n",
    "option1 = calculateX(intrestRate, housePrice, downPayment, term, taxRate, minPaymentMuliplyer) # the lesw better option\n",
    "print('Option 1 x = '+str(option1))\n",
    "\n",
    "minPaymentMuliplyer = 2\n",
    "option2 = calculateX(intrestRate, housePrice, downPayment, term, taxRate, minPaymentMuliplyer) # the better option\n",
    "print('Option 2 x = '+str(option2))\n",
    "\n",
    "diff = option1 - option2\n",
    "dollarsDiff = housePrice * diff\n",
    "print('Option 2 is $'+str(round(dollarsDiff,2))+' more than Option 1')"
   ]
  },
  {
   "cell_type": "markdown",
   "metadata": {},
   "source": [
    "## Conclusion\n",
    "So if you can pay 2 times the minimum monthly amount, then you save \\\\$186k on a \\\\$500k house. There are many other assumptions I didn't consider. But this is a start."
   ]
  },
  {
   "cell_type": "code",
   "execution_count": null,
   "metadata": {},
   "outputs": [],
   "source": []
  }
 ],
 "metadata": {
  "kernelspec": {
   "display_name": "Python 3",
   "language": "python",
   "name": "python3"
  },
  "language_info": {
   "codemirror_mode": {
    "name": "ipython",
    "version": 3
   },
   "file_extension": ".py",
   "mimetype": "text/x-python",
   "name": "python",
   "nbconvert_exporter": "python",
   "pygments_lexer": "ipython3",
   "version": "3.7.6"
  }
 },
 "nbformat": 4,
 "nbformat_minor": 4
}
