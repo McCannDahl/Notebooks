{
 "cells": [
  {
   "cell_type": "markdown",
   "metadata": {},
   "source": [
    "# Mortgage Risk Analyzer v5\n",
    "created Oct 2022"
   ]
  },
  {
   "cell_type": "markdown",
   "metadata": {},
   "source": [
    "## Intro\n",
    "I created this document to help myself and others realized the financtal implications of buying a home.\n",
    "Adjust the sliders and see the inpact on the output below"
   ]
  },
  {
   "cell_type": "code",
   "execution_count": 1,
   "metadata": {},
   "outputs": [
    {
     "data": {
      "text/html": [
       "<style>\n",
       ".output_wrapper, .output {\n",
       "    height:auto !important;\n",
       "    max-height:1000px;  /* your desired max-height here */\n",
       "}\n",
       ".output_scroll {\n",
       "    box-shadow:none !important;\n",
       "    webkit-box-shadow:none !important;\n",
       "}\n",
       ".jp-OutputArea {\n",
       "    overflow-y: unset !important;\n",
       "}\n",
       ".widget-box {\n",
       "    overflow: unset !important;\n",
       "}\n",
       "</style>\n"
      ],
      "text/plain": [
       "<IPython.core.display.HTML object>"
      ]
     },
     "metadata": {},
     "output_type": "display_data"
    }
   ],
   "source": [
    "%%html\n",
    "<style>\n",
    ".output_wrapper, .output {\n",
    "    height:auto !important;\n",
    "    max-height:1000px;  /* your desired max-height here */\n",
    "}\n",
    ".output_scroll {\n",
    "    box-shadow:none !important;\n",
    "    webkit-box-shadow:none !important;\n",
    "}\n",
    ".jp-OutputArea {\n",
    "    overflow-y: unset !important;\n",
    "}\n",
    ".widget-box {\n",
    "    overflow: unset !important;\n",
    "}\n",
    "</style>"
   ]
  },
  {
   "cell_type": "code",
   "execution_count": 2,
   "metadata": {
    "hide_input": false,
    "scrolled": true
   },
   "outputs": [],
   "source": [
    "import ipywidgets as widgets\n",
    "width='95%'\n",
    "input_sliders = []\n",
    "input_sliders.append(widgets.FloatSlider(value=3,min=1,max=10,step=0.01,description='Intrest Rate (%/yr)',style={'description_width': 'initial'},layout=widgets.Layout(width=width)))\n",
    "input_sliders.append(widgets.IntSlider(value=300,min=100,max=1000,description='House Price ($k)',style={'description_width': 'initial'},layout=widgets.Layout(width=width)))\n",
    "input_sliders.append(widgets.IntSlider(value=60,min=1,max=100,description='Down Payment ($k)',style={'description_width': 'initial'},layout=widgets.Layout(width=width)))\n",
    "input_sliders.append(widgets.IntSlider(value=30,min=1,max=60,description='Term (years)',style={'description_width': 'initial'},layout=widgets.Layout(width=width)))\n",
    "input_sliders.append(widgets.FloatSlider(value=2,min=0,max=5,description='Private Mortgage Insurance (%/yr)',style={'description_width': 'initial'},layout=widgets.Layout(width=width)))\n",
    "input_sliders.append(widgets.FloatSlider(value=1,min=1,max=5,description='Payment Multiplier (%)',style={'description_width': 'initial'},layout=widgets.Layout(width=width)))\n",
    "input_sliders.append(widgets.IntSlider(value=1500,min=500,max=5000,description='Specific Payment Amount ($)',style={'description_width': 'initial'},layout=widgets.Layout(width=width)))\n",
    "input_radios = widgets.RadioButtons(\n",
    "    options=['Use Payment Multiplier', 'Use Specific Payment Amount'],\n",
    "    description=\"Payment Choice\"\n",
    ")\n",
    "\n",
    "onetime_sliders = []\n",
    "onetime_sliders.append(widgets.FloatSlider(value=2,min=1,max=5,description='Closing Costs (%)',style={'description_width': 'initial'},layout=widgets.Layout(width=width)))\n",
    "onetime_sliders.append(widgets.IntSlider(value=350,min=300,max=400,description='Appraisal Fee ($)',style={'description_width': 'initial'},layout=widgets.Layout(width=width)))\n",
    "onetime_sliders.append(widgets.IntSlider(value=400,min=300,max=500,description='Inspection Fee ($)',style={'description_width': 'initial'},layout=widgets.Layout(width=width)))\n",
    "onetime_sliders.append(widgets.IntSlider(value=0,min=0,max=5000,description='Paint ($)',style={'description_width': 'initial'},layout=widgets.Layout(width=width)))\n",
    "onetime_sliders.append(widgets.IntSlider(value=0,min=0,max=5000,description='Cabinets ($)',style={'description_width': 'initial'},layout=widgets.Layout(width=width)))\n",
    "onetime_sliders.append(widgets.IntSlider(value=0,min=0,max=5000,description='Appliances ($)',style={'description_width': 'initial'},layout=widgets.Layout(width=width)))\n",
    "onetime_sliders.append(widgets.IntSlider(value=0,min=0,max=5000,description='Furniture ($)',style={'description_width': 'initial'},layout=widgets.Layout(width=width)))\n",
    "onetime_sliders.append(widgets.IntSlider(value=0,min=0,max=5000,description='Windows ($)',style={'description_width': 'initial'},layout=widgets.Layout(width=width)))\n",
    "onetime_sliders.append(widgets.IntSlider(value=0,min=0,max=5000,description='Roof ($)',style={'description_width': 'initial'},layout=widgets.Layout(width=width)))\n",
    "onetime_sliders.append(widgets.IntSlider(value=0,min=0,max=5000,description='Tile ($)',style={'description_width': 'initial'},layout=widgets.Layout(width=width)))\n",
    "onetime_sliders.append(widgets.IntSlider(value=0,min=0,max=5000,description='Carpet ($)',style={'description_width': 'initial'},layout=widgets.Layout(width=width)))\n",
    "onetime_sliders.append(widgets.IntSlider(value=0,min=0,max=5000,description='Lawn ($)',style={'description_width': 'initial'},layout=widgets.Layout(width=width)))\n",
    "onetime_sliders.append(widgets.IntSlider(value=0,min=0,max=5000,description='Doors ($)',style={'description_width': 'initial'},layout=widgets.Layout(width=width)))\n",
    "\n",
    "\n",
    "lifetime_sliders = []\n",
    "lifetime_sliders.append(widgets.IntSlider(value=600,min=500,max=5000,description='Home Insurance ($/yr)',style={'description_width': 'initial'},layout=widgets.Layout(width=width)))\n",
    "lifetime_sliders.append(widgets.IntSlider(value=200,min=0,max=700,description='HOA contribution ($/mo)',style={'description_width': 'initial'},layout=widgets.Layout(width=width)))\n",
    "lifetime_sliders.append(widgets.FloatSlider(value=4.5,min=0,max=200,description='Property Taxes ($k/yr)',style={'description_width': 'initial'},layout=widgets.Layout(width=width)))\n",
    "lifetime_sliders.append(widgets.IntSlider(value=300,min=0,max=1000,description='Utilities ($/mo)',style={'description_width': 'initial'},layout=widgets.Layout(width=width)))\n"
   ]
  },
  {
   "cell_type": "code",
   "execution_count": 3,
   "metadata": {
    "scrolled": true
   },
   "outputs": [],
   "source": [
    "def calculateX(intrestRate, housePrice, downPayment, term, privateMortgageInsurancePct=0, minPaymentMuliplyer=1, specificPaymentAmount=None):\n",
    "    intrestRate = intrestRate/100\n",
    "    housePrice = housePrice*1000\n",
    "    downPayment = downPayment*1000\n",
    "    privateMortgageInsurancePct = privateMortgageInsurancePct/100/12 # monthly pmi\n",
    "    \n",
    "    #print('Calculating x for ',intrestRate,' ',housePrice,' ',downPayment,' ',term,' ',minPaymentMuliplyer)\n",
    "    n = 12*term\n",
    "    monthlyInterestRate = intrestRate / 12\n",
    "    #print(\"monthlyInterestRate =\",monthlyInterestRate)\n",
    "    r = 1/(1+monthlyInterestRate)\n",
    "    loan = housePrice - downPayment\n",
    "    #print(\"loan =\",loan)\n",
    "    minPayment = loan * ((1-r)/(r-r**(n+1)))\n",
    "    #print(\"minpayment =\",minPayment)\n",
    "    payment = minPayment * minPaymentMuliplyer\n",
    "    if specificPaymentAmount:\n",
    "        payment = specificPaymentAmount\n",
    "    #print(\"payment =\",payment)\n",
    "    \n",
    "    paymentSum = 0\n",
    "    totalmonths = 0\n",
    "    totalmonthsWithPMI = 0\n",
    "    totalprivateMortgageInsurance = 0\n",
    "    balance = loan\n",
    "    \n",
    "    while balance > 1:\n",
    "        #print('balance ',balance)\n",
    "        # 1 month passes\n",
    "        interest = balance * monthlyInterestRate\n",
    "        #print('interest ',interest)\n",
    "        \n",
    "        p = payment\n",
    "        #print('payment ',p)\n",
    "        if interest + balance < payment:\n",
    "            p = interest + balance\n",
    "        \n",
    "        privateMortgageInsurance = 0\n",
    "        if ((paymentSum + downPayment) < loan * 0.2) and (totalmonths < term*12/2):\n",
    "            privateMortgageInsurance = privateMortgageInsurancePct*loan\n",
    "            totalmonthsWithPMI += 1\n",
    "            totalprivateMortgageInsurance += privateMortgageInsurance\n",
    "        \n",
    "        if p < interest:\n",
    "            #print('error. payment too small ',intrestRate,' ',housePrice,' ',downPayment,' ',term,' ',minPaymentMuliplyer)\n",
    "            return 0,0,0,0,0,0\n",
    "            \n",
    "        balance = balance - (p) + (interest)\n",
    "        paymentSum += p\n",
    "        totalmonths += 1\n",
    "    expenses = paymentSum + downPayment + totalprivateMortgageInsurance\n",
    "    x = expenses / housePrice\n",
    "    return x, totalmonths, minPayment, payment, totalmonthsWithPMI, totalprivateMortgageInsurance\n",
    "    \n",
    "        "
   ]
  },
  {
   "cell_type": "code",
   "execution_count": 4,
   "metadata": {
    "scrolled": true
   },
   "outputs": [],
   "source": [
    "def calculateOneTimeExpenses(housePrice, downPayment, closingCostsPrct=0, appraisalFee=0, inspectionFee=0):\n",
    "    housePrice = housePrice*1000\n",
    "    downPayment = downPayment*1000\n",
    "    closingCostsPrct = closingCostsPrct/100\n",
    "    loan = housePrice - downPayment\n",
    "    closingCosts = closingCostsPrct*loan\n",
    "    return closingCosts + appraisalFee + inspectionFee"
   ]
  },
  {
   "cell_type": "code",
   "execution_count": 5,
   "metadata": {
    "scrolled": true
   },
   "outputs": [],
   "source": [
    "def calculateLifetimeExpensesPerMonth(homeInsurance,HOA,propertyTaxes,utilities):\n",
    "    return homeInsurance/12 + HOA + propertyTaxes*1000/12 + utilities\n"
   ]
  },
  {
   "cell_type": "code",
   "execution_count": 6,
   "metadata": {
    "scrolled": false
   },
   "outputs": [],
   "source": [
    "def input_slider_values():\n",
    "    values = []\n",
    "    for s in input_sliders:\n",
    "        values.append(s.value)\n",
    "    return values\n",
    "def onetime_slider_values():\n",
    "    values = []\n",
    "    for s in onetime_sliders:\n",
    "        values.append(s.value) \n",
    "    return values\n",
    "def lifetime_slider_values():\n",
    "    values = []\n",
    "    for s in lifetime_sliders:\n",
    "        values.append(s.value)\n",
    "    return values\n"
   ]
  },
  {
   "cell_type": "code",
   "execution_count": 7,
   "metadata": {
    "scrolled": true
   },
   "outputs": [],
   "source": [
    "import matplotlib.pyplot as plt\n",
    "%matplotlib inline\n",
    "def mccgraph(x,y,xlabel):\n",
    "    #plt.figure()\n",
    "    plt.xlabel(xlabel)\n",
    "    plt.ylabel('x')\n",
    "    plt.plot(x, y, '-ok')\n",
    "    plt.show()"
   ]
  },
  {
   "cell_type": "code",
   "execution_count": 8,
   "metadata": {
    "scrolled": true
   },
   "outputs": [],
   "source": [
    "def show_comparitive_graphs(v0,v1,v2,v3,v4,v5,v6):\n",
    "    variables = []\n",
    "    for s in input_sliders:\n",
    "        smin = int(s.min*100)\n",
    "        smax = int(s.max*100)\n",
    "        diff = smax-smin\n",
    "        points_per_graph = 20\n",
    "        step = int(diff/points_per_graph)\n",
    "        variables.append([x / 100 for x in range(smin, smax, step)])\n",
    "    for i,var in enumerate(variables):\n",
    "        #print(var)\n",
    "        values = input_slider_values()\n",
    "        output = []\n",
    "        xlabel = ''\n",
    "        xvalues = []\n",
    "        for v in var:\n",
    "            #print(v)\n",
    "            values[i] = v\n",
    "            xlabel = input_sliders[i].description\n",
    "            x, totalmonths, minPayment, payment, totalmonthsWithPMI, totalPMI = calculateX(values[0],values[1],values[2],values[3],values[4],values[5],values[6])\n",
    "            if x>0:\n",
    "                output.append(x)\n",
    "                xvalues.append(v)\n",
    "        mccgraph(xvalues, output, xlabel)\n",
    "    #plt.show()"
   ]
  },
  {
   "cell_type": "code",
   "execution_count": 9,
   "metadata": {
    "scrolled": false
   },
   "outputs": [],
   "source": [
    "def show_output1(v0,v1,v2,v3,v4,v5,v6,r1,o0,o1,o2,o3,o4,o5,o6,o7,o8,o9,o10,o11,o12,l0,l1,l2,l3):\n",
    "    houseprice = v1\n",
    "    if (r1 == 'Use Payment Multiplier'):\n",
    "        v6 = None\n",
    "    else:\n",
    "        v5 = 1\n",
    "    print(\"House Price: \"+int_to_string(houseprice)+\"k\")\n",
    "    x, totalmonths, minPayment, payment, totalmonthsWithPMI, totalPMI = calculateX(v0,v1,v2,v3,v4,v5,v6)\n",
    "    print(\"Minimum monthly payment = \"+int_to_string(minPayment)+\" and your chosen monthly payment = \"+int_to_string(payment))\n",
    "    print(\"You will spend \"+int_to_string(x*houseprice)+\"k on your mortgage in \"+str(round(totalmonths/12,2))+\" years (x=\"+str(round(x,2))+\")\")\n",
    "    print(\"Months paid with PMI = \"+str(round(totalmonthsWithPMI,2))+\" months and total PMI amount = \"+int_to_string(totalPMI))\n",
    "    onetime_total = int(houseprice*(o0/100)*1000 + o1 + o2 + o3 + o4 + o5 + o6 + o7 + o8 + o9 + o10 + o11 + o12)\n",
    "    print(\"You will have a one-time payment of \"+int_to_string(onetime_total))\n",
    "    totalPrice = int(x*houseprice*1000) + onetime_total\n",
    "    print(\"The total price of your house including mortgage and one-time costs is \"+int_to_string(totalPrice))\n",
    "    lifetime_total = l0 + l1*12 + l2*1000 + l3*12\n",
    "    print(\"Additionally every year you will pay \"+int_to_string(lifetime_total)+\"/yr\")\n",
    "def show_output2(v0,v1,v2,v3,v4,v5,v6):\n",
    "    show_comparitive_graphs(v0,v1,v2,v3,v4,v5,v6)\n",
    "    \n",
    "\n",
    "def int_to_string(v):\n",
    "    return '${:,.0f}'.format(v)\n",
    "\n",
    "interactive_plot1= widgets.interactive_output(show_output1, {\n",
    " 'v0':input_sliders[0]\n",
    ", 'v1':input_sliders[1]\n",
    ", 'v2':input_sliders[2]\n",
    ", 'v3':input_sliders[3]\n",
    ", 'v4':input_sliders[4]\n",
    ", 'v5':input_sliders[5]\n",
    ", 'v6':input_sliders[6]\n",
    ", 'r1':input_radios\n",
    ", 'o0':onetime_sliders[0]\n",
    ", 'o1':onetime_sliders[1]\n",
    ", 'o2':onetime_sliders[2]\n",
    ", 'o3':onetime_sliders[3]\n",
    ", 'o4':onetime_sliders[4]\n",
    ", 'o5':onetime_sliders[5]\n",
    ", 'o6':onetime_sliders[6]\n",
    ", 'o7':onetime_sliders[7]\n",
    ", 'o8':onetime_sliders[8]\n",
    ", 'o9':onetime_sliders[9]\n",
    ", 'o10':onetime_sliders[10]\n",
    ", 'o11':onetime_sliders[11]\n",
    ", 'o12':onetime_sliders[12]\n",
    ", 'l0':lifetime_sliders[0]\n",
    ", 'l1':lifetime_sliders[1]\n",
    ", 'l2':lifetime_sliders[2]\n",
    ", 'l3':lifetime_sliders[3]\n",
    "})\n",
    "interactive_plot2= widgets.interactive_output(show_output2, {\n",
    " 'v0':input_sliders[0]\n",
    ", 'v1':input_sliders[1]\n",
    ", 'v2':input_sliders[2]\n",
    ", 'v3':input_sliders[3]\n",
    ", 'v4':input_sliders[4]\n",
    ", 'v5':input_sliders[5]\n",
    ", 'v6':input_sliders[6]\n",
    "})\n",
    "\n",
    "\n",
    "\n"
   ]
  },
  {
   "cell_type": "markdown",
   "metadata": {},
   "source": [
    "# Mortgage influencers"
   ]
  },
  {
   "cell_type": "code",
   "execution_count": 10,
   "metadata": {},
   "outputs": [
    {
     "data": {
      "application/vnd.jupyter.widget-view+json": {
       "model_id": "59836e37269f466baed7fd786fbb18e5",
       "version_major": 2,
       "version_minor": 0
      },
      "text/plain": [
       "FloatSlider(value=3.0, description='Intrest Rate (%/yr)', layout=Layout(width='95%'), max=10.0, min=1.0, step=…"
      ]
     },
     "metadata": {},
     "output_type": "display_data"
    },
    {
     "data": {
      "application/vnd.jupyter.widget-view+json": {
       "model_id": "205cc2ef37ce43efb7bace554cb02029",
       "version_major": 2,
       "version_minor": 0
      },
      "text/plain": [
       "IntSlider(value=300, description='House Price ($k)', layout=Layout(width='95%'), max=1000, min=100, style=Slid…"
      ]
     },
     "metadata": {},
     "output_type": "display_data"
    },
    {
     "data": {
      "application/vnd.jupyter.widget-view+json": {
       "model_id": "2b118882e60e41c081bcd53081cdc196",
       "version_major": 2,
       "version_minor": 0
      },
      "text/plain": [
       "IntSlider(value=60, description='Down Payment ($k)', layout=Layout(width='95%'), min=1, style=SliderStyle(desc…"
      ]
     },
     "metadata": {},
     "output_type": "display_data"
    },
    {
     "data": {
      "application/vnd.jupyter.widget-view+json": {
       "model_id": "b4a2c97914594a0299b9a94ac582e044",
       "version_major": 2,
       "version_minor": 0
      },
      "text/plain": [
       "IntSlider(value=30, description='Term (years)', layout=Layout(width='95%'), max=60, min=1, style=SliderStyle(d…"
      ]
     },
     "metadata": {},
     "output_type": "display_data"
    },
    {
     "data": {
      "application/vnd.jupyter.widget-view+json": {
       "model_id": "faef4ba060ad4c5284294a8b1b0c4fa5",
       "version_major": 2,
       "version_minor": 0
      },
      "text/plain": [
       "FloatSlider(value=2.0, description='Private Mortgage Insurance (%/yr)', layout=Layout(width='95%'), max=5.0, s…"
      ]
     },
     "metadata": {},
     "output_type": "display_data"
    },
    {
     "data": {
      "application/vnd.jupyter.widget-view+json": {
       "model_id": "a2159290afc543e497ca870512959de2",
       "version_major": 2,
       "version_minor": 0
      },
      "text/plain": [
       "FloatSlider(value=1.0, description='Payment Multiplier (%)', layout=Layout(width='95%'), max=5.0, min=1.0, sty…"
      ]
     },
     "metadata": {},
     "output_type": "display_data"
    },
    {
     "data": {
      "application/vnd.jupyter.widget-view+json": {
       "model_id": "55acae3c4fb5494aa856da4ccd38fb25",
       "version_major": 2,
       "version_minor": 0
      },
      "text/plain": [
       "IntSlider(value=1500, description='Specific Payment Amount ($)', layout=Layout(width='95%'), max=5000, min=500…"
      ]
     },
     "metadata": {},
     "output_type": "display_data"
    }
   ],
   "source": [
    "for input_slider in input_sliders:\n",
    "    display(input_slider)"
   ]
  },
  {
   "cell_type": "markdown",
   "metadata": {},
   "source": [
    "# One-time amounts"
   ]
  },
  {
   "cell_type": "code",
   "execution_count": 11,
   "metadata": {},
   "outputs": [
    {
     "data": {
      "application/vnd.jupyter.widget-view+json": {
       "model_id": "6cd9c62eea5246688232110938573e12",
       "version_major": 2,
       "version_minor": 0
      },
      "text/plain": [
       "FloatSlider(value=2.0, description='Closing Costs (%)', layout=Layout(width='95%'), max=5.0, min=1.0, style=Sl…"
      ]
     },
     "metadata": {},
     "output_type": "display_data"
    },
    {
     "data": {
      "application/vnd.jupyter.widget-view+json": {
       "model_id": "3a60c997086744d2a0884534947252b2",
       "version_major": 2,
       "version_minor": 0
      },
      "text/plain": [
       "IntSlider(value=350, description='Appraisal Fee ($)', layout=Layout(width='95%'), max=400, min=300, style=Slid…"
      ]
     },
     "metadata": {},
     "output_type": "display_data"
    },
    {
     "data": {
      "application/vnd.jupyter.widget-view+json": {
       "model_id": "a3e6a535e50243aeb1e7b86dbfbe82a5",
       "version_major": 2,
       "version_minor": 0
      },
      "text/plain": [
       "IntSlider(value=400, description='Inspection Fee ($)', layout=Layout(width='95%'), max=500, min=300, style=Sli…"
      ]
     },
     "metadata": {},
     "output_type": "display_data"
    }
   ],
   "source": [
    "for onetime_slider in onetime_sliders[:3]:\n",
    "    display(onetime_slider)"
   ]
  },
  {
   "cell_type": "markdown",
   "metadata": {},
   "source": [
    "# Home repairs"
   ]
  },
  {
   "cell_type": "code",
   "execution_count": 12,
   "metadata": {},
   "outputs": [
    {
     "data": {
      "application/vnd.jupyter.widget-view+json": {
       "model_id": "3478db1e4e9f43eba5e212d208bcb57d",
       "version_major": 2,
       "version_minor": 0
      },
      "text/plain": [
       "IntSlider(value=0, description='Paint ($)', layout=Layout(width='95%'), max=500, style=SliderStyle(description…"
      ]
     },
     "metadata": {},
     "output_type": "display_data"
    },
    {
     "data": {
      "application/vnd.jupyter.widget-view+json": {
       "model_id": "446623dc989e423ca3abfefa8c2423fe",
       "version_major": 2,
       "version_minor": 0
      },
      "text/plain": [
       "IntSlider(value=0, description='Cabinets ($)', layout=Layout(width='95%'), max=500, style=SliderStyle(descript…"
      ]
     },
     "metadata": {},
     "output_type": "display_data"
    },
    {
     "data": {
      "application/vnd.jupyter.widget-view+json": {
       "model_id": "3e40b8b567184e81b28533cee998dbf0",
       "version_major": 2,
       "version_minor": 0
      },
      "text/plain": [
       "IntSlider(value=0, description='Appliances ($)', layout=Layout(width='95%'), max=500, style=SliderStyle(descri…"
      ]
     },
     "metadata": {},
     "output_type": "display_data"
    },
    {
     "data": {
      "application/vnd.jupyter.widget-view+json": {
       "model_id": "a4432e73bc4a447e81355658ccca5a51",
       "version_major": 2,
       "version_minor": 0
      },
      "text/plain": [
       "IntSlider(value=0, description='Furniture ($)', layout=Layout(width='95%'), max=500, style=SliderStyle(descrip…"
      ]
     },
     "metadata": {},
     "output_type": "display_data"
    },
    {
     "data": {
      "application/vnd.jupyter.widget-view+json": {
       "model_id": "64d9bdc3e0264dd5ac69aa41b66c640c",
       "version_major": 2,
       "version_minor": 0
      },
      "text/plain": [
       "IntSlider(value=0, description='Windows ($)', layout=Layout(width='95%'), max=500, style=SliderStyle(descripti…"
      ]
     },
     "metadata": {},
     "output_type": "display_data"
    },
    {
     "data": {
      "application/vnd.jupyter.widget-view+json": {
       "model_id": "9571deb5ebce43f082667ddeddb13f1d",
       "version_major": 2,
       "version_minor": 0
      },
      "text/plain": [
       "IntSlider(value=0, description='Roof ($)', layout=Layout(width='95%'), max=500, style=SliderStyle(description_…"
      ]
     },
     "metadata": {},
     "output_type": "display_data"
    },
    {
     "data": {
      "application/vnd.jupyter.widget-view+json": {
       "model_id": "3137534fc2d24cde97c2fd9d8894e6c0",
       "version_major": 2,
       "version_minor": 0
      },
      "text/plain": [
       "IntSlider(value=0, description='Tile ($)', layout=Layout(width='95%'), max=500, style=SliderStyle(description_…"
      ]
     },
     "metadata": {},
     "output_type": "display_data"
    },
    {
     "data": {
      "application/vnd.jupyter.widget-view+json": {
       "model_id": "3a63647b2e194e21a0eddcf00d1ab297",
       "version_major": 2,
       "version_minor": 0
      },
      "text/plain": [
       "IntSlider(value=0, description='Carpet ($)', layout=Layout(width='95%'), max=500, style=SliderStyle(descriptio…"
      ]
     },
     "metadata": {},
     "output_type": "display_data"
    },
    {
     "data": {
      "application/vnd.jupyter.widget-view+json": {
       "model_id": "c38c3f5606064e419bf33fc02f972b03",
       "version_major": 2,
       "version_minor": 0
      },
      "text/plain": [
       "IntSlider(value=0, description='Lawn ($)', layout=Layout(width='95%'), max=500, style=SliderStyle(description_…"
      ]
     },
     "metadata": {},
     "output_type": "display_data"
    },
    {
     "data": {
      "application/vnd.jupyter.widget-view+json": {
       "model_id": "cdf22fa867f04274a23b617e7747b41b",
       "version_major": 2,
       "version_minor": 0
      },
      "text/plain": [
       "IntSlider(value=0, description='Doors ($)', layout=Layout(width='95%'), max=500, style=SliderStyle(description…"
      ]
     },
     "metadata": {},
     "output_type": "display_data"
    }
   ],
   "source": [
    "for onetime_slider in onetime_sliders[3:]:\n",
    "    display(onetime_slider)"
   ]
  },
  {
   "cell_type": "markdown",
   "metadata": {},
   "source": [
    "# Lifetime amounts"
   ]
  },
  {
   "cell_type": "code",
   "execution_count": 13,
   "metadata": {},
   "outputs": [
    {
     "data": {
      "application/vnd.jupyter.widget-view+json": {
       "model_id": "b87e8c82aa7b4877907ed37cf4e17ec4",
       "version_major": 2,
       "version_minor": 0
      },
      "text/plain": [
       "IntSlider(value=600, description='Home Insurance ($/yr)', layout=Layout(width='95%'), max=5000, min=500, style…"
      ]
     },
     "metadata": {},
     "output_type": "display_data"
    },
    {
     "data": {
      "application/vnd.jupyter.widget-view+json": {
       "model_id": "9139e2c25c544168bbbd1fdfc0c5c18a",
       "version_major": 2,
       "version_minor": 0
      },
      "text/plain": [
       "IntSlider(value=200, description='HOA contribution ($/mo)', layout=Layout(width='95%'), max=700, style=SliderS…"
      ]
     },
     "metadata": {},
     "output_type": "display_data"
    },
    {
     "data": {
      "application/vnd.jupyter.widget-view+json": {
       "model_id": "dca4e39503ef4231a89799e30cb88ad7",
       "version_major": 2,
       "version_minor": 0
      },
      "text/plain": [
       "FloatSlider(value=4.5, description='Property Taxes ($k/yr)', layout=Layout(width='95%'), max=200.0, style=Slid…"
      ]
     },
     "metadata": {},
     "output_type": "display_data"
    },
    {
     "data": {
      "application/vnd.jupyter.widget-view+json": {
       "model_id": "1c406c7816f1420ba266a21ca064a9a2",
       "version_major": 2,
       "version_minor": 0
      },
      "text/plain": [
       "IntSlider(value=300, description='Utilities ($/mo)', layout=Layout(width='95%'), max=1000, style=SliderStyle(d…"
      ]
     },
     "metadata": {},
     "output_type": "display_data"
    }
   ],
   "source": [
    "for lifetime_slider in lifetime_sliders:\n",
    "    display(lifetime_slider)"
   ]
  },
  {
   "cell_type": "markdown",
   "metadata": {},
   "source": [
    "# Output"
   ]
  },
  {
   "cell_type": "code",
   "execution_count": 14,
   "metadata": {},
   "outputs": [
    {
     "data": {
      "application/vnd.jupyter.widget-view+json": {
       "model_id": "815b360e006f411297130712a8911e1a",
       "version_major": 2,
       "version_minor": 0
      },
      "text/plain": [
       "Output()"
      ]
     },
     "metadata": {},
     "output_type": "display_data"
    }
   ],
   "source": [
    "display(interactive_plot1)"
   ]
  },
  {
   "cell_type": "markdown",
   "metadata": {},
   "source": [
    "# How to reduce spending"
   ]
  },
  {
   "cell_type": "code",
   "execution_count": 15,
   "metadata": {},
   "outputs": [
    {
     "data": {
      "application/vnd.jupyter.widget-view+json": {
       "model_id": "a456741eef434967b280b3c0de7604cc",
       "version_major": 2,
       "version_minor": 0
      },
      "text/plain": [
       "Output()"
      ]
     },
     "metadata": {},
     "output_type": "display_data"
    }
   ],
   "source": [
    "display(interactive_plot2)"
   ]
  }
 ],
 "metadata": {
  "kernelspec": {
   "display_name": "Python 3 (ipykernel)",
   "language": "python",
   "name": "python3"
  },
  "language_info": {
   "codemirror_mode": {
    "name": "ipython",
    "version": 3
   },
   "file_extension": ".py",
   "mimetype": "text/x-python",
   "name": "python",
   "nbconvert_exporter": "python",
   "pygments_lexer": "ipython3",
   "version": "3.10.6"
  },
  "vscode": {
   "interpreter": {
    "hash": "0ededd6f50c6c8aceb2a732c9b7843fe779ed322f0882e816c0fcbe2d23504b9"
   }
  }
 },
 "nbformat": 4,
 "nbformat_minor": 4
}
