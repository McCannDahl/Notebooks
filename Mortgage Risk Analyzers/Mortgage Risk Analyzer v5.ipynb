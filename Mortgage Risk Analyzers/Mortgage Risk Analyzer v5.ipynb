{
 "cells": [
  {
   "cell_type": "markdown",
   "metadata": {},
   "source": [
    "# Mortgage Risk Analyzer v5\n",
    "created Oct 2022"
   ]
  },
  {
   "cell_type": "markdown",
   "metadata": {},
   "source": [
    "## Intro\n",
    "I created this document to help myself and others realized the financtal implications of buying a home.\n",
    "Adjust the sliders and see the inpact on the output below"
   ]
  },
  {
   "cell_type": "code",
   "execution_count": 166,
   "metadata": {},
   "outputs": [
    {
     "data": {
      "text/html": [
       "<style>\n",
       ".output_wrapper, .output {\n",
       "    height:auto !important;\n",
       "    max-height:1000px;  /* your desired max-height here */\n",
       "}\n",
       ".output_scroll {\n",
       "    box-shadow:none !important;\n",
       "    webkit-box-shadow:none !important;\n",
       "}\n",
       ".jp-OutputArea {\n",
       "    overflow-y: unset !important;\n",
       "}\n",
       ".widget-box {\n",
       "    overflow: unset !important;\n",
       "}\n",
       "</style>\n"
      ],
      "text/plain": [
       "<IPython.core.display.HTML object>"
      ]
     },
     "metadata": {},
     "output_type": "display_data"
    }
   ],
   "source": [
    "%%html\n",
    "<style>\n",
    ".output_wrapper, .output {\n",
    "    height:auto !important;\n",
    "    max-height:1000px;  /* your desired max-height here */\n",
    "}\n",
    ".output_scroll {\n",
    "    box-shadow:none !important;\n",
    "    webkit-box-shadow:none !important;\n",
    "}\n",
    ".jp-OutputArea {\n",
    "    overflow-y: unset !important;\n",
    "}\n",
    ".widget-box {\n",
    "    overflow: unset !important;\n",
    "}\n",
    "</style>"
   ]
  },
  {
   "cell_type": "code",
   "execution_count": 167,
   "metadata": {
    "hide_input": false,
    "scrolled": true
   },
   "outputs": [],
   "source": [
    "import ipywidgets as widgets\n",
    "width='95%'\n",
    "input_sliders = []\n",
    "input_sliders.append(widgets.FloatSlider(value=5,min=2.5,max=7,step=0.001,description='Intrest Rate (%/yr)',style={'description_width': 'initial'},layout=widgets.Layout(width=width)))\n",
    "input_sliders.append(widgets.IntSlider(value=360,min=100,max=1000,description='House Price ($k)',style={'description_width': 'initial'},layout=widgets.Layout(width=width)))\n",
    "input_sliders.append(widgets.IntSlider(value=72,min=1,max=100,description='Down Payment ($k)',style={'description_width': 'initial'},layout=widgets.Layout(width=width)))\n",
    "input_sliders.append(widgets.IntSlider(value=30,min=1,max=60,description='Term (years)',style={'description_width': 'initial'},layout=widgets.Layout(width=width)))\n",
    "input_sliders.append(widgets.FloatSlider(value=1,min=0,max=5,description='Private Mortgage Insurance (%/yr)',style={'description_width': 'initial'},layout=widgets.Layout(width=width)))\n",
    "input_sliders.append(widgets.FloatSlider(value=1,min=1,max=5,description='Payment Multiplier (x)',style={'description_width': 'initial'},layout=widgets.Layout(width=width)))\n",
    "input_sliders.append(widgets.IntSlider(value=3000,min=500,max=5000,description='Specific Payment Amount ($)',style={'description_width': 'initial'},layout=widgets.Layout(width=width)))\n",
    "input_radios = widgets.RadioButtons(\n",
    "    options=['Use Specific Payment Amount','Use Payment Multiplier'],\n",
    "    description=\"Payment Choice\"\n",
    ")\n",
    "\n",
    "onetime_sliders = []\n",
    "onetime_sliders.append(widgets.FloatSlider(value=2,min=1,max=5,description='Closing Costs (%)',style={'description_width': 'initial'},layout=widgets.Layout(width=width)))\n",
    "onetime_sliders.append(widgets.IntSlider(value=350,min=300,max=400,description='Appraisal Fee ($)',style={'description_width': 'initial'},layout=widgets.Layout(width=width)))\n",
    "onetime_sliders.append(widgets.IntSlider(value=400,min=300,max=500,description='Inspection Fee ($)',style={'description_width': 'initial'},layout=widgets.Layout(width=width)))\n",
    "onetime_sliders.append(widgets.IntSlider(value=0,min=0,max=5000,description='Paint ($)',style={'description_width': 'initial'},layout=widgets.Layout(width=width)))\n",
    "onetime_sliders.append(widgets.IntSlider(value=0,min=0,max=5000,description='Cabinets ($)',style={'description_width': 'initial'},layout=widgets.Layout(width=width)))\n",
    "onetime_sliders.append(widgets.IntSlider(value=0,min=0,max=5000,description='Appliances ($)',style={'description_width': 'initial'},layout=widgets.Layout(width=width)))\n",
    "onetime_sliders.append(widgets.IntSlider(value=0,min=0,max=5000,description='Furniture ($)',style={'description_width': 'initial'},layout=widgets.Layout(width=width)))\n",
    "onetime_sliders.append(widgets.IntSlider(value=0,min=0,max=5000,description='Windows ($)',style={'description_width': 'initial'},layout=widgets.Layout(width=width)))\n",
    "onetime_sliders.append(widgets.IntSlider(value=0,min=0,max=5000,description='Roof ($)',style={'description_width': 'initial'},layout=widgets.Layout(width=width)))\n",
    "onetime_sliders.append(widgets.IntSlider(value=0,min=0,max=5000,description='Tile ($)',style={'description_width': 'initial'},layout=widgets.Layout(width=width)))\n",
    "onetime_sliders.append(widgets.IntSlider(value=0,min=0,max=5000,description='Carpet ($)',style={'description_width': 'initial'},layout=widgets.Layout(width=width)))\n",
    "onetime_sliders.append(widgets.IntSlider(value=0,min=0,max=5000,description='Lawn ($)',style={'description_width': 'initial'},layout=widgets.Layout(width=width)))\n",
    "onetime_sliders.append(widgets.IntSlider(value=0,min=0,max=5000,description='Doors ($)',style={'description_width': 'initial'},layout=widgets.Layout(width=width)))\n",
    "onetime_sliders.append(widgets.IntSlider(value=0,min=0,max=5000,description='Bathtub/sink/toilet ($)',style={'description_width': 'initial'},layout=widgets.Layout(width=width)))\n",
    "onetime_sliders.append(widgets.IntSlider(value=0,min=0,max=5000,description='Lights ($)',style={'description_width': 'initial'},layout=widgets.Layout(width=width)))\n",
    "onetime_sliders.append(widgets.IntSlider(value=0,min=0,max=5000,description='Plumbing ($)',style={'description_width': 'initial'},layout=widgets.Layout(width=width)))\n",
    "onetime_sliders.append(widgets.IntSlider(value=0,min=0,max=5000,description='Electrical ($)',style={'description_width': 'initial'},layout=widgets.Layout(width=width)))\n",
    "\n",
    "\n",
    "lifetime_sliders = []\n",
    "lifetime_sliders.append(widgets.IntSlider(value=600,min=500,max=5000,description='Home Insurance ($/yr)',style={'description_width': 'initial'},layout=widgets.Layout(width=width)))\n",
    "lifetime_sliders.append(widgets.IntSlider(value=200,min=0,max=700,description='HOA contribution ($/mo)',style={'description_width': 'initial'},layout=widgets.Layout(width=width)))\n",
    "lifetime_sliders.append(widgets.FloatSlider(value=4.5,min=0,max=200,description='Property Taxes ($k/yr)',style={'description_width': 'initial'},layout=widgets.Layout(width=width)))\n",
    "lifetime_sliders.append(widgets.IntSlider(value=300,min=0,max=1000,description='Utilities ($/mo)',style={'description_width': 'initial'},layout=widgets.Layout(width=width)))\n"
   ]
  },
  {
   "cell_type": "code",
   "execution_count": 168,
   "metadata": {
    "scrolled": true
   },
   "outputs": [],
   "source": [
    "def calculateX(intrestRate, housePrice, downPayment, term, privateMortgageInsurancePct=0, minPaymentMuliplyer=1, specificPaymentAmount=None):\n",
    "    intrestRate = intrestRate/100\n",
    "    housePrice = housePrice*1000\n",
    "    downPayment = downPayment*1000\n",
    "    privateMortgageInsurancePct = privateMortgageInsurancePct/100/12 # monthly pmi\n",
    "    \n",
    "    #print('Calculating x for ',intrestRate,' ',housePrice,' ',downPayment,' ',term,' ',minPaymentMuliplyer)\n",
    "    n = 12*term\n",
    "    monthlyInterestRate = intrestRate / 12\n",
    "    #print(\"monthlyInterestRate =\",monthlyInterestRate)\n",
    "    r = 1/(1+monthlyInterestRate)\n",
    "    loan = housePrice - downPayment\n",
    "    #print(\"loan =\",loan)\n",
    "    minPayment = loan * ((1-r)/(r-r**(n+1)))\n",
    "    #print(\"minpayment =\",minPayment)\n",
    "    payment = minPayment * minPaymentMuliplyer\n",
    "    if specificPaymentAmount:\n",
    "        payment = specificPaymentAmount\n",
    "    #print(\"payment =\",payment)\n",
    "    \n",
    "    paymentSum = 0\n",
    "    totalmonths = 0\n",
    "    totalmonthsWithPMI = 0\n",
    "    totalprivateMortgageInsurance = 0\n",
    "    balance = loan\n",
    "\n",
    "    chart_data = []\n",
    "    \n",
    "    while balance > 1:\n",
    "        #print('balance ',balance)\n",
    "        # 1 month passes\n",
    "        interest = balance * monthlyInterestRate\n",
    "        #print('interest ',interest)\n",
    "        \n",
    "        p = payment\n",
    "        #print('payment ',p)\n",
    "        if interest + balance < payment:\n",
    "            p = interest + balance\n",
    "        \n",
    "        if p < interest:\n",
    "            #print('error. payment too small ',intrestRate,' ',housePrice,' ',downPayment,' ',term,' ',minPaymentMuliplyer)\n",
    "            return 0,0,0,0,0,0,[]\n",
    "\n",
    "        privateMortgageInsurance = 0\n",
    "        if ((paymentSum + downPayment) < loan * 0.2) and (totalmonths < term*12/2):\n",
    "            privateMortgageInsurance = privateMortgageInsurancePct*loan\n",
    "            totalmonthsWithPMI += 1\n",
    "            totalprivateMortgageInsurance += privateMortgageInsurance\n",
    "            #p = p - privateMortgageInsurance # is this true? Does PMI come out of our payment so that our monthly payments stay the same?\n",
    "            #if p < 0:\n",
    "            #    p = 0\n",
    "                \n",
    "        chart_data.append({\n",
    "            'interest':interest,\n",
    "            'privateMortgageInsurance':privateMortgageInsurance,\n",
    "            'principal':max(p-interest,0),\n",
    "            'equity':(housePrice-balance)/housePrice\n",
    "        })\n",
    "\n",
    "        balance = balance - (p) + (interest)\n",
    "        paymentSum += p\n",
    "        totalmonths += 1\n",
    "    expenses = paymentSum + downPayment + totalprivateMortgageInsurance\n",
    "    x = expenses / housePrice\n",
    "    return x, totalmonths, minPayment, payment, totalmonthsWithPMI, totalprivateMortgageInsurance, chart_data\n",
    "    \n",
    "        "
   ]
  },
  {
   "cell_type": "code",
   "execution_count": 169,
   "metadata": {
    "scrolled": true
   },
   "outputs": [],
   "source": [
    "def calculateOneTimeExpenses(housePrice, downPayment, closingCostsPrct=0, appraisalFee=0, inspectionFee=0):\n",
    "    housePrice = housePrice*1000\n",
    "    downPayment = downPayment*1000\n",
    "    closingCostsPrct = closingCostsPrct/100\n",
    "    loan = housePrice - downPayment\n",
    "    closingCosts = closingCostsPrct*loan\n",
    "    return closingCosts + appraisalFee + inspectionFee"
   ]
  },
  {
   "cell_type": "code",
   "execution_count": 170,
   "metadata": {
    "scrolled": true
   },
   "outputs": [],
   "source": [
    "def calculateLifetimeExpensesPerMonth(homeInsurance,HOA,propertyTaxes,utilities):\n",
    "    return homeInsurance/12 + HOA + propertyTaxes*1000/12 + utilities\n"
   ]
  },
  {
   "cell_type": "code",
   "execution_count": 171,
   "metadata": {
    "scrolled": false
   },
   "outputs": [],
   "source": [
    "def input_slider_values():\n",
    "    values = []\n",
    "    for s in input_sliders:\n",
    "        values.append(s.value)\n",
    "    return values\n",
    "def onetime_slider_values():\n",
    "    values = []\n",
    "    for s in onetime_sliders:\n",
    "        values.append(s.value) \n",
    "    return values\n",
    "def lifetime_slider_values():\n",
    "    values = []\n",
    "    for s in lifetime_sliders:\n",
    "        values.append(s.value)\n",
    "    return values\n"
   ]
  },
  {
   "cell_type": "code",
   "execution_count": 172,
   "metadata": {
    "scrolled": true
   },
   "outputs": [],
   "source": [
    "import matplotlib.pyplot as plt\n",
    "%matplotlib inline\n",
    "def mccgraph(x,y,xlabel):\n",
    "    #plt.figure()\n",
    "    plt.xlabel(xlabel)\n",
    "    plt.ylabel('x')\n",
    "    plt.plot(x, y, '-ok')\n",
    "    plt.show()"
   ]
  },
  {
   "cell_type": "code",
   "execution_count": 173,
   "metadata": {
    "scrolled": true
   },
   "outputs": [],
   "source": [
    "def show_comparitive_graphs(v0,v1,v2,v3,v4,v5,v6):\n",
    "    variables = []\n",
    "    for s in input_sliders:\n",
    "        smin = int(s.min*100)\n",
    "        smax = int(s.max*100)\n",
    "        diff = smax-smin\n",
    "        points_per_graph = 20\n",
    "        step = int(diff/points_per_graph)\n",
    "        variables.append([x / 100 for x in range(smin, smax, step)])\n",
    "    for i,var in enumerate(variables):\n",
    "        #print(var)\n",
    "        values = input_slider_values()\n",
    "        output = []\n",
    "        xlabel = ''\n",
    "        xvalues = []\n",
    "        for v in var:\n",
    "            #print(v)\n",
    "            values[i] = v\n",
    "            xlabel = input_sliders[i].description\n",
    "            x, totalmonths, minPayment, payment, totalmonthsWithPMI, totalPMI, chart_data = calculateX(values[0],values[1],values[2],values[3],values[4],values[5],values[6])\n",
    "            if x>0:\n",
    "                output.append(x)\n",
    "                xvalues.append(v)\n",
    "        mccgraph(xvalues, output, xlabel)\n",
    "    #plt.show()"
   ]
  },
  {
   "cell_type": "code",
   "execution_count": 174,
   "metadata": {
    "scrolled": false
   },
   "outputs": [],
   "source": [
    "def show_output1(v0,v1,v2,v3,v4,v5,v6,r1,o0,o1,o2,o3,o4,o5,o6,o7,o8,o9,o10,o11,o12,o13,o14,o15,o16,l0,l1,l2,l3):\n",
    "    houseprice = v1\n",
    "    if (r1 == 'Use Payment Multiplier'):\n",
    "        v6 = None\n",
    "    else:\n",
    "        v5 = 1\n",
    "    print(\"House Price: \"+int_to_string(houseprice)+\"k\")\n",
    "    x, totalmonths, minPayment, payment, totalmonthsWithPMI, totalPMI, chart_data = calculateX(v0,v1,v2,v3,v4,v5,v6)\n",
    "    print(\"Minimum monthly payment = \"+int_to_string(minPayment)+\" and your chosen monthly payment = \"+int_to_string(payment))\n",
    "    print(\"You will spend \"+int_to_string(x*houseprice)+\"k on your mortgage in \"+str(round(totalmonths/12,2))+\" years (x=\"+str(round(x,2))+\")\")\n",
    "    print(\"Months paid with PMI = \"+str(round(totalmonthsWithPMI,2))+\" months and total PMI amount = \"+int_to_string(totalPMI))\n",
    "    onetime_total = int(houseprice*(o0/100)*1000 + o1 + o2 + o3 + o4 + o5 + o6 + o7 + o8 + o9 + o10 + o11 + o12 + o13 + o14 + o15 + o16)\n",
    "    print(\"You will have a one-time payment of \"+int_to_string(onetime_total))\n",
    "    totalPrice = int(x*houseprice*1000) + onetime_total\n",
    "    print(\"The total price of your house including mortgage and one-time costs is \"+int_to_string(totalPrice))\n",
    "    lifetime_total = l0 + l1*12 + l2*1000 + l3*12\n",
    "    print(\"Additionally every year you will pay \"+int_to_string(lifetime_total)+\"/yr\")\n",
    "\n",
    "    plt.xlabel('months')\n",
    "    plt.ylabel('%')\n",
    "    x_vals = []\n",
    "    y_vals_1 = []\n",
    "    y_vals_2 = []\n",
    "    y_vals_3 = []\n",
    "    for i in range(len(chart_data)):\n",
    "        x_vals.append(i)\n",
    "        y_vals_1.append(chart_data[i]['equity'])\n",
    "    plt.stackplot(x_vals,y_vals_1, labels=['Equity'])\n",
    "    plt.legend(loc='upper left')\n",
    "    plt.show()\n",
    "    \n",
    "    plt.xlabel('months')\n",
    "    plt.ylabel('$')\n",
    "    x_vals = []\n",
    "    y_vals_1 = []\n",
    "    y_vals_2 = []\n",
    "    y_vals_3 = []\n",
    "    for i in range(len(chart_data)):\n",
    "        x_vals.append(i)\n",
    "        y_vals_1.append(chart_data[i]['interest'])\n",
    "        y_vals_3.append(chart_data[i]['privateMortgageInsurance'])\n",
    "        y_vals_2.append(chart_data[i]['principal'])\n",
    "    plt.stackplot(x_vals,y_vals_1,y_vals_2,y_vals_3, labels=['Interest','Principle','PMI'])\n",
    "    plt.legend(loc='upper right')\n",
    "    plt.show()\n",
    "\n",
    "def show_output2(v0,v1,v2,v3,v4,v5,v6):\n",
    "    show_comparitive_graphs(v0,v1,v2,v3,v4,v5,v6)\n",
    "    \n",
    "\n",
    "def int_to_string(v):\n",
    "    return '${:,.0f}'.format(v)\n",
    "\n",
    "interactive_plot1= widgets.interactive_output(show_output1, {\n",
    " 'v0':input_sliders[0]\n",
    ", 'v1':input_sliders[1]\n",
    ", 'v2':input_sliders[2]\n",
    ", 'v3':input_sliders[3]\n",
    ", 'v4':input_sliders[4]\n",
    ", 'v5':input_sliders[5]\n",
    ", 'v6':input_sliders[6]\n",
    ", 'r1':input_radios\n",
    ", 'o0':onetime_sliders[0]\n",
    ", 'o1':onetime_sliders[1]\n",
    ", 'o2':onetime_sliders[2]\n",
    ", 'o3':onetime_sliders[3]\n",
    ", 'o4':onetime_sliders[4]\n",
    ", 'o5':onetime_sliders[5]\n",
    ", 'o6':onetime_sliders[6]\n",
    ", 'o7':onetime_sliders[7]\n",
    ", 'o8':onetime_sliders[8]\n",
    ", 'o9':onetime_sliders[9]\n",
    ", 'o10':onetime_sliders[10]\n",
    ", 'o11':onetime_sliders[11]\n",
    ", 'o12':onetime_sliders[12]\n",
    ", 'o13':onetime_sliders[13]\n",
    ", 'o14':onetime_sliders[14]\n",
    ", 'o15':onetime_sliders[15]\n",
    ", 'o16':onetime_sliders[16]\n",
    ", 'l0':lifetime_sliders[0]\n",
    ", 'l1':lifetime_sliders[1]\n",
    ", 'l2':lifetime_sliders[2]\n",
    ", 'l3':lifetime_sliders[3]\n",
    "})\n",
    "interactive_plot2= widgets.interactive_output(show_output2, {\n",
    " 'v0':input_sliders[0]\n",
    ", 'v1':input_sliders[1]\n",
    ", 'v2':input_sliders[2]\n",
    ", 'v3':input_sliders[3]\n",
    ", 'v4':input_sliders[4]\n",
    ", 'v5':input_sliders[5]\n",
    ", 'v6':input_sliders[6]\n",
    "})\n",
    "\n",
    "\n",
    "\n"
   ]
  },
  {
   "cell_type": "markdown",
   "metadata": {},
   "source": [
    "# Mortgage influencers"
   ]
  },
  {
   "cell_type": "code",
   "execution_count": 175,
   "metadata": {},
   "outputs": [
    {
     "data": {
      "application/vnd.jupyter.widget-view+json": {
       "model_id": "1646532207d94dbb83a64b06ba80e0d9",
       "version_major": 2,
       "version_minor": 0
      },
      "text/plain": [
       "FloatSlider(value=5.0, description='Intrest Rate (%/yr)', layout=Layout(width='95%'), max=10.0, min=1.0, step=…"
      ]
     },
     "metadata": {},
     "output_type": "display_data"
    },
    {
     "data": {
      "application/vnd.jupyter.widget-view+json": {
       "model_id": "ca4f53157add4c0ba9bd1aa13fe0dc80",
       "version_major": 2,
       "version_minor": 0
      },
      "text/plain": [
       "IntSlider(value=350, description='House Price ($k)', layout=Layout(width='95%'), max=1000, min=100, style=Slid…"
      ]
     },
     "metadata": {},
     "output_type": "display_data"
    },
    {
     "data": {
      "application/vnd.jupyter.widget-view+json": {
       "model_id": "37500eef8b1f49b1910e0a6d5f23bc42",
       "version_major": 2,
       "version_minor": 0
      },
      "text/plain": [
       "IntSlider(value=50, description='Down Payment ($k)', layout=Layout(width='95%'), min=1, style=SliderStyle(desc…"
      ]
     },
     "metadata": {},
     "output_type": "display_data"
    },
    {
     "data": {
      "application/vnd.jupyter.widget-view+json": {
       "model_id": "57e7f04387d54f7fad0d0a4684f58546",
       "version_major": 2,
       "version_minor": 0
      },
      "text/plain": [
       "IntSlider(value=30, description='Term (years)', layout=Layout(width='95%'), max=60, min=1, style=SliderStyle(d…"
      ]
     },
     "metadata": {},
     "output_type": "display_data"
    },
    {
     "data": {
      "application/vnd.jupyter.widget-view+json": {
       "model_id": "340bebf00e5348d99b45ec7c28929016",
       "version_major": 2,
       "version_minor": 0
      },
      "text/plain": [
       "FloatSlider(value=2.0, description='Private Mortgage Insurance (%/yr)', layout=Layout(width='95%'), max=5.0, s…"
      ]
     },
     "metadata": {},
     "output_type": "display_data"
    },
    {
     "data": {
      "application/vnd.jupyter.widget-view+json": {
       "model_id": "4d992c088fee475bb1c8244037a0c269",
       "version_major": 2,
       "version_minor": 0
      },
      "text/plain": [
       "FloatSlider(value=1.0, description='Payment Multiplier (x)', layout=Layout(width='95%'), max=5.0, min=1.0, sty…"
      ]
     },
     "metadata": {},
     "output_type": "display_data"
    },
    {
     "data": {
      "application/vnd.jupyter.widget-view+json": {
       "model_id": "d8e694adbcc64ec7b759e35716a44062",
       "version_major": 2,
       "version_minor": 0
      },
      "text/plain": [
       "IntSlider(value=1500, description='Specific Payment Amount ($)', layout=Layout(width='95%'), max=5000, min=500…"
      ]
     },
     "metadata": {},
     "output_type": "display_data"
    },
    {
     "data": {
      "application/vnd.jupyter.widget-view+json": {
       "model_id": "564897bbea7f4611b2adec4b9e680de8",
       "version_major": 2,
       "version_minor": 0
      },
      "text/plain": [
       "RadioButtons(description='Payment Choice', options=('Use Payment Multiplier', 'Use Specific Payment Amount'), …"
      ]
     },
     "metadata": {},
     "output_type": "display_data"
    }
   ],
   "source": [
    "for input_slider in input_sliders:\n",
    "    display(input_slider)\n",
    "display(input_radios)"
   ]
  },
  {
   "cell_type": "markdown",
   "metadata": {},
   "source": [
    "# One-time amounts"
   ]
  },
  {
   "cell_type": "code",
   "execution_count": 176,
   "metadata": {},
   "outputs": [
    {
     "data": {
      "application/vnd.jupyter.widget-view+json": {
       "model_id": "2f015f43cdd046ee94b7213ca179f428",
       "version_major": 2,
       "version_minor": 0
      },
      "text/plain": [
       "FloatSlider(value=2.0, description='Closing Costs (%)', layout=Layout(width='95%'), max=5.0, min=1.0, style=Sl…"
      ]
     },
     "metadata": {},
     "output_type": "display_data"
    },
    {
     "data": {
      "application/vnd.jupyter.widget-view+json": {
       "model_id": "49577ceed14a4fabb9a9e74c6690db34",
       "version_major": 2,
       "version_minor": 0
      },
      "text/plain": [
       "IntSlider(value=350, description='Appraisal Fee ($)', layout=Layout(width='95%'), max=400, min=300, style=Slid…"
      ]
     },
     "metadata": {},
     "output_type": "display_data"
    },
    {
     "data": {
      "application/vnd.jupyter.widget-view+json": {
       "model_id": "58a79901630b447fb3a6a93b38d80563",
       "version_major": 2,
       "version_minor": 0
      },
      "text/plain": [
       "IntSlider(value=400, description='Inspection Fee ($)', layout=Layout(width='95%'), max=500, min=300, style=Sli…"
      ]
     },
     "metadata": {},
     "output_type": "display_data"
    }
   ],
   "source": [
    "for onetime_slider in onetime_sliders[:3]:\n",
    "    display(onetime_slider)"
   ]
  },
  {
   "cell_type": "markdown",
   "metadata": {},
   "source": [
    "# Home repairs"
   ]
  },
  {
   "cell_type": "code",
   "execution_count": 177,
   "metadata": {},
   "outputs": [
    {
     "data": {
      "application/vnd.jupyter.widget-view+json": {
       "model_id": "57e8f248fcd7465999fd716596c505c3",
       "version_major": 2,
       "version_minor": 0
      },
      "text/plain": [
       "IntSlider(value=0, description='Paint ($)', layout=Layout(width='95%'), max=5000, style=SliderStyle(descriptio…"
      ]
     },
     "metadata": {},
     "output_type": "display_data"
    },
    {
     "data": {
      "application/vnd.jupyter.widget-view+json": {
       "model_id": "ade288d70bb14cdfa5ba4961ed826ef1",
       "version_major": 2,
       "version_minor": 0
      },
      "text/plain": [
       "IntSlider(value=0, description='Cabinets ($)', layout=Layout(width='95%'), max=5000, style=SliderStyle(descrip…"
      ]
     },
     "metadata": {},
     "output_type": "display_data"
    },
    {
     "data": {
      "application/vnd.jupyter.widget-view+json": {
       "model_id": "88792cdb35e0440c8643281691dc2cde",
       "version_major": 2,
       "version_minor": 0
      },
      "text/plain": [
       "IntSlider(value=0, description='Appliances ($)', layout=Layout(width='95%'), max=5000, style=SliderStyle(descr…"
      ]
     },
     "metadata": {},
     "output_type": "display_data"
    },
    {
     "data": {
      "application/vnd.jupyter.widget-view+json": {
       "model_id": "749ccbd7c21e47dab0a66e5fb543d5f5",
       "version_major": 2,
       "version_minor": 0
      },
      "text/plain": [
       "IntSlider(value=0, description='Furniture ($)', layout=Layout(width='95%'), max=5000, style=SliderStyle(descri…"
      ]
     },
     "metadata": {},
     "output_type": "display_data"
    },
    {
     "data": {
      "application/vnd.jupyter.widget-view+json": {
       "model_id": "d54833821a214021a8c7aff03937f7e8",
       "version_major": 2,
       "version_minor": 0
      },
      "text/plain": [
       "IntSlider(value=0, description='Windows ($)', layout=Layout(width='95%'), max=5000, style=SliderStyle(descript…"
      ]
     },
     "metadata": {},
     "output_type": "display_data"
    },
    {
     "data": {
      "application/vnd.jupyter.widget-view+json": {
       "model_id": "2ba56016d06b4ccabf7ffad18af1f258",
       "version_major": 2,
       "version_minor": 0
      },
      "text/plain": [
       "IntSlider(value=0, description='Roof ($)', layout=Layout(width='95%'), max=5000, style=SliderStyle(description…"
      ]
     },
     "metadata": {},
     "output_type": "display_data"
    },
    {
     "data": {
      "application/vnd.jupyter.widget-view+json": {
       "model_id": "79b2ee6b1eca4d898e5bc3d876f5d6c7",
       "version_major": 2,
       "version_minor": 0
      },
      "text/plain": [
       "IntSlider(value=0, description='Tile ($)', layout=Layout(width='95%'), max=5000, style=SliderStyle(description…"
      ]
     },
     "metadata": {},
     "output_type": "display_data"
    },
    {
     "data": {
      "application/vnd.jupyter.widget-view+json": {
       "model_id": "538a66fe78604267982a6c8045c77fcb",
       "version_major": 2,
       "version_minor": 0
      },
      "text/plain": [
       "IntSlider(value=0, description='Carpet ($)', layout=Layout(width='95%'), max=5000, style=SliderStyle(descripti…"
      ]
     },
     "metadata": {},
     "output_type": "display_data"
    },
    {
     "data": {
      "application/vnd.jupyter.widget-view+json": {
       "model_id": "6c7ede72ec2c4f59921418d2c0c81dcf",
       "version_major": 2,
       "version_minor": 0
      },
      "text/plain": [
       "IntSlider(value=0, description='Lawn ($)', layout=Layout(width='95%'), max=5000, style=SliderStyle(description…"
      ]
     },
     "metadata": {},
     "output_type": "display_data"
    },
    {
     "data": {
      "application/vnd.jupyter.widget-view+json": {
       "model_id": "892cdb42b05643b6a832c040e483de21",
       "version_major": 2,
       "version_minor": 0
      },
      "text/plain": [
       "IntSlider(value=0, description='Doors ($)', layout=Layout(width='95%'), max=5000, style=SliderStyle(descriptio…"
      ]
     },
     "metadata": {},
     "output_type": "display_data"
    },
    {
     "data": {
      "application/vnd.jupyter.widget-view+json": {
       "model_id": "1a2c119b401d441b868132a5ccbd702a",
       "version_major": 2,
       "version_minor": 0
      },
      "text/plain": [
       "IntSlider(value=0, description='Bathtub/sink/toilet ($)', layout=Layout(width='95%'), max=5000, style=SliderSt…"
      ]
     },
     "metadata": {},
     "output_type": "display_data"
    },
    {
     "data": {
      "application/vnd.jupyter.widget-view+json": {
       "model_id": "cf1c9df7e3d94ccaaf6cd2cb5637dd1e",
       "version_major": 2,
       "version_minor": 0
      },
      "text/plain": [
       "IntSlider(value=0, description='Lights ($)', layout=Layout(width='95%'), max=5000, style=SliderStyle(descripti…"
      ]
     },
     "metadata": {},
     "output_type": "display_data"
    },
    {
     "data": {
      "application/vnd.jupyter.widget-view+json": {
       "model_id": "f3bb698320de4beb9c047abf53bab290",
       "version_major": 2,
       "version_minor": 0
      },
      "text/plain": [
       "IntSlider(value=0, description='Plumbing ($)', layout=Layout(width='95%'), max=5000, style=SliderStyle(descrip…"
      ]
     },
     "metadata": {},
     "output_type": "display_data"
    },
    {
     "data": {
      "application/vnd.jupyter.widget-view+json": {
       "model_id": "76f5c0afc12042149f0d36c3400e6011",
       "version_major": 2,
       "version_minor": 0
      },
      "text/plain": [
       "IntSlider(value=0, description='Electrical ($)', layout=Layout(width='95%'), max=5000, style=SliderStyle(descr…"
      ]
     },
     "metadata": {},
     "output_type": "display_data"
    }
   ],
   "source": [
    "for onetime_slider in onetime_sliders[3:]:\n",
    "    display(onetime_slider)"
   ]
  },
  {
   "cell_type": "markdown",
   "metadata": {},
   "source": [
    "# Lifetime amounts"
   ]
  },
  {
   "cell_type": "code",
   "execution_count": 178,
   "metadata": {},
   "outputs": [
    {
     "data": {
      "application/vnd.jupyter.widget-view+json": {
       "model_id": "8f14d8ec9a8a4069ba7362371af1337d",
       "version_major": 2,
       "version_minor": 0
      },
      "text/plain": [
       "IntSlider(value=600, description='Home Insurance ($/yr)', layout=Layout(width='95%'), max=5000, min=500, style…"
      ]
     },
     "metadata": {},
     "output_type": "display_data"
    },
    {
     "data": {
      "application/vnd.jupyter.widget-view+json": {
       "model_id": "e18a1ae2d1d54d57a68e3a4805a13104",
       "version_major": 2,
       "version_minor": 0
      },
      "text/plain": [
       "IntSlider(value=200, description='HOA contribution ($/mo)', layout=Layout(width='95%'), max=700, style=SliderS…"
      ]
     },
     "metadata": {},
     "output_type": "display_data"
    },
    {
     "data": {
      "application/vnd.jupyter.widget-view+json": {
       "model_id": "6c865a0899304c68ae29f5cffb9aa74e",
       "version_major": 2,
       "version_minor": 0
      },
      "text/plain": [
       "FloatSlider(value=4.5, description='Property Taxes ($k/yr)', layout=Layout(width='95%'), max=200.0, style=Slid…"
      ]
     },
     "metadata": {},
     "output_type": "display_data"
    },
    {
     "data": {
      "application/vnd.jupyter.widget-view+json": {
       "model_id": "7bcdede75e7e416c8cb8429ec185dea3",
       "version_major": 2,
       "version_minor": 0
      },
      "text/plain": [
       "IntSlider(value=300, description='Utilities ($/mo)', layout=Layout(width='95%'), max=1000, style=SliderStyle(d…"
      ]
     },
     "metadata": {},
     "output_type": "display_data"
    }
   ],
   "source": [
    "for lifetime_slider in lifetime_sliders:\n",
    "    display(lifetime_slider)"
   ]
  },
  {
   "cell_type": "markdown",
   "metadata": {},
   "source": [
    "# Output"
   ]
  },
  {
   "cell_type": "code",
   "execution_count": 179,
   "metadata": {},
   "outputs": [
    {
     "data": {
      "application/vnd.jupyter.widget-view+json": {
       "model_id": "43e43ffb942848349190bc81765d2b05",
       "version_major": 2,
       "version_minor": 0
      },
      "text/plain": [
       "Output(outputs=({'name': 'stdout', 'text': 'House Price: $350k\\nMinimum monthly payment = $1,610 and your chos…"
      ]
     },
     "metadata": {},
     "output_type": "display_data"
    }
   ],
   "source": [
    "display(interactive_plot1)"
   ]
  },
  {
   "cell_type": "markdown",
   "metadata": {},
   "source": [
    "# How to reduce spending"
   ]
  },
  {
   "cell_type": "code",
   "execution_count": 180,
   "metadata": {},
   "outputs": [
    {
     "data": {
      "application/vnd.jupyter.widget-view+json": {
       "model_id": "92122961e92b4346abd0123c76930ff4",
       "version_major": 2,
       "version_minor": 0
      },
      "text/plain": [
       "Output(outputs=({'output_type': 'display_data', 'data': {'text/plain': '<Figure size 432x288 with 1 Axes>', 'i…"
      ]
     },
     "metadata": {},
     "output_type": "display_data"
    }
   ],
   "source": [
    "display(interactive_plot2)"
   ]
  }
 ],
 "metadata": {
  "kernelspec": {
   "display_name": "Python 3.8.10 64-bit (microsoft store)",
   "language": "python",
   "name": "python3"
  },
  "language_info": {
   "codemirror_mode": {
    "name": "ipython",
    "version": 3
   },
   "file_extension": ".py",
   "mimetype": "text/x-python",
   "name": "python",
   "nbconvert_exporter": "python",
   "pygments_lexer": "ipython3",
   "version": "3.8.10"
  },
  "vscode": {
   "interpreter": {
    "hash": "cd5a7542da19dbd028f40edfa996e17b94ef8d7eb5634e235623a249b5b735f1"
   }
  }
 },
 "nbformat": 4,
 "nbformat_minor": 4
}
