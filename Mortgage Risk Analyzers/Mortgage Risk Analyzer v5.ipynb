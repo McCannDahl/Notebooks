{
 "cells": [
  {
   "cell_type": "markdown",
   "metadata": {},
   "source": [
    "# Mortgage Risk Analyzer v5\n",
    "created Oct 2022"
   ]
  },
  {
   "cell_type": "markdown",
   "metadata": {},
   "source": [
    "## Intro\n",
    "I created this document to help myself and others realized the financtal implications of buying a home.\n",
    "Adjust the sliders and see the inpact on the output below"
   ]
  },
  {
   "cell_type": "code",
   "execution_count": 1,
   "metadata": {},
   "outputs": [
    {
     "data": {
      "text/html": [
       "<style>\n",
       ".output_wrapper, .output {\n",
       "    height:auto !important;\n",
       "    max-height:1000px;  /* your desired max-height here */\n",
       "}\n",
       ".output_scroll {\n",
       "    box-shadow:none !important;\n",
       "    webkit-box-shadow:none !important;\n",
       "}\n",
       ".jp-OutputArea {\n",
       "    overflow-y: unset !important;\n",
       "}\n",
       ".widget-box {\n",
       "    overflow: unset !important;\n",
       "}\n",
       "</style>\n"
      ],
      "text/plain": [
       "<IPython.core.display.HTML object>"
      ]
     },
     "metadata": {},
     "output_type": "display_data"
    }
   ],
   "source": [
    "%%html\n",
    "<style>\n",
    ".output_wrapper, .output {\n",
    "    height:auto !important;\n",
    "    max-height:1000px;  /* your desired max-height here */\n",
    "}\n",
    ".output_scroll {\n",
    "    box-shadow:none !important;\n",
    "    webkit-box-shadow:none !important;\n",
    "}\n",
    ".jp-OutputArea {\n",
    "    overflow-y: unset !important;\n",
    "}\n",
    ".widget-box {\n",
    "    overflow: unset !important;\n",
    "}\n",
    "</style>"
   ]
  },
  {
   "cell_type": "code",
   "execution_count": 2,
   "metadata": {
    "hide_input": false,
    "scrolled": true
   },
   "outputs": [],
   "source": [
    "import ipywidgets as widgets\n",
    "width='95%'\n",
    "input_sliders = []\n",
    "input_sliders.append(widgets.FloatSlider(value=3,min=1,max=10,step=0.01,description='Intrest Rate (%/yr)',style={'description_width': 'initial'},layout=widgets.Layout(width=width)))\n",
    "input_sliders.append(widgets.IntSlider(value=300,min=100,max=1000,description='House Price ($k)',style={'description_width': 'initial'},layout=widgets.Layout(width=width)))\n",
    "input_sliders.append(widgets.IntSlider(value=60,min=1,max=100,description='Down Payment ($k)',style={'description_width': 'initial'},layout=widgets.Layout(width=width)))\n",
    "input_sliders.append(widgets.IntSlider(value=30,min=1,max=60,description='Term (years)',style={'description_width': 'initial'},layout=widgets.Layout(width=width)))\n",
    "input_sliders.append(widgets.FloatSlider(value=2,min=0,max=5,description='Private Mortgage Insurance (%/yr)',style={'description_width': 'initial'},layout=widgets.Layout(width=width)))\n",
    "input_sliders.append(widgets.FloatSlider(value=1,min=1,max=5,description='Payment Multiplier (%)',style={'description_width': 'initial'},layout=widgets.Layout(width=width)))\n",
    "input_sliders.append(widgets.IntSlider(value=1500,min=500,max=5000,description='Specific Payment Amount ($)',style={'description_width': 'initial'},layout=widgets.Layout(width=width)))\n",
    "input_radios = widgets.RadioButtons(\n",
    "    options=['Use Payment Multiplier', 'Use Specific Payment Amount'],\n",
    "    description=\"Payment Choice\"\n",
    ")\n",
    "\n",
    "onetime_sliders = []\n",
    "onetime_sliders.append(widgets.FloatSlider(value=2,min=1,max=5,description='Closing Costs (%)',style={'description_width': 'initial'},layout=widgets.Layout(width=width)))\n",
    "onetime_sliders.append(widgets.IntSlider(value=350,min=300,max=400,description='Appraisal Fee ($)',style={'description_width': 'initial'},layout=widgets.Layout(width=width)))\n",
    "onetime_sliders.append(widgets.IntSlider(value=400,min=300,max=500,description='Inspection Fee ($)',style={'description_width': 'initial'},layout=widgets.Layout(width=width)))\n",
    "onetime_sliders.append(widgets.IntSlider(value=0,min=0,max=5000,description='Paint ($)',style={'description_width': 'initial'},layout=widgets.Layout(width=width)))\n",
    "onetime_sliders.append(widgets.IntSlider(value=0,min=0,max=5000,description='Cabinets ($)',style={'description_width': 'initial'},layout=widgets.Layout(width=width)))\n",
    "onetime_sliders.append(widgets.IntSlider(value=0,min=0,max=5000,description='Appliances ($)',style={'description_width': 'initial'},layout=widgets.Layout(width=width)))\n",
    "onetime_sliders.append(widgets.IntSlider(value=0,min=0,max=5000,description='Furniture ($)',style={'description_width': 'initial'},layout=widgets.Layout(width=width)))\n",
    "onetime_sliders.append(widgets.IntSlider(value=0,min=0,max=5000,description='Windows ($)',style={'description_width': 'initial'},layout=widgets.Layout(width=width)))\n",
    "onetime_sliders.append(widgets.IntSlider(value=0,min=0,max=5000,description='Roof ($)',style={'description_width': 'initial'},layout=widgets.Layout(width=width)))\n",
    "onetime_sliders.append(widgets.IntSlider(value=0,min=0,max=5000,description='Tile ($)',style={'description_width': 'initial'},layout=widgets.Layout(width=width)))\n",
    "onetime_sliders.append(widgets.IntSlider(value=0,min=0,max=5000,description='Carpet ($)',style={'description_width': 'initial'},layout=widgets.Layout(width=width)))\n",
    "onetime_sliders.append(widgets.IntSlider(value=0,min=0,max=5000,description='Lawn ($)',style={'description_width': 'initial'},layout=widgets.Layout(width=width)))\n",
    "onetime_sliders.append(widgets.IntSlider(value=0,min=0,max=5000,description='Doors ($)',style={'description_width': 'initial'},layout=widgets.Layout(width=width)))\n",
    "onetime_sliders.append(widgets.IntSlider(value=0,min=0,max=5000,description='Bathtub/sink/toilet ($)',style={'description_width': 'initial'},layout=widgets.Layout(width=width)))\n",
    "onetime_sliders.append(widgets.IntSlider(value=0,min=0,max=5000,description='Lights ($)',style={'description_width': 'initial'},layout=widgets.Layout(width=width)))\n",
    "onetime_sliders.append(widgets.IntSlider(value=0,min=0,max=5000,description='Plumbing ($)',style={'description_width': 'initial'},layout=widgets.Layout(width=width)))\n",
    "onetime_sliders.append(widgets.IntSlider(value=0,min=0,max=5000,description='Electrical ($)',style={'description_width': 'initial'},layout=widgets.Layout(width=width)))\n",
    "\n",
    "\n",
    "lifetime_sliders = []\n",
    "lifetime_sliders.append(widgets.IntSlider(value=600,min=500,max=5000,description='Home Insurance ($/yr)',style={'description_width': 'initial'},layout=widgets.Layout(width=width)))\n",
    "lifetime_sliders.append(widgets.IntSlider(value=200,min=0,max=700,description='HOA contribution ($/mo)',style={'description_width': 'initial'},layout=widgets.Layout(width=width)))\n",
    "lifetime_sliders.append(widgets.FloatSlider(value=4.5,min=0,max=200,description='Property Taxes ($k/yr)',style={'description_width': 'initial'},layout=widgets.Layout(width=width)))\n",
    "lifetime_sliders.append(widgets.IntSlider(value=300,min=0,max=1000,description='Utilities ($/mo)',style={'description_width': 'initial'},layout=widgets.Layout(width=width)))\n"
   ]
  },
  {
   "cell_type": "code",
   "execution_count": 3,
   "metadata": {
    "scrolled": true
   },
   "outputs": [],
   "source": [
    "def calculateX(intrestRate, housePrice, downPayment, term, privateMortgageInsurancePct=0, minPaymentMuliplyer=1, specificPaymentAmount=None):\n",
    "    intrestRate = intrestRate/100\n",
    "    housePrice = housePrice*1000\n",
    "    downPayment = downPayment*1000\n",
    "    privateMortgageInsurancePct = privateMortgageInsurancePct/100/12 # monthly pmi\n",
    "    \n",
    "    #print('Calculating x for ',intrestRate,' ',housePrice,' ',downPayment,' ',term,' ',minPaymentMuliplyer)\n",
    "    n = 12*term\n",
    "    monthlyInterestRate = intrestRate / 12\n",
    "    #print(\"monthlyInterestRate =\",monthlyInterestRate)\n",
    "    r = 1/(1+monthlyInterestRate)\n",
    "    loan = housePrice - downPayment\n",
    "    #print(\"loan =\",loan)\n",
    "    minPayment = loan * ((1-r)/(r-r**(n+1)))\n",
    "    #print(\"minpayment =\",minPayment)\n",
    "    payment = minPayment * minPaymentMuliplyer\n",
    "    if specificPaymentAmount:\n",
    "        payment = specificPaymentAmount\n",
    "    #print(\"payment =\",payment)\n",
    "    \n",
    "    paymentSum = 0\n",
    "    totalmonths = 0\n",
    "    totalmonthsWithPMI = 0\n",
    "    totalprivateMortgageInsurance = 0\n",
    "    balance = loan\n",
    "    \n",
    "    while balance > 1:\n",
    "        #print('balance ',balance)\n",
    "        # 1 month passes\n",
    "        interest = balance * monthlyInterestRate\n",
    "        #print('interest ',interest)\n",
    "        \n",
    "        p = payment\n",
    "        #print('payment ',p)\n",
    "        if interest + balance < payment:\n",
    "            p = interest + balance\n",
    "        \n",
    "        privateMortgageInsurance = 0\n",
    "        if ((paymentSum + downPayment) < loan * 0.2) and (totalmonths < term*12/2):\n",
    "            privateMortgageInsurance = privateMortgageInsurancePct*loan\n",
    "            totalmonthsWithPMI += 1\n",
    "            totalprivateMortgageInsurance += privateMortgageInsurance\n",
    "        \n",
    "        if p < interest:\n",
    "            #print('error. payment too small ',intrestRate,' ',housePrice,' ',downPayment,' ',term,' ',minPaymentMuliplyer)\n",
    "            return 0,0,0,0,0,0\n",
    "            \n",
    "        balance = balance - (p) + (interest)\n",
    "        paymentSum += p\n",
    "        totalmonths += 1\n",
    "    expenses = paymentSum + downPayment + totalprivateMortgageInsurance\n",
    "    x = expenses / housePrice\n",
    "    return x, totalmonths, minPayment, payment, totalmonthsWithPMI, totalprivateMortgageInsurance\n",
    "    \n",
    "        "
   ]
  },
  {
   "cell_type": "code",
   "execution_count": 4,
   "metadata": {
    "scrolled": true
   },
   "outputs": [],
   "source": [
    "def calculateOneTimeExpenses(housePrice, downPayment, closingCostsPrct=0, appraisalFee=0, inspectionFee=0):\n",
    "    housePrice = housePrice*1000\n",
    "    downPayment = downPayment*1000\n",
    "    closingCostsPrct = closingCostsPrct/100\n",
    "    loan = housePrice - downPayment\n",
    "    closingCosts = closingCostsPrct*loan\n",
    "    return closingCosts + appraisalFee + inspectionFee"
   ]
  },
  {
   "cell_type": "code",
   "execution_count": 5,
   "metadata": {
    "scrolled": true
   },
   "outputs": [],
   "source": [
    "def calculateLifetimeExpensesPerMonth(homeInsurance,HOA,propertyTaxes,utilities):\n",
    "    return homeInsurance/12 + HOA + propertyTaxes*1000/12 + utilities\n"
   ]
  },
  {
   "cell_type": "code",
   "execution_count": 6,
   "metadata": {
    "scrolled": false
   },
   "outputs": [],
   "source": [
    "def input_slider_values():\n",
    "    values = []\n",
    "    for s in input_sliders:\n",
    "        values.append(s.value)\n",
    "    return values\n",
    "def onetime_slider_values():\n",
    "    values = []\n",
    "    for s in onetime_sliders:\n",
    "        values.append(s.value) \n",
    "    return values\n",
    "def lifetime_slider_values():\n",
    "    values = []\n",
    "    for s in lifetime_sliders:\n",
    "        values.append(s.value)\n",
    "    return values\n"
   ]
  },
  {
   "cell_type": "code",
   "execution_count": 7,
   "metadata": {
    "scrolled": true
   },
   "outputs": [],
   "source": [
    "import matplotlib.pyplot as plt\n",
    "%matplotlib inline\n",
    "def mccgraph(x,y,xlabel):\n",
    "    #plt.figure()\n",
    "    plt.xlabel(xlabel)\n",
    "    plt.ylabel('x')\n",
    "    plt.plot(x, y, '-ok')\n",
    "    plt.show()"
   ]
  },
  {
   "cell_type": "code",
   "execution_count": 8,
   "metadata": {
    "scrolled": true
   },
   "outputs": [],
   "source": [
    "def show_comparitive_graphs(v0,v1,v2,v3,v4,v5,v6):\n",
    "    variables = []\n",
    "    for s in input_sliders:\n",
    "        smin = int(s.min*100)\n",
    "        smax = int(s.max*100)\n",
    "        diff = smax-smin\n",
    "        points_per_graph = 20\n",
    "        step = int(diff/points_per_graph)\n",
    "        variables.append([x / 100 for x in range(smin, smax, step)])\n",
    "    for i,var in enumerate(variables):\n",
    "        #print(var)\n",
    "        values = input_slider_values()\n",
    "        output = []\n",
    "        xlabel = ''\n",
    "        xvalues = []\n",
    "        for v in var:\n",
    "            #print(v)\n",
    "            values[i] = v\n",
    "            xlabel = input_sliders[i].description\n",
    "            x, totalmonths, minPayment, payment, totalmonthsWithPMI, totalPMI = calculateX(values[0],values[1],values[2],values[3],values[4],values[5],values[6])\n",
    "            if x>0:\n",
    "                output.append(x)\n",
    "                xvalues.append(v)\n",
    "        mccgraph(xvalues, output, xlabel)\n",
    "    #plt.show()"
   ]
  },
  {
   "cell_type": "code",
   "execution_count": 9,
   "metadata": {
    "scrolled": false
   },
   "outputs": [],
   "source": [
    "def show_output1(v0,v1,v2,v3,v4,v5,v6,r1,o0,o1,o2,o3,o4,o5,o6,o7,o8,o9,o10,o11,o12,o13,o14,o15,o16,l0,l1,l2,l3):\n",
    "    houseprice = v1\n",
    "    if (r1 == 'Use Payment Multiplier'):\n",
    "        v6 = None\n",
    "    else:\n",
    "        v5 = 1\n",
    "    print(\"House Price: \"+int_to_string(houseprice)+\"k\")\n",
    "    x, totalmonths, minPayment, payment, totalmonthsWithPMI, totalPMI = calculateX(v0,v1,v2,v3,v4,v5,v6)\n",
    "    print(\"Minimum monthly payment = \"+int_to_string(minPayment)+\" and your chosen monthly payment = \"+int_to_string(payment))\n",
    "    print(\"You will spend \"+int_to_string(x*houseprice)+\"k on your mortgage in \"+str(round(totalmonths/12,2))+\" years (x=\"+str(round(x,2))+\")\")\n",
    "    print(\"Months paid with PMI = \"+str(round(totalmonthsWithPMI,2))+\" months and total PMI amount = \"+int_to_string(totalPMI))\n",
    "    onetime_total = int(houseprice*(o0/100)*1000 + o1 + o2 + o3 + o4 + o5 + o6 + o7 + o8 + o9 + o10 + o11 + o12 + o13 + o14 + o15 + o16)\n",
    "    print(\"You will have a one-time payment of \"+int_to_string(onetime_total))\n",
    "    totalPrice = int(x*houseprice*1000) + onetime_total\n",
    "    print(\"The total price of your house including mortgage and one-time costs is \"+int_to_string(totalPrice))\n",
    "    lifetime_total = l0 + l1*12 + l2*1000 + l3*12\n",
    "    print(\"Additionally every year you will pay \"+int_to_string(lifetime_total)+\"/yr\")\n",
    "def show_output2(v0,v1,v2,v3,v4,v5,v6):\n",
    "    show_comparitive_graphs(v0,v1,v2,v3,v4,v5,v6)\n",
    "    \n",
    "\n",
    "def int_to_string(v):\n",
    "    return '${:,.0f}'.format(v)\n",
    "\n",
    "interactive_plot1= widgets.interactive_output(show_output1, {\n",
    " 'v0':input_sliders[0]\n",
    ", 'v1':input_sliders[1]\n",
    ", 'v2':input_sliders[2]\n",
    ", 'v3':input_sliders[3]\n",
    ", 'v4':input_sliders[4]\n",
    ", 'v5':input_sliders[5]\n",
    ", 'v6':input_sliders[6]\n",
    ", 'r1':input_radios\n",
    ", 'o0':onetime_sliders[0]\n",
    ", 'o1':onetime_sliders[1]\n",
    ", 'o2':onetime_sliders[2]\n",
    ", 'o3':onetime_sliders[3]\n",
    ", 'o4':onetime_sliders[4]\n",
    ", 'o5':onetime_sliders[5]\n",
    ", 'o6':onetime_sliders[6]\n",
    ", 'o7':onetime_sliders[7]\n",
    ", 'o8':onetime_sliders[8]\n",
    ", 'o9':onetime_sliders[9]\n",
    ", 'o10':onetime_sliders[10]\n",
    ", 'o11':onetime_sliders[11]\n",
    ", 'o12':onetime_sliders[12]\n",
    ", 'o13':onetime_sliders[13]\n",
    ", 'o14':onetime_sliders[14]\n",
    ", 'o15':onetime_sliders[15]\n",
    ", 'o16':onetime_sliders[16]\n",
    ", 'l0':lifetime_sliders[0]\n",
    ", 'l1':lifetime_sliders[1]\n",
    ", 'l2':lifetime_sliders[2]\n",
    ", 'l3':lifetime_sliders[3]\n",
    "})\n",
    "interactive_plot2= widgets.interactive_output(show_output2, {\n",
    " 'v0':input_sliders[0]\n",
    ", 'v1':input_sliders[1]\n",
    ", 'v2':input_sliders[2]\n",
    ", 'v3':input_sliders[3]\n",
    ", 'v4':input_sliders[4]\n",
    ", 'v5':input_sliders[5]\n",
    ", 'v6':input_sliders[6]\n",
    "})\n",
    "\n",
    "\n",
    "\n"
   ]
  },
  {
   "cell_type": "markdown",
   "metadata": {},
   "source": [
    "# Mortgage influencers"
   ]
  },
  {
   "cell_type": "code",
   "execution_count": 10,
   "metadata": {},
   "outputs": [
    {
     "data": {
      "application/vnd.jupyter.widget-view+json": {
       "model_id": "a21023df6ae74ec28973cbab42d02bbb",
       "version_major": 2,
       "version_minor": 0
      },
      "text/plain": [
       "FloatSlider(value=3.0, description='Intrest Rate (%/yr)', layout=Layout(width='95%'), max=10.0, min=1.0, step=…"
      ]
     },
     "metadata": {},
     "output_type": "display_data"
    },
    {
     "data": {
      "application/vnd.jupyter.widget-view+json": {
       "model_id": "34dbbcb5d03b45fe9e5c327b22bda2aa",
       "version_major": 2,
       "version_minor": 0
      },
      "text/plain": [
       "IntSlider(value=300, description='House Price ($k)', layout=Layout(width='95%'), max=1000, min=100, style=Slid…"
      ]
     },
     "metadata": {},
     "output_type": "display_data"
    },
    {
     "data": {
      "application/vnd.jupyter.widget-view+json": {
       "model_id": "b2e154e09cc54c499a3625db6eb1700f",
       "version_major": 2,
       "version_minor": 0
      },
      "text/plain": [
       "IntSlider(value=60, description='Down Payment ($k)', layout=Layout(width='95%'), min=1, style=SliderStyle(desc…"
      ]
     },
     "metadata": {},
     "output_type": "display_data"
    },
    {
     "data": {
      "application/vnd.jupyter.widget-view+json": {
       "model_id": "94165c4db5ab4562966405889b92ecc9",
       "version_major": 2,
       "version_minor": 0
      },
      "text/plain": [
       "IntSlider(value=30, description='Term (years)', layout=Layout(width='95%'), max=60, min=1, style=SliderStyle(d…"
      ]
     },
     "metadata": {},
     "output_type": "display_data"
    },
    {
     "data": {
      "application/vnd.jupyter.widget-view+json": {
       "model_id": "80a976309784479eb975a65392c333cc",
       "version_major": 2,
       "version_minor": 0
      },
      "text/plain": [
       "FloatSlider(value=2.0, description='Private Mortgage Insurance (%/yr)', layout=Layout(width='95%'), max=5.0, s…"
      ]
     },
     "metadata": {},
     "output_type": "display_data"
    },
    {
     "data": {
      "application/vnd.jupyter.widget-view+json": {
       "model_id": "497c8b2ffda44875b95d15df895a494c",
       "version_major": 2,
       "version_minor": 0
      },
      "text/plain": [
       "FloatSlider(value=1.0, description='Payment Multiplier (%)', layout=Layout(width='95%'), max=5.0, min=1.0, sty…"
      ]
     },
     "metadata": {},
     "output_type": "display_data"
    },
    {
     "data": {
      "application/vnd.jupyter.widget-view+json": {
       "model_id": "8b186f1b48de4ba2a77e234ce4854a16",
       "version_major": 2,
       "version_minor": 0
      },
      "text/plain": [
       "IntSlider(value=1500, description='Specific Payment Amount ($)', layout=Layout(width='95%'), max=5000, min=500…"
      ]
     },
     "metadata": {},
     "output_type": "display_data"
    },
    {
     "data": {
      "application/vnd.jupyter.widget-view+json": {
       "model_id": "f6cec03bded6415a969e05600ed60a5b",
       "version_major": 2,
       "version_minor": 0
      },
      "text/plain": [
       "RadioButtons(description='Payment Choice', options=('Use Payment Multiplier', 'Use Specific Payment Amount'), …"
      ]
     },
     "metadata": {},
     "output_type": "display_data"
    }
   ],
   "source": [
    "for input_slider in input_sliders:\n",
    "    display(input_slider)\n",
    "display(input_radios)"
   ]
  },
  {
   "cell_type": "markdown",
   "metadata": {},
   "source": [
    "# One-time amounts"
   ]
  },
  {
   "cell_type": "code",
   "execution_count": 11,
   "metadata": {},
   "outputs": [
    {
     "data": {
      "application/vnd.jupyter.widget-view+json": {
       "model_id": "1340f59a4a7843ea965f6647e067d564",
       "version_major": 2,
       "version_minor": 0
      },
      "text/plain": [
       "FloatSlider(value=2.0, description='Closing Costs (%)', layout=Layout(width='95%'), max=5.0, min=1.0, style=Sl…"
      ]
     },
     "metadata": {},
     "output_type": "display_data"
    },
    {
     "data": {
      "application/vnd.jupyter.widget-view+json": {
       "model_id": "ef768418c690480ea733dda8a4483841",
       "version_major": 2,
       "version_minor": 0
      },
      "text/plain": [
       "IntSlider(value=350, description='Appraisal Fee ($)', layout=Layout(width='95%'), max=400, min=300, style=Slid…"
      ]
     },
     "metadata": {},
     "output_type": "display_data"
    },
    {
     "data": {
      "application/vnd.jupyter.widget-view+json": {
       "model_id": "94219e23f1e5495ab4b5707f720958b0",
       "version_major": 2,
       "version_minor": 0
      },
      "text/plain": [
       "IntSlider(value=400, description='Inspection Fee ($)', layout=Layout(width='95%'), max=500, min=300, style=Sli…"
      ]
     },
     "metadata": {},
     "output_type": "display_data"
    }
   ],
   "source": [
    "for onetime_slider in onetime_sliders[:3]:\n",
    "    display(onetime_slider)"
   ]
  },
  {
   "cell_type": "markdown",
   "metadata": {},
   "source": [
    "# Home repairs"
   ]
  },
  {
   "cell_type": "code",
   "execution_count": 12,
   "metadata": {},
   "outputs": [
    {
     "data": {
      "application/vnd.jupyter.widget-view+json": {
       "model_id": "26916441d2354f7c85f2119b75ed3d72",
       "version_major": 2,
       "version_minor": 0
      },
      "text/plain": [
       "IntSlider(value=0, description='Paint ($)', layout=Layout(width='95%'), max=5000, style=SliderStyle(descriptio…"
      ]
     },
     "metadata": {},
     "output_type": "display_data"
    },
    {
     "data": {
      "application/vnd.jupyter.widget-view+json": {
       "model_id": "dabf2dfee34a44f684331aa318121fe8",
       "version_major": 2,
       "version_minor": 0
      },
      "text/plain": [
       "IntSlider(value=0, description='Cabinets ($)', layout=Layout(width='95%'), max=5000, style=SliderStyle(descrip…"
      ]
     },
     "metadata": {},
     "output_type": "display_data"
    },
    {
     "data": {
      "application/vnd.jupyter.widget-view+json": {
       "model_id": "c58824a9e2004c238deefcb60b791fe0",
       "version_major": 2,
       "version_minor": 0
      },
      "text/plain": [
       "IntSlider(value=0, description='Appliances ($)', layout=Layout(width='95%'), max=5000, style=SliderStyle(descr…"
      ]
     },
     "metadata": {},
     "output_type": "display_data"
    },
    {
     "data": {
      "application/vnd.jupyter.widget-view+json": {
       "model_id": "5c305d68e74f48a1be68bcf21019d861",
       "version_major": 2,
       "version_minor": 0
      },
      "text/plain": [
       "IntSlider(value=0, description='Furniture ($)', layout=Layout(width='95%'), max=5000, style=SliderStyle(descri…"
      ]
     },
     "metadata": {},
     "output_type": "display_data"
    },
    {
     "data": {
      "application/vnd.jupyter.widget-view+json": {
       "model_id": "51c646034fba400e941eaf03ccb78292",
       "version_major": 2,
       "version_minor": 0
      },
      "text/plain": [
       "IntSlider(value=0, description='Windows ($)', layout=Layout(width='95%'), max=5000, style=SliderStyle(descript…"
      ]
     },
     "metadata": {},
     "output_type": "display_data"
    },
    {
     "data": {
      "application/vnd.jupyter.widget-view+json": {
       "model_id": "2444c8c60461432dbe6f33217ac1a7d4",
       "version_major": 2,
       "version_minor": 0
      },
      "text/plain": [
       "IntSlider(value=0, description='Roof ($)', layout=Layout(width='95%'), max=5000, style=SliderStyle(description…"
      ]
     },
     "metadata": {},
     "output_type": "display_data"
    },
    {
     "data": {
      "application/vnd.jupyter.widget-view+json": {
       "model_id": "55e22c7a8d914746b7ca7d426878f1d2",
       "version_major": 2,
       "version_minor": 0
      },
      "text/plain": [
       "IntSlider(value=0, description='Tile ($)', layout=Layout(width='95%'), max=5000, style=SliderStyle(description…"
      ]
     },
     "metadata": {},
     "output_type": "display_data"
    },
    {
     "data": {
      "application/vnd.jupyter.widget-view+json": {
       "model_id": "809f537d1ef0446392a51c47b73b2231",
       "version_major": 2,
       "version_minor": 0
      },
      "text/plain": [
       "IntSlider(value=0, description='Carpet ($)', layout=Layout(width='95%'), max=5000, style=SliderStyle(descripti…"
      ]
     },
     "metadata": {},
     "output_type": "display_data"
    },
    {
     "data": {
      "application/vnd.jupyter.widget-view+json": {
       "model_id": "133bf48dfd3a446a88c0c9e849b909eb",
       "version_major": 2,
       "version_minor": 0
      },
      "text/plain": [
       "IntSlider(value=0, description='Lawn ($)', layout=Layout(width='95%'), max=5000, style=SliderStyle(description…"
      ]
     },
     "metadata": {},
     "output_type": "display_data"
    },
    {
     "data": {
      "application/vnd.jupyter.widget-view+json": {
       "model_id": "3543cb5f722e48d8a1f059dd5f69e7d2",
       "version_major": 2,
       "version_minor": 0
      },
      "text/plain": [
       "IntSlider(value=0, description='Doors ($)', layout=Layout(width='95%'), max=5000, style=SliderStyle(descriptio…"
      ]
     },
     "metadata": {},
     "output_type": "display_data"
    },
    {
     "data": {
      "application/vnd.jupyter.widget-view+json": {
       "model_id": "e1dcfac86a1c4335bf459a78a59211a8",
       "version_major": 2,
       "version_minor": 0
      },
      "text/plain": [
       "IntSlider(value=0, description='Bathtub/sink/toilet ($)', layout=Layout(width='95%'), max=5000, style=SliderSt…"
      ]
     },
     "metadata": {},
     "output_type": "display_data"
    },
    {
     "data": {
      "application/vnd.jupyter.widget-view+json": {
       "model_id": "41ffb49ef22d4c1ca9f46ea00e9ca042",
       "version_major": 2,
       "version_minor": 0
      },
      "text/plain": [
       "IntSlider(value=0, description='Lights ($)', layout=Layout(width='95%'), max=5000, style=SliderStyle(descripti…"
      ]
     },
     "metadata": {},
     "output_type": "display_data"
    },
    {
     "data": {
      "application/vnd.jupyter.widget-view+json": {
       "model_id": "6eb2ccc1eba04f08b4c47015a8139fbe",
       "version_major": 2,
       "version_minor": 0
      },
      "text/plain": [
       "IntSlider(value=0, description='Plumbing ($)', layout=Layout(width='95%'), max=5000, style=SliderStyle(descrip…"
      ]
     },
     "metadata": {},
     "output_type": "display_data"
    },
    {
     "data": {
      "application/vnd.jupyter.widget-view+json": {
       "model_id": "754f438d86204af8813b0a31e7394a09",
       "version_major": 2,
       "version_minor": 0
      },
      "text/plain": [
       "IntSlider(value=0, description='Electrical ($)', layout=Layout(width='95%'), max=5000, style=SliderStyle(descr…"
      ]
     },
     "metadata": {},
     "output_type": "display_data"
    }
   ],
   "source": [
    "for onetime_slider in onetime_sliders[3:]:\n",
    "    display(onetime_slider)"
   ]
  },
  {
   "cell_type": "markdown",
   "metadata": {},
   "source": [
    "# Lifetime amounts"
   ]
  },
  {
   "cell_type": "code",
   "execution_count": 13,
   "metadata": {},
   "outputs": [
    {
     "data": {
      "application/vnd.jupyter.widget-view+json": {
       "model_id": "9f6fb2792be54867b678348f2c9e98ec",
       "version_major": 2,
       "version_minor": 0
      },
      "text/plain": [
       "IntSlider(value=600, description='Home Insurance ($/yr)', layout=Layout(width='95%'), max=5000, min=500, style…"
      ]
     },
     "metadata": {},
     "output_type": "display_data"
    },
    {
     "data": {
      "application/vnd.jupyter.widget-view+json": {
       "model_id": "3774a063c79c40f6850ca31c854a00da",
       "version_major": 2,
       "version_minor": 0
      },
      "text/plain": [
       "IntSlider(value=200, description='HOA contribution ($/mo)', layout=Layout(width='95%'), max=700, style=SliderS…"
      ]
     },
     "metadata": {},
     "output_type": "display_data"
    },
    {
     "data": {
      "application/vnd.jupyter.widget-view+json": {
       "model_id": "f60de53d086c42588ceba3a79e1fde70",
       "version_major": 2,
       "version_minor": 0
      },
      "text/plain": [
       "FloatSlider(value=4.5, description='Property Taxes ($k/yr)', layout=Layout(width='95%'), max=200.0, style=Slid…"
      ]
     },
     "metadata": {},
     "output_type": "display_data"
    },
    {
     "data": {
      "application/vnd.jupyter.widget-view+json": {
       "model_id": "3ca1a28aefdd42288246d6bf7e229630",
       "version_major": 2,
       "version_minor": 0
      },
      "text/plain": [
       "IntSlider(value=300, description='Utilities ($/mo)', layout=Layout(width='95%'), max=1000, style=SliderStyle(d…"
      ]
     },
     "metadata": {},
     "output_type": "display_data"
    }
   ],
   "source": [
    "for lifetime_slider in lifetime_sliders:\n",
    "    display(lifetime_slider)"
   ]
  },
  {
   "cell_type": "markdown",
   "metadata": {},
   "source": [
    "# Output"
   ]
  },
  {
   "cell_type": "code",
   "execution_count": 14,
   "metadata": {},
   "outputs": [
    {
     "data": {
      "application/vnd.jupyter.widget-view+json": {
       "model_id": "0a9334b6926b4dce8a1de372a7712c01",
       "version_major": 2,
       "version_minor": 0
      },
      "text/plain": [
       "Output(outputs=({'name': 'stdout', 'text': 'House Price: $300k\\nMinimum monthly payment = $1,012 and your chos…"
      ]
     },
     "metadata": {},
     "output_type": "display_data"
    }
   ],
   "source": [
    "display(interactive_plot1)"
   ]
  },
  {
   "cell_type": "markdown",
   "metadata": {},
   "source": [
    "# How to reduce spending"
   ]
  },
  {
   "cell_type": "code",
   "execution_count": 15,
   "metadata": {},
   "outputs": [
    {
     "data": {
      "application/vnd.jupyter.widget-view+json": {
       "model_id": "388bc9badf224bd498002d12ccb150cf",
       "version_major": 2,
       "version_minor": 0
      },
      "text/plain": [
       "Output(outputs=({'output_type': 'display_data', 'data': {'text/plain': '<Figure size 432x288 with 1 Axes>', 'i…"
      ]
     },
     "metadata": {},
     "output_type": "display_data"
    }
   ],
   "source": [
    "display(interactive_plot2)"
   ]
  }
 ],
 "metadata": {
  "kernelspec": {
   "display_name": "Python 3.7.6 ('base')",
   "language": "python",
   "name": "python3"
  },
  "language_info": {
   "codemirror_mode": {
    "name": "ipython",
    "version": 3
   },
   "file_extension": ".py",
   "mimetype": "text/x-python",
   "name": "python",
   "nbconvert_exporter": "python",
   "pygments_lexer": "ipython3",
   "version": "3.7.6"
  },
  "vscode": {
   "interpreter": {
    "hash": "569a54374fb09e566c4e4fc72a54e568272b1e1673b4b91b73fe07ee3f173a2c"
   }
  }
 },
 "nbformat": 4,
 "nbformat_minor": 4
}
