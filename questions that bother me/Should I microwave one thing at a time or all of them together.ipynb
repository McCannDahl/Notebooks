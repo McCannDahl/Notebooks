{
 "cells": [
  {
   "cell_type": "markdown",
   "id": "3d0e1cba",
   "metadata": {},
   "source": [
    "Should I microwave one thing at a time or all of them together?"
   ]
  }
 ],
 "metadata": {
  "language_info": {
   "name": "python"
  }
 },
 "nbformat": 4,
 "nbformat_minor": 5
}
