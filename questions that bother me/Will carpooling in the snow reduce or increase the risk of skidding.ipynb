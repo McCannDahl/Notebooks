{
 "cells": [
  {
   "cell_type": "markdown",
   "id": "7ce2ae1b",
   "metadata": {},
   "source": [
    "Will carpooling in the snow reduce or increase the risk of skidding?"
   ]
  }
 ],
 "metadata": {
  "language_info": {
   "name": "python"
  }
 },
 "nbformat": 4,
 "nbformat_minor": 5
}
