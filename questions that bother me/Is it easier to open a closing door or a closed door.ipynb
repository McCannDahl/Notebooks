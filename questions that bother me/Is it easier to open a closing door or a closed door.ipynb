{
 "cells": [
  {
   "cell_type": "markdown",
   "id": "82929311",
   "metadata": {},
   "source": [
    "# Is it easier to open a closing door or a closed door?"
   ]
  }
 ],
 "metadata": {
  "language_info": {
   "name": "python"
  }
 },
 "nbformat": 4,
 "nbformat_minor": 5
}
