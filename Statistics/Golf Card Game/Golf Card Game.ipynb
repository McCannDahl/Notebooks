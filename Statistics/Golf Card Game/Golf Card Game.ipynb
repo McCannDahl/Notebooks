{
 "cells": [
  {
   "cell_type": "markdown",
   "metadata": {},
   "source": [
    "# Golf Card Game Statistics Analysis\n",
    "This is a tool used to "
   ]
  },
  {
   "cell_type": "code",
   "execution_count": 1,
   "metadata": {},
   "outputs": [],
   "source": [
    "#point_values = {}\n",
    "#discard = []\n",
    "#me = []\n",
    "#you = []\n",
    "\n",
    "def prob2_same(c):\n",
    "    if c in unknowns:\n",
    "        if unknowns.count(c) >= 2:\n",
    "            return (unknowns.count(c)-1)/(len(unknowns)-1)\n",
    "    return 0\n",
    "\n",
    "def prob(c):\n",
    "    #print('prob ',c)\n",
    "    #print('c in unknowns ',(c in unknowns))\n",
    "    if c in unknowns:\n",
    "        #print('There are ',unknowns.count(c),' in the unknowns of ',len(unknowns))\n",
    "        return unknowns.count(c)/len(unknowns)\n",
    "    return 0\n",
    "\n",
    "def prob_diff(c,without):\n",
    "    new_unknowns = remove_values_from_list(unknowns,without)\n",
    "    if c in new_unknowns:\n",
    "        #print('There are ',unknowns.count(c),' in the unknowns of ',len(unknowns))\n",
    "        return new_unknowns.count(c)/len(new_unknowns)\n",
    "    return 0\n",
    "\n",
    "def prob2_all():\n",
    "    #print('prob2_all')\n",
    "    return_val = 0\n",
    "    for c in point_values.keys():\n",
    "        return_val += prob(c)*prob2_same(c)\n",
    "    return return_val\n",
    "\n",
    "def score(c):\n",
    "    #print('score')\n",
    "    return point_values[c]\n",
    "\n",
    "def remove_values_from_list(the_list, val):\n",
    "    #print('remove_values_from_list')\n",
    "    return [value for value in the_list if value != val]\n",
    "    \n",
    "def get_mean(arr):\n",
    "    #print('get_mean')\n",
    "    tot = 0\n",
    "    for c in arr:\n",
    "        tot += score(c)\n",
    "    return tot/len(arr)\n",
    "\n",
    "\n",
    "def get_prob_both_same(col):\n",
    "    #print('get_prob_both_same')\n",
    "    c1 = col[0]\n",
    "    c2 = col[1]\n",
    "    if c1 != '?' and c2 != '?':\n",
    "        if c1 == c2:\n",
    "            return 1\n",
    "    elif c1 != '?':\n",
    "        return prob(c1)\n",
    "    elif c2 != '?':\n",
    "        return prob(c2)\n",
    "    elif c1 == '?' and c2 == '?':\n",
    "        return prob2_all()\n",
    "    return 0\n",
    "\n",
    "\n",
    "def get_not_same_scores(col):\n",
    "    #print('get_not_same_scores')\n",
    "    return_val = []\n",
    "    c1 = col[0]\n",
    "    c2 = col[1]\n",
    "    if c1 != '?' and c2 != '?':\n",
    "        return_val.append({\n",
    "            'score': score(c1)+score(c2),\n",
    "            'prob': 1\n",
    "        })\n",
    "    elif c1 != '?':\n",
    "        for c_2 in point_values.keys():\n",
    "            if c1 != c_2:\n",
    "                return_val.append({\n",
    "                    'score': score(c1)+score(c_2),\n",
    "                    'prob': prob_diff(c_2,c1)\n",
    "                })\n",
    "    elif c2 != '?':\n",
    "        for c_1 in point_values.keys():\n",
    "            if c2 != c_1:\n",
    "                return_val.append({\n",
    "                    'score': score(c2)+score(c_1),\n",
    "                    'prob': prob_diff(c_1,c2)\n",
    "                })\n",
    "    elif c1 == '?' and c2 == '?':\n",
    "        for c_1 in point_values.keys():\n",
    "            for c_2 in point_values.keys():\n",
    "                if c_1 != c_2:\n",
    "                    return_val.append({\n",
    "                        'score': score(c_1)+score(c_2),\n",
    "                        'prob': prob(c_1)*prob_diff(c_2,c_1)\n",
    "                    })\n",
    "    return consolidate_scores(return_val)\n",
    "\n",
    "def get_prob_both_w(col):\n",
    "    #print('get_prob_both_w')\n",
    "    c1 = col[0]\n",
    "    c2 = col[1]\n",
    "    if c1 == '?' and c2 == '?':\n",
    "        return prob('W')*prob2_same('w')\n",
    "    if c1 == 'W' and c2 == 'W':\n",
    "        return 1\n",
    "    elif (c1 == 'W' and c2 == '?') or (c2 == 'W' and c1 == '?'):\n",
    "        return prob('W')\n",
    "    return 0\n",
    "\n",
    "def consolidate_scores(scores):\n",
    "    return_val = []\n",
    "    for s in scores:\n",
    "        exists = False\n",
    "        for r in return_val:\n",
    "            if r['score'] == s['score']:\n",
    "                exists = True\n",
    "                r['prob'] += s['prob']\n",
    "        if exists == False and s['prob']>0:\n",
    "            return_val.append({\n",
    "                'score': s['score'],\n",
    "                'prob': s['prob']\n",
    "            })\n",
    "    return validate(return_val)\n",
    "\n",
    "def validate(scores):\n",
    "    tot_prob = 0\n",
    "    for s in scores:\n",
    "        tot_prob += s['prob']\n",
    "    if tot_prob < 0.98 or tot_prob > 1.02:\n",
    "       print('validation error ',tot_prob)\n",
    "    return scores\n",
    "\n",
    "def get_col_scores(col):\n",
    "    #print('get_col_scores')\n",
    "    return_val = []\n",
    "    prob_both_same = get_prob_both_same(col)\n",
    "    #print('prob_both_same ',prob_both_same)\n",
    "    prob_both_w = get_prob_both_w(col)\n",
    "    #print('prob_both_w ',prob_both_w)\n",
    "    if prob_both_same*prob_both_w > 0:\n",
    "        return_val.append({\n",
    "            'score': -4,\n",
    "            'prob': prob_both_same*prob_both_w\n",
    "        })\n",
    "    if prob_both_same*(1-prob_both_w) > 0:\n",
    "        return_val.append({\n",
    "            'score': 0,\n",
    "            'prob': prob_both_same*(1-prob_both_w)\n",
    "        })\n",
    "    not_same_scores = get_not_same_scores(col)\n",
    "    for s in not_same_scores:\n",
    "        if (1-prob_both_same)*s['prob'] > 0:\n",
    "            return_val.append({\n",
    "                'score': s['score'],\n",
    "                'prob': (1-prob_both_same)*s['prob']\n",
    "            })\n",
    "    return consolidate_scores(return_val)\n",
    "   \n",
    "\n",
    "def get_scores(m): # return [{'score':#,'prob':#}]\n",
    "    #print('get_scores')\n",
    "    return_val = []\n",
    "    for s0 in get_col_scores(m[0]):\n",
    "        for s1 in get_col_scores(m[1]):\n",
    "            for s2 in get_col_scores(m[2]):\n",
    "                #print(s0,s1,s2)\n",
    "                return_val.append({\n",
    "                    'score': s0['score']+s1['score']+s2['score'],\n",
    "                    'prob': s0['prob']*s1['prob']*s2['prob']\n",
    "                })\n",
    "    return consolidate_scores(return_val)\n",
    "\n",
    "def oddsOfWinning(m,y):\n",
    "    #print('oddsOfWinning')\n",
    "    scores_me = get_scores(m)\n",
    "    scores_you = get_scores(y)\n",
    "    winning_prob = 0\n",
    "    tieing_prob = 0\n",
    "    losing_prob = 0\n",
    "    avg_score_me = 0\n",
    "    avg_score_you = 0\n",
    "    for d1 in scores_me:\n",
    "        avg_score_me += d1['score']*d1['prob']\n",
    "    for d2 in scores_you:\n",
    "        avg_score_you += d2['score']*d2['prob']\n",
    "    for d1 in scores_me:\n",
    "        for d2 in scores_you:\n",
    "            if d1['score'] < d2 ['score']:\n",
    "                winning_prob += d1['prob']*d2['prob']\n",
    "            elif d1['score'] == d2 ['score']:\n",
    "                tieing_prob += d1['prob']*d2['prob']\n",
    "            elif d1['score'] > d2 ['score']:\n",
    "                losing_prob += d1['prob']*d2['prob']\n",
    "    return winning_prob, tieing_prob, losing_prob, avg_score_me, avg_score_you\n",
    "\n"
   ]
  },
  {
   "cell_type": "code",
   "execution_count": 2,
   "metadata": {},
   "outputs": [],
   "source": [
    "deck = []\n",
    "for i in range(9):\n",
    "    for j in range(4):\n",
    "        deck.append(str(i+2))\n",
    "for j in range(4):\n",
    "    deck.append(str('J'))\n",
    "for j in range(4):\n",
    "    deck.append(str('Q'))\n",
    "for j in range(4):\n",
    "    deck.append(str('K'))\n",
    "for j in range(4):\n",
    "    deck.append(str('A'))\n",
    "for j in range(2):\n",
    "    deck.append(str('W'))\n",
    "#deck"
   ]
  },
  {
   "cell_type": "code",
   "execution_count": 3,
   "metadata": {},
   "outputs": [],
   "source": [
    "point_values = {}\n",
    "for i in range(9):\n",
    "    point_values[str(i+2)] = i+2\n",
    "point_values['J'] = 10\n",
    "point_values['Q'] = 10\n",
    "point_values['K'] = 0\n",
    "point_values['A'] = 1\n",
    "point_values['W'] = -2\n",
    "#point_values  "
   ]
  },
  {
   "cell_type": "code",
   "execution_count": 4,
   "metadata": {},
   "outputs": [],
   "source": [
    "discard = ['2','Q','10','2']\n",
    "me = [['?','?'],['?','5'],['?','2']]\n",
    "you = [['7','7'],['?','?'],['W','?']]"
   ]
  },
  {
   "cell_type": "code",
   "execution_count": 5,
   "metadata": {},
   "outputs": [],
   "source": [
    "unknowns = deck\n",
    "for c in discard:\n",
    "    if c in unknowns:\n",
    "        unknowns.remove(c)\n",
    "for c in me:\n",
    "    if c in unknowns:\n",
    "        unknowns.remove(c)\n",
    "for c in you:\n",
    "    if c in unknowns:\n",
    "        unknowns.remove(c)\n",
    "#unknown_cards"
   ]
  },
  {
   "cell_type": "code",
   "execution_count": 6,
   "metadata": {},
   "outputs": [
    {
     "name": "stdout",
     "output_type": "stream",
     "text": [
      "Your odds of winning 9.35% losing 88.95% and tieing 1.7%\n",
      "My average =  27.19\n",
      "Your average =  13.86\n",
      "Unknown average =  5.44\n"
     ]
    }
   ],
   "source": [
    "winning_prob, tieing_prob, losing_prob, avg_score_me, avg_score_you = oddsOfWinning(me,you)\n",
    "print('Your odds of winning '+str(round(winning_prob*100,2))+'% losing '+str(round(losing_prob*100,2))+'% and tieing '+str(round(tieing_prob*100,2))+'%')\n",
    "print('My average = ',round(avg_score_me,2))\n",
    "print('Your average = ',round(avg_score_you,2))\n",
    "print('Unknown average = ',round(get_mean(unknowns),2))"
   ]
  },
  {
   "cell_type": "code",
   "execution_count": 7,
   "metadata": {},
   "outputs": [],
   "source": [
    "import matplotlib.pyplot as plt\n",
    "def graph(x,y,xlabel):\n",
    "    plt.figure()\n",
    "    plt.xlabel(xlabel)\n",
    "    plt.ylabel('x')\n",
    "    plt.plot(x, y, '-ok')\n",
    "    plt.show()"
   ]
  },
  {
   "cell_type": "code",
   "execution_count": 8,
   "metadata": {},
   "outputs": [
    {
     "data": {
      "text/plain": [
       "True"
      ]
     },
     "execution_count": 8,
     "metadata": {},
     "output_type": "execute_result"
    }
   ],
   "source": [
    "discards = [\n",
    "    ['2'],\n",
    "    ['2','Q'],\n",
    "    ['2','Q'],\n",
    "    ['2','Q','10'],\n",
    "    ['2','Q','10','2'],\n",
    "    ['2','Q','10','7'],\n",
    "    ['2','Q','10','7','6'],\n",
    "    ['2','Q','10','7','6','8'],\n",
    "    ['2','Q','10','7','6','8'],\n",
    "    ['2','Q','10','7','6','8','9'],\n",
    "    ['2','Q','10','7','6','8','9','Q'],\n",
    "    ['2','Q','10','7','6','8','9','Q','Q'],\n",
    "    ['2','Q','10','7','6','8','9','Q','Q','Q'],\n",
    "    ['2','Q','10','7','6','8','9','Q','Q','Q','5'],\n",
    "    ['2','Q','10','7','6','8','9','Q','Q','Q','5','J'],\n",
    "    ['2','Q','10','7','6','8','9','Q','Q','Q','5','J','10'],\n",
    "    ['2','Q','10','7','6','8','9','Q','Q','Q','5','J','10','7'],\n",
    "]\n",
    "mes = [\n",
    "    [['?','?'],['?','5'],['?','Q']],\n",
    "    [['?','?'],['?','5'],['?','2']],\n",
    "    [['?','?'],['?','5'],['?','2']],\n",
    "    [['?','?'],['?','5'],['?','2']],\n",
    "    [['?','?'],['?','5'],['?','2']],\n",
    "    [['?','?'],['?','5'],['2','2']],\n",
    "    [['?','?'],['?','5'],['2','2']],\n",
    "    [['?','?'],['?','5'],['2','2']],\n",
    "    [['?','?'],['?','5'],['2','2']],\n",
    "    [['?','J'],['?','5'],['2','2']],\n",
    "    [['?','J'],['?','5'],['2','2']],\n",
    "    [['J','J'],['?','5'],['2','2']],\n",
    "    [['J','J'],['?','5'],['2','2']],\n",
    "    [['J','J'],['?','4'],['2','2']],\n",
    "    [['J','J'],['?','4'],['2','2']],\n",
    "    [['J','J'],['4','4'],['2','2']],\n",
    "    [['J','J'],['4','4'],['2','2']],\n",
    "]\n",
    "yous = [\n",
    "    [['?','?'],['?','?'],['?','?']],\n",
    "    [['?','?'],['?','?'],['?','?']],\n",
    "    [['7','2'],['?','?'],['W','?']],\n",
    "    [['7','2'],['?','?'],['W','?']],\n",
    "    [['7','7'],['?','?'],['W','?']],\n",
    "    [['7','7'],['?','?'],['W','?']],\n",
    "    [['7','7'],['?','?'],['W','?']],\n",
    "    [['7','7'],['?','?'],['W','?']],\n",
    "    [['7','7'],['?','J'],['W','?']],\n",
    "    [['7','7'],['?','J'],['W','?']],\n",
    "    [['7','7'],['?','J'],['W','?']],\n",
    "    [['7','7'],['?','J'],['W','?']],\n",
    "    [['7','7'],['?','J'],['W','W']],\n",
    "    [['7','7'],['?','J'],['W','W']],\n",
    "    [['7','7'],['?','A'],['W','W']],\n",
    "    [['7','7'],['?','A'],['W','W']],\n",
    "    [['7','7'],['5','A'],['W','W']],\n",
    "]\n",
    "len(mes) == len(yous)"
   ]
  },
  {
   "cell_type": "code",
   "execution_count": 9,
   "metadata": {},
   "outputs": [],
   "source": [
    "winning_probs = []\n",
    "tieing_probs = []\n",
    "losing_probs = []\n",
    "unknown_avgs = []\n",
    "turns = []\n",
    "avg_score_mes = []\n",
    "avg_score_yous = []\n",
    "for i,d in enumerate(discards):\n",
    "    \n",
    "    unknowns = deck\n",
    "    for c in d:\n",
    "        if c in unknowns:\n",
    "            unknowns.remove(c)\n",
    "    for c in mes[i]:\n",
    "        if c in unknowns:\n",
    "            unknowns.remove(c)\n",
    "    for c in yous[i]:\n",
    "        if c in unknowns:\n",
    "            unknowns.remove(c)\n",
    "    \n",
    "    winning_prob, tieing_prob, losing_prob, avg_score_me, avg_score_you = oddsOfWinning(mes[i],yous[i])\n",
    "    winning_probs.append(winning_prob)\n",
    "    tieing_probs.append(tieing_prob)\n",
    "    losing_probs.append(losing_prob)\n",
    "    unknown_avgs.append(get_mean(unknowns))\n",
    "    avg_score_mes.append(avg_score_me)\n",
    "    avg_score_yous.append(avg_score_you)\n",
    "    turns.append(i)\n",
    "    "
   ]
  },
  {
   "cell_type": "code",
   "execution_count": 10,
   "metadata": {},
   "outputs": [
    {
     "data": {
      "image/png": "[encoded data removed]",
      "text/plain": [
       "<Figure size 432x288 with 1 Axes>"
      ]
     },
     "metadata": {
      "needs_background": "light"
     },
     "output_type": "display_data"
    },
    {
     "data": {
      "image/png": "[encoded data removed]",
      "text/plain": [
       "<Figure size 432x288 with 1 Axes>"
      ]
     },
     "metadata": {
      "needs_background": "light"
     },
     "output_type": "display_data"
    },
    {
     "data": {
      "image/png": "[encoded data removed]",
      "text/plain": [
       "<Figure size 432x288 with 1 Axes>"
      ]
     },
     "metadata": {
      "needs_background": "light"
     },
     "output_type": "display_data"
    },
    {
     "data": {
      "image/png": "[encoded data removed]",
      "text/plain": [
       "<Figure size 432x288 with 1 Axes>"
      ]
     },
     "metadata": {
      "needs_background": "light"
     },
     "output_type": "display_data"
    },
    {
     "data": {
      "image/png": "[encoded data removed]",
      "text/plain": [
       "<Figure size 432x288 with 1 Axes>"
      ]
     },
     "metadata": {
      "needs_background": "light"
     },
     "output_type": "display_data"
    },
    {
     "data": {
      "image/png": "[encoded data removed]",
      "text/plain": [
       "<Figure size 432x288 with 1 Axes>"
      ]
     },
     "metadata": {
      "needs_background": "light"
     },
     "output_type": "display_data"
    }
   ],
   "source": [
    "graph(turns,winning_probs,'winning prob')\n",
    "graph(turns,tieing_probs,'tieing prob')\n",
    "graph(turns,losing_probs,'losing prob')\n",
    "graph(turns,avg_score_mes,'me avgs')\n",
    "graph(turns,avg_score_yous,'you avgs')\n",
    "graph(turns,unknown_avgs,'unknown avgs')"
   ]
  },
  {
   "cell_type": "code",
   "execution_count": null,
   "metadata": {},
   "outputs": [],
   "source": []
  },
  {
   "cell_type": "code",
   "execution_count": null,
   "metadata": {},
   "outputs": [],
   "source": []
  }
 ],
 "metadata": {
  "kernelspec": {
   "display_name": "Python 3",
   "language": "python",
   "name": "python3"
  },
  "language_info": {
   "codemirror_mode": {
    "name": "ipython",
    "version": 3
   },
   "file_extension": ".py",
   "mimetype": "text/x-python",
   "name": "python",
   "nbconvert_exporter": "python",
   "pygments_lexer": "ipython3",
   "version": "3.7.6"
  }
 },
 "nbformat": 4,
 "nbformat_minor": 4
}
