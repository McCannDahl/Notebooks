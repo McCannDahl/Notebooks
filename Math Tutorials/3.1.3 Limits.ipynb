{
 "cells": [
  {
   "cell_type": "markdown",
   "id": "0074a85a-87eb-407d-9bb7-59127b5ce18e",
   "metadata": {},
   "source": [
    "# Limits\n",
    "##### I just can't take this any more"
   ]
  },
  {
   "cell_type": "code",
   "execution_count": 1,
   "id": "1b54c7cb-b2ef-44e4-bc24-35bcb7f197d6",
   "metadata": {},
   "outputs": [],
   "source": [
    "from IPython.core.interactiveshell import InteractiveShell\n",
    "InteractiveShell.ast_node_interactivity = \"all\"\n",
    "from sympy import *\n",
    "from sympy.plotting import *\n",
    "from sympy.matrices import *\n",
    "init_printing()\n",
    "import warnings\n",
    "warnings.filterwarnings(\"ignore\", category=UserWarning)"
   ]
  },
  {
   "cell_type": "code",
   "execution_count": 2,
   "id": "1e230fb2-0441-4105-8a50-e4c1dc883a99",
   "metadata": {},
   "outputs": [],
   "source": [
    "x, y, z = symbols(\"x, y, z\")"
   ]
  },
  {
   "cell_type": "markdown",
   "id": "bcabe6a3-a971-4de6-afaa-6a925f63e7e4",
   "metadata": {},
   "source": [
    "## Definition\n",
    "In Mathematics, a limit is defined as a value that a function approaches the output for the given input values."
   ]
  },
  {
   "cell_type": "code",
   "execution_count": 3,
   "id": "b0cca53a-282f-4add-b671-de363187587d",
   "metadata": {},
   "outputs": [
    {
     "data": {
      "image/png": "[encoded data removed]",
      "text/latex": [
       "$\\displaystyle y = \\lim_{x \\to 0^+}\\left(\\frac{\\sin{\\left(x \\right)}}{x}\\right)$"
      ],
      "text/plain": [
       "         ⎛sin(x)⎞\n",
       "y =  lim ⎜──────⎟\n",
       "    x─→0⁺⎝  x   ⎠"
      ]
     },
     "metadata": {},
     "output_type": "display_data"
    }
   ],
   "source": [
    "l = Limit(sin(x)/x, x, 0)\n",
    "equation = Eq(y,l)\n",
    "display(equation)"
   ]
  },
  {
   "cell_type": "code",
   "execution_count": 4,
   "id": "296c67ef",
   "metadata": {},
   "outputs": [
    {
     "data": {
      "image/png": "[encoded data removed]",
      "text/latex": [
       "$\\displaystyle y = 1$"
      ],
      "text/plain": [
       "y = 1"
      ]
     },
     "execution_count": 4,
     "metadata": {},
     "output_type": "execute_result"
    }
   ],
   "source": [
    "equation.doit()"
   ]
  }
 ],
 "metadata": {
  "kernelspec": {
   "display_name": "Python 3 (ipykernel)",
   "language": "python",
   "name": "python3"
  },
  "language_info": {
   "codemirror_mode": {
    "name": "ipython",
    "version": 3
   },
   "file_extension": ".py",
   "mimetype": "text/x-python",
   "name": "python",
   "nbconvert_exporter": "python",
   "pygments_lexer": "ipython3",
   "version": "3.7.4"
  }
 },
 "nbformat": 4,
 "nbformat_minor": 5
}
