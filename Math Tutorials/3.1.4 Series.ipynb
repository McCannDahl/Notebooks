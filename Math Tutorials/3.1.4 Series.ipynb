{
 "cells": [
  {
   "cell_type": "markdown",
   "id": "0074a85a-87eb-407d-9bb7-59127b5ce18e",
   "metadata": {},
   "source": [
    "# Series\n",
    "##### My favorite"
   ]
  },
  {
   "cell_type": "code",
   "execution_count": 1,
   "id": "1b54c7cb-b2ef-44e4-bc24-35bcb7f197d6",
   "metadata": {},
   "outputs": [],
   "source": [
    "from IPython.core.interactiveshell import InteractiveShell\n",
    "InteractiveShell.ast_node_interactivity = \"all\"\n",
    "from sympy import *\n",
    "from sympy.plotting import *\n",
    "from sympy.matrices import *\n",
    "init_printing()\n",
    "import warnings\n",
    "warnings.filterwarnings(\"ignore\", category=UserWarning)"
   ]
  },
  {
   "cell_type": "code",
   "execution_count": 2,
   "id": "1e230fb2-0441-4105-8a50-e4c1dc883a99",
   "metadata": {},
   "outputs": [],
   "source": [
    "x, y, z = symbols(\"x, y, z\")\n",
    "f = Function('f')"
   ]
  },
  {
   "cell_type": "markdown",
   "id": "bcabe6a3-a971-4de6-afaa-6a925f63e7e4",
   "metadata": {},
   "source": [
    "## Definition\n",
    "In mathematics, a series is, roughly speaking, a description of the operation of adding infinitely many quantities, one after the other, to a given starting quantity."
   ]
  },
  {
   "cell_type": "code",
   "execution_count": 3,
   "id": "b0cca53a-282f-4add-b671-de363187587d",
   "metadata": {},
   "outputs": [
    {
     "data": {
      "image/png": "[encoded data removed]",
      "text/latex": [
       "$\\displaystyle y = \\sum_{x=0}^{5} x^{2}$"
      ],
      "text/plain": [
       "      5     \n",
       "     ___    \n",
       "     ╲      \n",
       "      ╲    2\n",
       "y =   ╱   x \n",
       "     ╱      \n",
       "     ‾‾‾    \n",
       "    x = 0   "
      ]
     },
     "metadata": {},
     "output_type": "display_data"
    }
   ],
   "source": [
    "s = Sum(x**2, (x,0,5))\n",
    "equation = Eq(y,s)\n",
    "display(equation)"
   ]
  },
  {
   "cell_type": "code",
   "execution_count": 4,
   "id": "296c67ef",
   "metadata": {},
   "outputs": [
    {
     "data": {
      "image/png": "[encoded data removed]",
      "text/latex": [
       "$\\displaystyle y = 55$"
      ],
      "text/plain": [
       "y = 55"
      ]
     },
     "execution_count": 4,
     "metadata": {},
     "output_type": "execute_result"
    }
   ],
   "source": [
    "equation.doit()"
   ]
  },
  {
   "cell_type": "markdown",
   "id": "568d4949",
   "metadata": {},
   "source": [
    "## Taylor Series\n",
    "This is an infinite sum giving the value of a function f(z) in the neighborhood of a point a in terms of the derivatives of the function evaluated at a."
   ]
  },
  {
   "cell_type": "markdown",
   "id": "208e703f",
   "metadata": {},
   "source": [
    "Lets say we have a function"
   ]
  },
  {
   "cell_type": "code",
   "execution_count": 5,
   "id": "1c27392d",
   "metadata": {},
   "outputs": [
    {
     "data": {
      "image/png": "[encoded data removed]",
      "text/latex": [
       "$\\displaystyle f{\\left(x \\right)} = e^{\\sin{\\left(x \\right)}}$"
      ],
      "text/plain": [
       "        sin(x)\n",
       "f(x) = ℯ      "
      ]
     },
     "metadata": {},
     "output_type": "display_data"
    }
   ],
   "source": [
    "e = Eq(f(x),exp(sin(x)))\n",
    "display(e)"
   ]
  },
  {
   "cell_type": "markdown",
   "id": "df268c51",
   "metadata": {},
   "source": [
    "Maybe instead of using trig functions, we want to approximate \"f\" as a summation. We can do this by using derivitives. To get an approximation of a function using derivitives we use the fuction in the form"
   ]
  },
  {
   "cell_type": "code",
   "execution_count": 6,
   "id": "5fc0f5cf",
   "metadata": {},
   "outputs": [
    {
     "data": {
      "image/png": "[encoded data removed]",
      "text/latex": [
       "$\\displaystyle f{\\left(x \\right)} = \\frac{\\left(x - z\\right)^{3} \\frac{d^{3}}{d z^{3}} f{\\left(z \\right)}}{6} + \\frac{\\left(x - z\\right)^{2} \\frac{d^{2}}{d z^{2}} f{\\left(z \\right)}}{2} + \\left(x - z\\right) \\frac{d}{d z} f{\\left(z \\right)} + f{\\left(z \\right)}$"
      ],
      "text/plain": [
       "                  3                    2                                \n",
       "              3  d                 2  d                                 \n",
       "       (x - z) ⋅───(f(z))   (x - z) ⋅───(f(z))                          \n",
       "                  3                    2                                \n",
       "                dz                   dz                  d              \n",
       "f(x) = ────────────────── + ────────────────── + (x - z)⋅──(f(z)) + f(z)\n",
       "               6                    2                    dz             "
      ]
     },
     "metadata": {},
     "output_type": "display_data"
    }
   ],
   "source": [
    "e2 = Eq(f(x),f(z)+diff(f(z),z,1)*(x-z)**1/factorial(1)+diff(f(z),z,2)*(x-z)**2/factorial(2)+diff(f(z),z,3)*(x-z)**3/factorial(3)) \n",
    "display(e2)\n"
   ]
  },
  {
   "cell_type": "markdown",
   "id": "dc2434b8",
   "metadata": {},
   "source": [
    "So in our example"
   ]
  },
  {
   "cell_type": "code",
   "execution_count": 7,
   "id": "10e49a0c",
   "metadata": {},
   "outputs": [
    {
     "data": {
      "image/png": "[encoded data removed]",
      "text/latex": [
       "$\\displaystyle f{\\left(x \\right)} = \\frac{\\left(x - z\\right)^{3} \\frac{d^{3}}{d z^{3}} e^{\\sin{\\left(z \\right)}}}{6} + \\frac{\\left(x - z\\right)^{2} \\frac{d^{2}}{d z^{2}} e^{\\sin{\\left(z \\right)}}}{2} + \\left(x - z\\right) \\frac{d}{d z} e^{\\sin{\\left(z \\right)}} + e^{\\sin{\\left(z \\right)}}$"
      ],
      "text/plain": [
       "                  3                       2                                         \n",
       "              3  d ⎛ sin(z)⎞          2  d ⎛ sin(z)⎞                                \n",
       "       (x - z) ⋅───⎝ℯ      ⎠   (x - z) ⋅───⎝ℯ      ⎠                                \n",
       "                  3                       2                                         \n",
       "                dz                      dz                     d ⎛ sin(z)⎞    sin(z)\n",
       "f(x) = ───────────────────── + ───────────────────── + (x - z)⋅──⎝ℯ      ⎠ + ℯ      \n",
       "                 6                       2                     dz                   "
      ]
     },
     "metadata": {},
     "output_type": "display_data"
    }
   ],
   "source": [
    "e2 = e2.subs(f(z),e.rhs.subs(x,z))\n",
    "display(e2)"
   ]
  },
  {
   "cell_type": "code",
   "execution_count": 8,
   "id": "86c0fee1",
   "metadata": {},
   "outputs": [
    {
     "data": {
      "image/png": "[encoded data removed]",
      "text/latex": [
       "$\\displaystyle f{\\left(x \\right)} = \\frac{\\left(x - z\\right)^{3} \\left(- 3 \\sin{\\left(z \\right)} + \\cos^{2}{\\left(z \\right)} - 1\\right) e^{\\sin{\\left(z \\right)}} \\cos{\\left(z \\right)}}{6} + \\frac{\\left(x - z\\right)^{2} \\left(- \\sin{\\left(z \\right)} + \\cos^{2}{\\left(z \\right)}\\right) e^{\\sin{\\left(z \\right)}}}{2} + \\left(x - z\\right) e^{\\sin{\\left(z \\right)}} \\cos{\\left(z \\right)} + e^{\\sin{\\left(z \\right)}}$"
      ],
      "text/plain": [
       "              3 ⎛               2       ⎞  sin(z)                 2 ⎛             2   ⎞  sin(z)                                   \n",
       "       (x - z) ⋅⎝-3⋅sin(z) + cos (z) - 1⎠⋅ℯ      ⋅cos(z)   (x - z) ⋅⎝-sin(z) + cos (z)⎠⋅ℯ                  sin(z)           sin(z)\n",
       "f(x) = ───────────────────────────────────────────────── + ──────────────────────────────────── + (x - z)⋅ℯ      ⋅cos(z) + ℯ      \n",
       "                               6                                            2                                                     "
      ]
     },
     "execution_count": 8,
     "metadata": {},
     "output_type": "execute_result"
    }
   ],
   "source": [
    "e2 = e2.doit()\n",
    "e2"
   ]
  },
  {
   "cell_type": "markdown",
   "id": "2e060218",
   "metadata": {},
   "source": [
    "Now you pic a z value"
   ]
  },
  {
   "cell_type": "code",
   "execution_count": 9,
   "id": "c1f1fdd5",
   "metadata": {},
   "outputs": [
    {
     "data": {
      "image/png": "[encoded data removed]",
      "text/latex": [
       "$\\displaystyle z = \\pi$"
      ],
      "text/plain": [
       "z = π"
      ]
     },
     "execution_count": 9,
     "metadata": {},
     "output_type": "execute_result"
    },
    {
     "data": {
      "image/png": "[encoded data removed]",
      "text/latex": [
       "$\\displaystyle f{\\left(x \\right)} = \\left(x - \\pi\\right) \\cos{\\left(\\pi \\right)} e^{\\sin{\\left(\\pi \\right)}} + \\frac{\\left(x - \\pi\\right)^{2} \\left(- \\sin{\\left(\\pi \\right)} + \\cos^{2}{\\left(\\pi \\right)}\\right) e^{\\sin{\\left(\\pi \\right)}}}{2} + \\frac{\\left(x - \\pi\\right)^{3} \\left(-1 - 3 \\sin{\\left(\\pi \\right)} + \\cos^{2}{\\left(\\pi \\right)}\\right) \\cos{\\left(\\pi \\right)} e^{\\sin{\\left(\\pi \\right)}}}{6} + e^{\\sin{\\left(\\pi \\right)}}$"
      ],
      "text/plain": [
       "                                       2 ⎛             2   ⎞  sin(π)          3 ⎛                   2   ⎞         sin(π)          \n",
       "                       sin(π)   (x - π) ⋅⎝-sin(π) + cos (π)⎠⋅ℯ         (x - π) ⋅⎝-1 - 3⋅sin(π) + cos (π)⎠⋅cos(π)⋅ℯ          sin(π)\n",
       "f(x) = (x - π)⋅cos(π)⋅ℯ       + ──────────────────────────────────── + ───────────────────────────────────────────────── + ℯ      \n",
       "                                                 2                                             6                                  "
      ]
     },
     "execution_count": 9,
     "metadata": {},
     "output_type": "execute_result"
    },
    {
     "data": {
      "image/png": "[encoded data removed]",
      "text/latex": [
       "$\\displaystyle f{\\left(x \\right)} = - x + \\frac{\\left(x - \\pi\\right)^{2}}{2} + 1 + \\pi$"
      ],
      "text/plain": [
       "                   2        \n",
       "            (x - π)         \n",
       "f(x) = -x + ──────── + 1 + π\n",
       "               2            "
      ]
     },
     "execution_count": 9,
     "metadata": {},
     "output_type": "execute_result"
    }
   ],
   "source": [
    "e3 = Eq(z,pi)\n",
    "e3\n",
    "e4 = e2.subs(z,UnevaluatedExpr(e3.rhs))\n",
    "e4\n",
    "e4.doit()"
   ]
  },
  {
   "cell_type": "markdown",
   "id": "68068af0",
   "metadata": {},
   "source": [
    "## Maclaurin Series\n",
    "A taylor series centered around 0"
   ]
  },
  {
   "cell_type": "code",
   "execution_count": 10,
   "id": "61ae0026",
   "metadata": {},
   "outputs": [
    {
     "data": {
      "image/png": "[encoded data removed]",
      "text/latex": [
       "$\\displaystyle z = 0$"
      ],
      "text/plain": [
       "z = 0"
      ]
     },
     "execution_count": 10,
     "metadata": {},
     "output_type": "execute_result"
    },
    {
     "data": {
      "image/png": "[encoded data removed]",
      "text/latex": [
       "$\\displaystyle f{\\left(x \\right)} = \\left(x - 0\\right) \\cos{\\left(0 \\right)} e^{\\sin{\\left(0 \\right)}} + \\frac{\\left(x - 0\\right)^{2} \\left(- \\sin{\\left(0 \\right)} + \\cos^{2}{\\left(0 \\right)}\\right) e^{\\sin{\\left(0 \\right)}}}{2} + \\frac{\\left(x - 0\\right)^{3} \\left(-1 - 3 \\sin{\\left(0 \\right)} + \\cos^{2}{\\left(0 \\right)}\\right) \\cos{\\left(0 \\right)} e^{\\sin{\\left(0 \\right)}}}{6} + e^{\\sin{\\left(0 \\right)}}$"
      ],
      "text/plain": [
       "                                       2 ⎛             2   ⎞  sin(0)          3 ⎛                   2   ⎞         sin(0)          \n",
       "                       sin(0)   (x - 0) ⋅⎝-sin(0) + cos (0)⎠⋅ℯ         (x - 0) ⋅⎝-1 - 3⋅sin(0) + cos (0)⎠⋅cos(0)⋅ℯ          sin(0)\n",
       "f(x) = (x - 0)⋅cos(0)⋅ℯ       + ──────────────────────────────────── + ───────────────────────────────────────────────── + ℯ      \n",
       "                                                 2                                             6                                  "
      ]
     },
     "execution_count": 10,
     "metadata": {},
     "output_type": "execute_result"
    },
    {
     "data": {
      "image/png": "[encoded data removed]",
      "text/latex": [
       "$\\displaystyle f{\\left(x \\right)} = \\frac{x^{2}}{2} + x + 1$"
      ],
      "text/plain": [
       "        2        \n",
       "       x         \n",
       "f(x) = ── + x + 1\n",
       "       2         "
      ]
     },
     "execution_count": 10,
     "metadata": {},
     "output_type": "execute_result"
    }
   ],
   "source": [
    "e3 = Eq(z,0)\n",
    "e3\n",
    "e4 = e2.subs(z,UnevaluatedExpr(e3.rhs))\n",
    "e4\n",
    "e4.doit()"
   ]
  },
  {
   "cell_type": "markdown",
   "id": "ccbffe1a",
   "metadata": {},
   "source": [
    "## Series Expansion\n",
    "This is nice, but can sympy do this automatically? YES!"
   ]
  },
  {
   "cell_type": "code",
   "execution_count": 16,
   "id": "9c4c2e3f",
   "metadata": {},
   "outputs": [
    {
     "data": {
      "image/png": "[encoded data removed]",
      "text/latex": [
       "$\\displaystyle f{\\left(x \\right)} = 1 + x + \\frac{x^{2}}{2} + O\\left(x^{4}\\right)$"
      ],
      "text/plain": [
       "                2        \n",
       "               x     ⎛ 4⎞\n",
       "f(x) = 1 + x + ── + O⎝x ⎠\n",
       "               2         "
      ]
     },
     "execution_count": 16,
     "metadata": {},
     "output_type": "execute_result"
    }
   ],
   "source": [
    "e5 = Eq(f(x),e.rhs.series(x, 0, 4))\n",
    "e5"
   ]
  }
 ],
 "metadata": {
  "kernelspec": {
   "display_name": "Python 3 (ipykernel)",
   "language": "python",
   "name": "python3"
  },
  "language_info": {
   "codemirror_mode": {
    "name": "ipython",
    "version": 3
   },
   "file_extension": ".py",
   "mimetype": "text/x-python",
   "name": "python",
   "nbconvert_exporter": "python",
   "pygments_lexer": "ipython3",
   "version": "3.7.4"
  }
 },
 "nbformat": 4,
 "nbformat_minor": 5
}
