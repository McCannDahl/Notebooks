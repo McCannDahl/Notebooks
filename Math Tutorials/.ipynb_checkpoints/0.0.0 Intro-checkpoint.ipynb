{
 "cells": [
  {
   "cell_type": "markdown",
   "metadata": {
    "hide_input": false
   },
   "source": [
    "# Welcome\n",
    "##### These are tutorials on how to do math with Sympy and Python"
   ]
  },
  {
   "cell_type": "markdown",
   "metadata": {},
   "source": [
    "## Why are these tutorials helpful?\n",
    "When I whent through college, I learned how to use a lot of different computer-aided techniques. I wish I had learned these sooner. Hopefully these tutorials will show you how to solve complicated solutions in a simple and clear way."
   ]
  },
  {
   "cell_type": "markdown",
   "metadata": {},
   "source": [
    "## Teaching Method\n",
    "These tutorials are not meant to replace schooling. These tutorials are designed to help you take what theories you learn in school and apply them using computer-aided tools like Sympy and Python."
   ]
  },
  {
   "cell_type": "markdown",
   "metadata": {},
   "source": [
    "## Sympy and Python\n",
    "Python is a powerful programming language used in data science. It can do anything and it is intuitive. Sympy is a math library built in python that lets you eaily solve problems and also has pretty formula rendering."
   ]
  },
  {
   "cell_type": "markdown",
   "metadata": {},
   "source": [
    "## Why Jupyter?\n",
    "Jupyter lets you program in python and also supports markdown. This means that you can write code and also explain your code step by step. This makes problem solving very clear and repeatable."
   ]
  }
 ],
 "metadata": {
  "kernelspec": {
   "display_name": "Python 3",
   "language": "python",
   "name": "python3"
  },
  "language_info": {
   "codemirror_mode": {
    "name": "ipython",
    "version": 3
   },
   "file_extension": ".py",
   "mimetype": "text/x-python",
   "name": "python",
   "nbconvert_exporter": "python",
   "pygments_lexer": "ipython3",
   "version": "3.7.6"
  }
 },
 "nbformat": 4,
 "nbformat_minor": 4
}
