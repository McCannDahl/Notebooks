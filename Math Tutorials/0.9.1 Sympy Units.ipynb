{
 "cells": [
  {
   "cell_type": "markdown",
   "metadata": {
    "hide_input": false
   },
   "source": [
    "# Units\n",
    "##### This shows how to use units"
   ]
  },
  {
   "cell_type": "code",
   "execution_count": 1,
   "metadata": {
    "hide_input": false
   },
   "outputs": [],
   "source": [
    "from IPython.core.interactiveshell import InteractiveShell\n",
    "InteractiveShell.ast_node_interactivity = \"all\"\n",
    "from sympy import *\n",
    "from sympy.plotting import *\n",
    "from sympy.matrices import *\n",
    "init_printing()\n",
    "from sympy.physics.units.systems import SI\n",
    "from sympy.physics.units import length, mass, acceleration, force, time\n",
    "from sympy.physics.units import gravitational_constant as G\n",
    "from sympy.physics.units.systems.si import dimsys_SI\n",
    "from sympy.physics.units import Dimension\n",
    "from sympy.physics.units import speed_of_light, meter, gram, second, day\n",
    "from sympy.physics.units import mile, newton, kilogram, atomic_mass_constant\n",
    "from sympy.physics.units import kilometer, centimeter\n",
    "from sympy.physics.units import gravitational_constant, hbar\n",
    "from sympy.physics.units import convert_to\n",
    "import warnings\n",
    "warnings.filterwarnings(\"ignore\", category=UserWarning)"
   ]
  },
  {
   "cell_type": "markdown",
   "metadata": {},
   "source": [
    "In sympy, dimensions can be created"
   ]
  },
  {
   "cell_type": "code",
   "execution_count": 2,
   "metadata": {},
   "outputs": [
    {
     "data": {
      "image/png": "[encoded data removed]",
      "text/latex": [
       "$\\displaystyle \\operatorname{Dimension}\\left(length^{2}\\right)$"
      ],
      "text/plain": [
       "Dimension(length**2)"
      ]
     },
     "execution_count": 2,
     "metadata": {},
     "output_type": "execute_result"
    },
    {
     "data": {
      "image/png": "[encoded data removed]",
      "text/latex": [
       "$\\displaystyle \\left\\{ \\operatorname{Dimension}\\left(length\\right) : 2\\right\\}$"
      ],
      "text/plain": [
       "{Dimension(length, L): 2}"
      ]
     },
     "execution_count": 2,
     "metadata": {},
     "output_type": "execute_result"
    }
   ],
   "source": [
    "l2 = length**2\n",
    "l2\n",
    "dimsys_SI.get_dimensional_dependencies(l2)"
   ]
  },
  {
   "cell_type": "markdown",
   "metadata": {},
   "source": [
    "Or you can use existing units"
   ]
  },
  {
   "cell_type": "code",
   "execution_count": 3,
   "metadata": {},
   "outputs": [
    {
     "data": {
      "image/png": "[encoded data removed]",
      "text/latex": [
       "$\\displaystyle 5 \\text{mile} = \\frac{25146 \\text{km}}{3125}$"
      ],
      "text/plain": [
       "         25146⋅kilometer\n",
       "5⋅mile = ───────────────\n",
       "               3125     "
      ]
     },
     "execution_count": 3,
     "metadata": {},
     "output_type": "execute_result"
    }
   ],
   "source": [
    "left = 5*mile\n",
    "Eq(left,convert_to(left, kilometer))"
   ]
  },
  {
   "cell_type": "code",
   "execution_count": 4,
   "metadata": {},
   "outputs": [
    {
     "data": {
      "image/png": "[encoded data removed]",
      "text/latex": [
       "$\\displaystyle 3 \\text{N} = \\frac{300000 \\text{cm} \\text{g}}{\\text{s}^{2}}$"
      ],
      "text/plain": [
       "           300000⋅centimeter⋅gram\n",
       "3⋅newton = ──────────────────────\n",
       "                        2        \n",
       "                  second         "
      ]
     },
     "execution_count": 4,
     "metadata": {},
     "output_type": "execute_result"
    }
   ],
   "source": [
    "left = 3*newton\n",
    "Eq(left,convert_to(left, [centimeter, gram, second]))"
   ]
  },
  {
   "cell_type": "code",
   "execution_count": null,
   "metadata": {},
   "outputs": [],
   "source": []
  }
 ],
 "metadata": {
  "kernelspec": {
   "display_name": "Python 3 (ipykernel)",
   "language": "python",
   "name": "python3"
  },
  "language_info": {
   "codemirror_mode": {
    "name": "ipython",
    "version": 3
   },
   "file_extension": ".py",
   "mimetype": "text/x-python",
   "name": "python",
   "nbconvert_exporter": "python",
   "pygments_lexer": "ipython3",
   "version": "3.9.13"
  }
 },
 "nbformat": 4,
 "nbformat_minor": 4
}
