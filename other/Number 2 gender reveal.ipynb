{
 "cells": [
  {
   "cell_type": "code",
   "execution_count": 1,
   "metadata": {},
   "outputs": [],
   "source": [
    "from IPython.core.interactiveshell import InteractiveShell\n",
    "from IPython.display import display\n",
    "InteractiveShell.ast_node_interactivity = \"all\"\n",
    "from sympy import *\n",
    "from sympy.plotting import *\n",
    "from sympy.matrices import *\n",
    "init_printing()"
   ]
  },
  {
   "cell_type": "code",
   "execution_count": 2,
   "metadata": {},
   "outputs": [],
   "source": [
    "x, y = symbols('x, y', real=True)"
   ]
  },
  {
   "cell_type": "code",
   "execution_count": 3,
   "metadata": {},
   "outputs": [
    {
     "data": {
      "image/png": "[encoded data removed]",
      "text/latex": [
       "$\\displaystyle 5! + \\left(\\left(\\left(\\left(e^{y^{3}} + \\frac{y x x}{x}\\right) + \\frac{d^{4}}{d x^{4}} x^{4}\\right) + \\int 1 \\log{\\left(x \\right)}^{6}\\, dx\\right) + \\lim_{x \\to 0^+}\\left(\\frac{\\cos{\\left(x \\right)} - 1}{x}\\right)\\right)$"
      ],
      "text/plain": [
       "      ⎛ 3⎞             4       ⌠                                 \n",
       "      ⎝y ⎠   y⋅x⋅x    d ⎛ 4⎞   ⎮      6              ⎛cos(x) - 1⎞\n",
       "5! + ℯ     + ───── + ───⎝x ⎠ + ⎮ 1⋅log (x) dx +  lim ⎜──────────⎟\n",
       "               x       4       ⌡                x─→0⁺⎝    x     ⎠\n",
       "                     dx                                          "
      ]
     },
     "metadata": {},
     "output_type": "display_data"
    },
    {
     "data": {
      "image/png": "[encoded data removed]",
      "text/latex": [
       "$\\displaystyle x y + x \\log{\\left(x \\right)}^{6} - 6 x \\log{\\left(x \\right)}^{5} + 30 x \\log{\\left(x \\right)}^{4} - 120 x \\log{\\left(x \\right)}^{3} + 360 x \\log{\\left(x \\right)}^{2} - 720 x \\log{\\left(x \\right)} + 720 x + e^{y^{3}} + 144$"
      ],
      "text/plain": [
       "                                                                              \n",
       "           6             5              4               3               2     \n",
       "x⋅y + x⋅log (x) - 6⋅x⋅log (x) + 30⋅x⋅log (x) - 120⋅x⋅log (x) + 360⋅x⋅log (x) -\n",
       "\n",
       "                         ⎛ 3⎞      \n",
       "                         ⎝y ⎠      \n",
       " 720⋅x⋅log(x) + 720⋅x + ℯ     + 144"
      ]
     },
     "execution_count": 3,
     "metadata": {},
     "output_type": "execute_result"
    }
   ],
   "source": [
    "eq = None\n",
    "with evaluate(False):\n",
    "    eq = x*x*y/x + exp(y**3) + Derivative(x**4, x, 4) + Integral(log(x)**6,x) + Limit((cos(x) - 1)/x, x, 0) + factorial(5)\n",
    "\n",
    "display(eq)\n",
    "simplify(eq)"
   ]
  },
  {
   "cell_type": "code",
   "execution_count": 40,
   "metadata": {},
   "outputs": [
    {
     "data": {
      "image/png": "[encoded data removed]",
      "text/latex": [
       "$\\displaystyle \\lim_{x \\to 0^+} \\cos^{\\tan{\\left(x \\right)}}{\\left(x \\right)}$"
      ],
      "text/plain": [
       "        tan(x)   \n",
       " lim cos      (x)\n",
       "x─→0⁺            "
      ]
     },
     "metadata": {},
     "output_type": "display_data"
    },
    {
     "data": {
      "image/png": "[encoded data removed]",
      "text/latex": [
       "$\\displaystyle 1$"
      ],
      "text/plain": [
       "1"
      ]
     },
     "execution_count": 40,
     "metadata": {},
     "output_type": "execute_result"
    }
   ],
   "source": [
    "eq = None\n",
    "with evaluate(False):\n",
    "    eq = Limit((cos(x)**tan(x)), x, 0)\n",
    "\n",
    "display(eq)\n",
    "simplify(eq)"
   ]
  },
  {
   "cell_type": "code",
   "execution_count": 16,
   "metadata": {},
   "outputs": [
    {
     "data": {
      "image/png": "[encoded data removed]",
      "text/latex": [
       "$\\displaystyle \\int 1 x y\\, dx$"
      ],
      "text/plain": [
       "⌠         \n",
       "⎮ 1⋅x⋅y dx\n",
       "⌡         "
      ]
     },
     "metadata": {},
     "output_type": "display_data"
    },
    {
     "data": {
      "image/png": "[encoded data removed]",
      "text/latex": [
       "$\\displaystyle \\frac{x^{2} y}{2}$"
      ],
      "text/plain": [
       " 2  \n",
       "x ⋅y\n",
       "────\n",
       " 2  "
      ]
     },
     "execution_count": 16,
     "metadata": {},
     "output_type": "execute_result"
    }
   ],
   "source": [
    "eq = None\n",
    "with evaluate(False):\n",
    "    eq = Integral(x*y,x)\n",
    "\n",
    "display(eq)\n",
    "simplify(eq.doit())"
   ]
  },
  {
   "cell_type": "code",
   "execution_count": 20,
   "metadata": {},
   "outputs": [
    {
     "data": {
      "image/png": "[encoded data removed]",
      "text/latex": [
       "$\\displaystyle \\frac{\\partial^{5}}{\\partial y^{3}\\partial x^{2}} x^{4} y^{4}$"
      ],
      "text/plain": [
       "    5         \n",
       "   ∂   ⎛ 4  4⎞\n",
       "───────⎝x ⋅y ⎠\n",
       "  3   2       \n",
       "∂y  ∂x        "
      ]
     },
     "metadata": {},
     "output_type": "display_data"
    },
    {
     "data": {
      "image/png": "[encoded data removed]",
      "text/latex": [
       "$\\displaystyle 288 x^{2} y$"
      ],
      "text/plain": [
       "     2  \n",
       "288⋅x ⋅y"
      ]
     },
     "execution_count": 20,
     "metadata": {},
     "output_type": "execute_result"
    }
   ],
   "source": [
    "eq = None\n",
    "with evaluate(False):\n",
    "    eq = Derivative(x**4*y**4, x, 2, y, 3)\n",
    "\n",
    "display(eq)\n",
    "simplify(eq.doit())"
   ]
  },
  {
   "cell_type": "code",
   "execution_count": 25,
   "metadata": {},
   "outputs": [
    {
     "data": {
      "image/png": "[encoded data removed]",
      "text/latex": [
       "$\\displaystyle \\frac{\\partial^{2}}{\\partial y\\partial x} y^{2} \\log{\\left(x \\right)}$"
      ],
      "text/plain": [
       "   2            \n",
       "  ∂  ⎛ 2       ⎞\n",
       "─────⎝y ⋅log(x)⎠\n",
       "∂y ∂x           "
      ]
     },
     "metadata": {},
     "output_type": "display_data"
    },
    {
     "data": {
      "image/png": "[encoded data removed]",
      "text/latex": [
       "$\\displaystyle \\frac{2 y}{x}$"
      ],
      "text/plain": [
       "2⋅y\n",
       "───\n",
       " x "
      ]
     },
     "execution_count": 25,
     "metadata": {},
     "output_type": "execute_result"
    }
   ],
   "source": [
    "eq = None\n",
    "with evaluate(False):\n",
    "    eq = Derivative(ln(x)*y**2,x,y)\n",
    "\n",
    "display(eq)\n",
    "simplify(eq.doit())"
   ]
  },
  {
   "cell_type": "code",
   "execution_count": 34,
   "metadata": {},
   "outputs": [
    {
     "data": {
      "image/png": "[encoded data removed]",
      "text/latex": [
       "$\\displaystyle 5! 2.4$"
      ],
      "text/plain": [
       "5!⋅2.4"
      ]
     },
     "metadata": {},
     "output_type": "display_data"
    },
    {
     "data": {
      "image/png": "[encoded data removed]",
      "text/latex": [
       "$\\displaystyle 288.0$"
      ],
      "text/plain": [
       "288.000000000000"
      ]
     },
     "execution_count": 34,
     "metadata": {},
     "output_type": "execute_result"
    }
   ],
   "source": [
    "eq = None\n",
    "with evaluate(False):\n",
    "    eq = factorial(5)*2.4\n",
    "\n",
    "display(eq)\n",
    "simplify(eq.doit())"
   ]
  },
  {
   "cell_type": "code",
   "execution_count": 43,
   "metadata": {},
   "outputs": [
    {
     "data": {
      "image/png": "[encoded data removed]",
      "text/latex": [
       "$\\displaystyle \\frac{\\frac{\\lim_{x \\to 0^+} \\cos^{\\tan{\\left(x \\right)}}{\\left(x \\right)} \\frac{\\partial^{5}}{\\partial y^{3}\\partial x^{2}} x^{4} y^{4}}{2.4 \\cdot 5!} \\frac{x y}{\\frac{\\partial^{2}}{\\partial y\\partial x} y^{2} \\log{\\left(x \\right)}}}{\\int 1 x y\\, dx}$"
      ],
      "text/plain": [
       "                      5                          \n",
       "        tan(x)       ∂   ⎛ 4  4⎞                 \n",
       " lim cos      (x)⋅───────⎝x ⋅y ⎠                 \n",
       "x─→0⁺               3   2                        \n",
       "                  ∂y  ∂x               x⋅y       \n",
       "────────────────────────────────⋅────────────────\n",
       "             5!⋅2.4                 2            \n",
       "                                   ∂  ⎛ 2       ⎞\n",
       "                                 ─────⎝y ⋅log(x)⎠\n",
       "                                 ∂y ∂x           \n",
       "─────────────────────────────────────────────────\n",
       "                    ⌠                            \n",
       "                    ⎮ 1⋅x⋅y dx                   \n",
       "                    ⌡                            "
      ]
     },
     "metadata": {},
     "output_type": "display_data"
    },
    {
     "data": {
      "image/png": "[encoded data removed]",
      "text/latex": [
       "$\\displaystyle 1.0 x^{2}$"
      ],
      "text/plain": [
       "     2\n",
       "1.0⋅x "
      ]
     },
     "execution_count": 43,
     "metadata": {},
     "output_type": "execute_result"
    }
   ],
   "source": [
    "eq = None\n",
    "with evaluate(False):\n",
    "    eq = Limit((cos(x)**tan(x)), x, 0)*Derivative(x**4*y**4, x, 2, y, 3)/(factorial(5)*2.4)*((x*y)/Derivative(ln(x)*y**2,x,y))/Integral(x*y,x)\n",
    "\n",
    "display(eq)\n",
    "simplify(eq.doit())"
   ]
  },
  {
   "cell_type": "code",
   "execution_count": null,
   "metadata": {},
   "outputs": [],
   "source": []
  }
 ],
 "metadata": {
  "kernelspec": {
   "display_name": "Python 3",
   "language": "python",
   "name": "python3"
  },
  "language_info": {
   "codemirror_mode": {
    "name": "ipython",
    "version": 3
   },
   "file_extension": ".py",
   "mimetype": "text/x-python",
   "name": "python",
   "nbconvert_exporter": "python",
   "pygments_lexer": "ipython3",
   "version": "3.8.8"
  }
 },
 "nbformat": 4,
 "nbformat_minor": 4
}
