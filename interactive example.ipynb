{
 "cells": [
  {
   "cell_type": "markdown",
   "id": "6a3296f4",
   "metadata": {},
   "source": [
    "# yay it worked"
   ]
  },
  {
   "cell_type": "code",
   "execution_count": 1,
   "id": "57d3fc16",
   "metadata": {},
   "outputs": [],
   "source": [
    "from ipywidgets import HBox, VBox, IntSlider, interactive_output\n",
    "from IPython.display import display\n",
    "import numpy as np\n",
    "import matplotlib.pyplot as plt"
   ]
  },
  {
   "cell_type": "code",
   "execution_count": 5,
   "id": "8a255f1d",
   "metadata": {},
   "outputs": [],
   "source": [
    "\n",
    "def plot_func(a, f):\n",
    "    plt.figure(2)\n",
    "    x = np.linspace(0, 2*np.pi, num=1000)\n",
    "    if f == 0:\n",
    "        f = 0.1\n",
    "    y = a*np.sin(1/f*x)\n",
    "    plt.plot(x,y)\n",
    "    plt.ylim(-1.1, 1.1)\n",
    "    plt.title('a sin(f)')\n",
    "    plt.show()\n",
    "\n",
    "#interactive_plot = widgets.interactive(plot_func, a=(-1,0,0.1), f=(0.1, 1))\n",
    "#output = interactive_plot.children[-1]\n",
    "#output.layout.height = '300px'\n",
    "#interactive_plot"
   ]
  },
  {
   "cell_type": "code",
   "execution_count": 6,
   "id": "ab302bc3",
   "metadata": {},
   "outputs": [],
   "source": [
    "a = IntSlider()\n",
    "b = IntSlider()"
   ]
  },
  {
   "cell_type": "code",
   "execution_count": 7,
   "id": "b24b4c5a",
   "metadata": {},
   "outputs": [
    {
     "data": {
      "application/vnd.jupyter.widget-view+json": {
       "model_id": "8a75eabfb4184d3e9976611fa380ac3b",
       "version_major": 2,
       "version_minor": 0
      },
      "text/plain": [
       "HBox(children=(VBox(children=(IntSlider(value=0), IntSlider(value=0))), Output()))"
      ]
     },
     "metadata": {},
     "output_type": "display_data"
    }
   ],
   "source": [
    "def f(a, b):\n",
    "    print(\"{} * {} = {}\".format(a, b, a * b))\n",
    "\n",
    "out = interactive_output(plot_func, { \"a\": a, \"f\": b })\n",
    "\n",
    "display(HBox([VBox([a, b]), out]))"
   ]
  },
  {
   "cell_type": "code",
   "execution_count": null,
   "id": "44f3b773",
   "metadata": {},
   "outputs": [],
   "source": []
  }
 ],
 "metadata": {
  "kernelspec": {
   "display_name": "Python 3 (ipykernel)",
   "language": "python",
   "name": "python3"
  },
  "language_info": {
   "codemirror_mode": {
    "name": "ipython",
    "version": 3
   },
   "file_extension": ".py",
   "mimetype": "text/x-python",
   "name": "python",
   "nbconvert_exporter": "python",
   "pygments_lexer": "ipython3",
   "version": "3.8.10"
  }
 },
 "nbformat": 4,
 "nbformat_minor": 5
}
