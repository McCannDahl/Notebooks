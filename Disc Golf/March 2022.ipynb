{
 "cells": [
  {
   "cell_type": "markdown",
   "id": "8f34dd38",
   "metadata": {},
   "source": [
    "# Disc Golf sim\n",
    "## Use this page to simulate real-world disc flight\n",
    "### set the inital conditions using the sliders and watch the flight graphs update"
   ]
  },
  {
   "cell_type": "code",
   "execution_count": 1,
   "id": "d5265309",
   "metadata": {},
   "outputs": [],
   "source": [
    "from ipywidgets import HBox, VBox, IntSlider, interactive_output\n",
    "from IPython.display import display\n",
    "import numpy as np\n",
    "import matplotlib.pyplot as plt"
   ]
  },
  {
   "cell_type": "code",
   "execution_count": 2,
   "id": "4ce785e1",
   "metadata": {},
   "outputs": [],
   "source": [
    "def plot_func(a, f):\n",
    "    plt.figure(2)\n",
    "    x = np.linspace(0, 2*np.pi, num=1000)\n",
    "    if f == 0:\n",
    "        f = 0.1\n",
    "    y = a*np.sin(1/f*x)\n",
    "    plt.plot(x,y)\n",
    "    plt.ylim(-1.1, 1.1)\n",
    "    plt.title('a sin(f)')\n",
    "    plt.show()"
   ]
  },
  {
   "cell_type": "code",
   "execution_count": 3,
   "id": "1276613b",
   "metadata": {},
   "outputs": [],
   "source": [
    "a = IntSlider()\n",
    "b = IntSlider()"
   ]
  },
  {
   "cell_type": "code",
   "execution_count": 6,
   "id": "9c1df543",
   "metadata": {},
   "outputs": [],
   "source": [
    "out = interactive_output(plot_func, { \"a\": a, \"f\": b })"
   ]
  },
  {
   "cell_type": "code",
   "execution_count": 7,
   "id": "9854b2fb",
   "metadata": {},
   "outputs": [
    {
     "data": {
      "application/vnd.jupyter.widget-view+json": {
       "model_id": "d75c9a8e180d4d86bcab622e299e1e91",
       "version_major": 2,
       "version_minor": 0
      },
      "text/plain": [
       "HBox(children=(VBox(children=(IntSlider(value=15), IntSlider(value=17))), Output(outputs=({'output_type': 'dis…"
      ]
     },
     "metadata": {},
     "output_type": "display_data"
    }
   ],
   "source": [
    "display(HBox([VBox([a, b]), out]))"
   ]
  },
  {
   "cell_type": "code",
   "execution_count": null,
   "id": "78295e70",
   "metadata": {},
   "outputs": [],
   "source": []
  }
 ],
 "metadata": {
  "kernelspec": {
   "display_name": "Python 3 (ipykernel)",
   "language": "python",
   "name": "python3"
  },
  "language_info": {
   "codemirror_mode": {
    "name": "ipython",
    "version": 3
   },
   "file_extension": ".py",
   "mimetype": "text/x-python",
   "name": "python",
   "nbconvert_exporter": "python",
   "pygments_lexer": "ipython3",
   "version": "3.8.10"
  }
 },
 "nbformat": 4,
 "nbformat_minor": 5
}
