{
 "cells": [
  {
   "cell_type": "markdown",
   "id": "ab8065e4",
   "metadata": {},
   "source": [
    "# Disc Golf sim\n",
    "## Use this page to simulate real-world disc flight\n",
    "### set the inital conditions using the sliders and watch the flight graphs update"
   ]
  },
  {
   "cell_type": "code",
   "execution_count": 1,
   "id": "96f3e0e8",
   "metadata": {},
   "outputs": [],
   "source": [
    "from ipywidgets import HBox, VBox, IntSlider, interactive_output\n",
    "from IPython.display import display\n",
    "import numpy as np\n",
    "import matplotlib.pyplot as plt\n",
    "import math\n",
    "from mpl_toolkits import mplot3d"
   ]
  },
  {
   "cell_type": "code",
   "execution_count": 2,
   "id": "baf8778a",
   "metadata": {},
   "outputs": [],
   "source": [
    "def interactive_refresh_plot(x,y,z):\n",
    "    plt.figure(1)\n",
    "    ax = plt.axes(projection ='3d')\n",
    "    ax.plot3D(x, y, z, 'green')\n",
    "    plt.figure(2)\n",
    "    ax = plt.axes(projection ='3d')\n",
    "    ax.plot3D(x, y, z, 'red')\n",
    "    ax.view_init(0, 0)\n",
    "    plt.figure(3)\n",
    "    ax = plt.axes(projection ='3d')\n",
    "    ax.plot3D(x, y, z, 'blue')\n",
    "    ax.view_init(0, 90)\n",
    "    plt.show()"
   ]
  },
  {
   "cell_type": "code",
   "execution_count": 3,
   "id": "5dae41f7",
   "metadata": {},
   "outputs": [],
   "source": [
    "import frispy\n",
    "from dataclasses import dataclass"
   ]
  },
  {
   "cell_type": "code",
   "execution_count": 4,
   "id": "0d45902c",
   "metadata": {},
   "outputs": [],
   "source": [
    "class MccDisc():\n",
    "    def __init__(self, disc, name):\n",
    "        self.disc = disc\n",
    "        self.name = name\n",
    "@dataclass\n",
    "class JankieModel(frispy.Model):\n",
    "    PL0: float = 999\n",
    "    PLa: float = 999\n",
    "    PD0: float = 999\n",
    "    PTy0: float = -999\n",
    "    PTya: float = 999\n",
    "@dataclass\n",
    "class HummelModel(frispy.Model):\n",
    "    PL0: float = 0.33\n",
    "    PLa: float = 1.9\n",
    "    PD0: float = 0.18\n",
    "    PTy0: float = -0.082\n",
    "    PTya: float = 0.43\n",
    "@dataclass\n",
    "class AviarModel(frispy.Model):\n",
    "    PL0: float = 0.152\n",
    "    PLa: float = 0.044\n",
    "    PD0: float = 0.083\n",
    "    PTy0: float = -0.018\n",
    "    PTya: float = 0.002\n",
    "@dataclass\n",
    "class BuzzModel(frispy.Model):\n",
    "    PL0: float = 0.099\n",
    "    PLa: float = 0.041\n",
    "    PD0: float = 0.061\n",
    "    PTy0: float = -0.033\n",
    "    PTya: float = 0.004\n",
    "@dataclass\n",
    "class RocModel(frispy.Model):\n",
    "    PL0: float = 0.053\n",
    "    PLa: float = 0.043\n",
    "    PD0: float = 0.067\n",
    "    PTy0: float = -0.015\n",
    "    PTya: float = 0.003\n",
    "@dataclass\n",
    "class FlickModel(frispy.Model):\n",
    "    PL0: float = 0.100\n",
    "    PLa: float = 0.038\n",
    "    PD0: float = 0.076\n",
    "    PTy0: float = -0.007\n",
    "    PTya: float = 0.008\n",
    "@dataclass\n",
    "class StormModel(frispy.Model):\n",
    "    PL0: float = 0.107\n",
    "    PLa: float = 0.045\n",
    "    PD0: float = 0.057\n",
    "    PTy0: float = -0.026\n",
    "    PTya: float = 0.004\n",
    "@dataclass\n",
    "class WraithModel(frispy.Model):\n",
    "    PL0: float = 0.143\n",
    "    PLa: float = 0.040\n",
    "    PD0: float = 0.055\n",
    "    PTy0: float = -0.020\n",
    "    PTya: float = 0.006\n",
    "@dataclass\n",
    "class QuarterModel(frispy.Model):\n",
    "    PL0: float = 0.138\n",
    "    PLa: float = 0.039\n",
    "    PD0: float = 0.065\n",
    "    PTy0: float = -0.038\n",
    "    PTya: float = 0.005\n",
    "all_MccDiscs = [\n",
    "    MccDisc(frispy.Disc(model=frispy.Model()),'none'),\n",
    "    MccDisc(frispy.Disc(model=JankieModel()),'JankieModel'),\n",
    "    MccDisc(frispy.Disc(model=HummelModel()),'hummel'),\n",
    "    MccDisc(frispy.Disc(model=AviarModel()),'putter - aviar'),\n",
    "    MccDisc(frispy.Disc(model=RocModel()),'mid - roc'),\n",
    "    MccDisc(frispy.Disc(model=BuzzModel()),'mid - buzz'),\n",
    "    MccDisc(frispy.Disc(model=WraithModel()),'driver - wraith'),\n",
    "    MccDisc(frispy.Disc(model=FlickModel()),'driver - flick'),\n",
    "    MccDisc(frispy.Disc(model=QuarterModel()),'driver - quarter'),\n",
    "]"
   ]
  },
  {
   "cell_type": "code",
   "execution_count": 5,
   "id": "3c9cda1d",
   "metadata": {},
   "outputs": [],
   "source": [
    "def plot_func(a, f):\n",
    "    #discs = [all_MccDiscs[0]]\n",
    "    #for mccdisc in discs:\n",
    "    #    mccdisc.disc.set_default_initial_conditions(vx=23, vy=0, theta=0, phi=0.2)\n",
    "    #    mccdisc.disc.reset_initial_conditions()\n",
    "    #results = []\n",
    "    #for mccdisc in discs:\n",
    "    #    results.append(mccdisc.disc.compute_trajectory(flight_time=4))\n",
    "    #x = results[0].x\n",
    "    #y = results[0].y\n",
    "    disc = frispy.Disc()\n",
    "    disc.default_initial_conditions['vx'] = 23+a\n",
    "    disc.reset_initial_conditions()\n",
    "    result = disc.compute_trajectory()\n",
    "    times = result.times\n",
    "    x, y, z = result.x, result.y, result.z\n",
    "    interactive_refresh_plot(x,y,z)"
   ]
  },
  {
   "cell_type": "code",
   "execution_count": 6,
   "id": "c0d72cdf",
   "metadata": {},
   "outputs": [],
   "source": [
    "a = IntSlider()\n",
    "b = IntSlider()"
   ]
  },
  {
   "cell_type": "code",
   "execution_count": 7,
   "id": "6b042c92",
   "metadata": {},
   "outputs": [],
   "source": [
    "out = interactive_output(plot_func, { \"a\": a, \"f\": b })"
   ]
  },
  {
   "cell_type": "code",
   "execution_count": 8,
   "id": "2aeaa32f",
   "metadata": {},
   "outputs": [
    {
     "data": {
      "application/vnd.jupyter.widget-view+json": {
       "model_id": "9e3b265e71714841b057f43af7a98e53",
       "version_major": 2,
       "version_minor": 0
      },
      "text/plain": [
       "HBox(children=(VBox(children=(IntSlider(value=0), IntSlider(value=0))), Output()))"
      ]
     },
     "metadata": {},
     "output_type": "display_data"
    }
   ],
   "source": [
    "display(HBox([VBox([a, b]), out]))"
   ]
  },
  {
   "cell_type": "code",
   "execution_count": null,
   "id": "222f542e",
   "metadata": {},
   "outputs": [],
   "source": []
  }
 ],
 "metadata": {
  "kernelspec": {
   "display_name": "Python 3 (ipykernel)",
   "language": "python",
   "name": "python3"
  },
  "language_info": {
   "codemirror_mode": {
    "name": "ipython",
    "version": 3
   },
   "file_extension": ".py",
   "mimetype": "text/x-python",
   "name": "python",
   "nbconvert_exporter": "python",
   "pygments_lexer": "ipython3",
   "version": "3.8.10"
  }
 },
 "nbformat": 4,
 "nbformat_minor": 5
}
