{
 "cells": [
  {
   "cell_type": "markdown",
   "id": "23f309a3",
   "metadata": {},
   "source": [
    "# Disc Golf Sim p2\n",
    "Set end-conditions and get the inital-conditions of disc golf flight"
   ]
  },
  {
   "cell_type": "code",
   "execution_count": 1,
   "id": "49171c07",
   "metadata": {},
   "outputs": [],
   "source": [
    "from ipywidgets import HBox, VBox, IntSlider, interactive_output, Dropdown, FloatSlider, interact\n",
    "from ipynb.fs.full.sharedfunctions import plot_func, Result\n",
    "import json\n",
    "import math\n",
    "import matplotlib.pyplot as plt"
   ]
  },
  {
   "cell_type": "code",
   "execution_count": 2,
   "id": "f74863c5",
   "metadata": {},
   "outputs": [],
   "source": [
    "results = []\n",
    "\n",
    "# Using readlines()\n",
    "with open('coefficients_optimizer_results.txt', 'r') as file1:\n",
    "    for line in file1.readlines():\n",
    "        json_string = line.strip()\n",
    "        json_dict = json.loads(json_string)\n",
    "        result = Result(json_dict['values'],json_dict['x'],json_dict['y'])\n",
    "        results.append(result)"
   ]
  },
  {
   "cell_type": "code",
   "execution_count": 3,
   "id": "c0f31294",
   "metadata": {},
   "outputs": [],
   "source": [
    "x_slider = FloatSlider(\n",
    "    min=0,\n",
    "    max=300,\n",
    "    step=5,\n",
    "    description='Throw Distance (m):'\n",
    ")\n",
    "y_slider = FloatSlider(\n",
    "    min=-100,\n",
    "    max=100,\n",
    "    step=5,\n",
    "    description='Basket horizontal Location (m):'\n",
    ")"
   ]
  },
  {
   "cell_type": "code",
   "execution_count": 4,
   "id": "efc07da4",
   "metadata": {},
   "outputs": [],
   "source": [
    "solutions = []\n",
    "throwsDropdown = Dropdown(\n",
    "    options=[\n",
    "    ],\n",
    "    description='Throws:',\n",
    ")\n",
    "def process_dropdown_change(index):\n",
    "    if index is None:\n",
    "        plt.clf()\n",
    "    else:\n",
    "        new_values = results[index].values\n",
    "        plot_func(\n",
    "            new_values[0],\n",
    "            new_values[1],\n",
    "            new_values[2],\n",
    "            new_values[3],\n",
    "            new_values[4],\n",
    "            0, # x\n",
    "            0, # y\n",
    "            1, # z\n",
    "            new_values[5],\n",
    "            new_values[6],\n",
    "            new_values[7],\n",
    "            new_values[8],\n",
    "            new_values[9],\n",
    "            new_values[10],\n",
    "            new_values[11],\n",
    "            new_values[12],\n",
    "            new_values[13],\n",
    "            new_values[14],\n",
    "            new_values[15],\n",
    "            new_values[16],\n",
    "            new_values[17],\n",
    "            new_values[18],\n",
    "            new_values[19],\n",
    "            new_values[20],\n",
    "            new_values[21],\n",
    "            new_values[22],\n",
    "            new_values[23],\n",
    "        )\n",
    "        display('PL0 = '+str(new_values[0]))\n",
    "        display('PLa = '+str(new_values[1]))\n",
    "        display('PD0 = '+str(new_values[2]))\n",
    "        display('PTy0 = '+str(new_values[3]))\n",
    "        display('PTya = '+str(new_values[4]))\n",
    "        display('vx = '+str(new_values[5]))\n",
    "        display('vy = '+str(new_values[6]))\n",
    "        display('vz = '+str(new_values[7]))\n",
    "        display('phi = '+str(new_values[8]))\n",
    "        display('theta = '+str(new_values[9]))\n",
    "        display('gamma = '+str(new_values[10]))\n",
    "        display('dphi = '+str(new_values[11]))\n",
    "        display('dtheta = '+str(new_values[12]))\n",
    "        display('dgamma = '+str(new_values[13]))\n",
    "        display('alpha_0 = '+str(new_values[14]))\n",
    "        display('PDa = '+str(new_values[15]))\n",
    "        display('PTxwx = '+str(new_values[16]))\n",
    "        display('PTxwz = '+str(new_values[17]))\n",
    "        display('PTywy = '+str(new_values[18]))\n",
    "        display('PTzwz = '+str(new_values[19]))\n",
    "        display('area = '+str(new_values[20]))\n",
    "        display('I_zz = '+str(new_values[21]))\n",
    "        display('I_xx = '+str(new_values[22]))\n",
    "        display('mass = '+str(new_values[23]))\n",
    "\n"
   ]
  },
  {
   "cell_type": "code",
   "execution_count": 5,
   "id": "7dc4d12e",
   "metadata": {},
   "outputs": [],
   "source": [
    "def end_conditions_changed(x,y):\n",
    "    throwsDropdown.value = None\n",
    "    new_options = [] \n",
    "    for i,result in enumerate(results):\n",
    "        distance = math.sqrt( (result.end_x - x_slider.value)**2 + (result.end_y - y_slider.value)**2 )\n",
    "        if distance < 1:\n",
    "            display_string = str(i)+\" \"\n",
    "            if result.values[8] > 0: # phi\n",
    "                display_string += 'Anhyzer '\n",
    "            else:\n",
    "                display_string += 'Hyzer '\n",
    "            if result.values[13] > 0: # dgamma\n",
    "                display_string += 'Backhand '\n",
    "            else:\n",
    "                display_string += 'Forhand '\n",
    "            display_string += str(distance)\n",
    "            new_options.append((display_string,i))\n",
    "    throwsDropdown.options = new_options\n",
    "    if len(new_options) > 0:\n",
    "        throwsDropdown.value = 0\n",
    "    else:\n",
    "        throwsDropdown.value = None\n",
    "    "
   ]
  },
  {
   "cell_type": "code",
   "execution_count": 6,
   "id": "0478f1f2",
   "metadata": {},
   "outputs": [
    {
     "data": {
      "application/vnd.jupyter.widget-view+json": {
       "model_id": "b1b216c9fde441e5a8f4ef7a53a6c794",
       "version_major": 2,
       "version_minor": 0
      },
      "text/plain": [
       "interactive(children=(FloatSlider(value=0.0, description='Throw Distance (m):', max=300.0, step=5.0), FloatSli…"
      ]
     },
     "metadata": {},
     "output_type": "display_data"
    },
    {
     "data": {
      "text/plain": [
       "''"
      ]
     },
     "execution_count": 6,
     "metadata": {},
     "output_type": "execute_result"
    }
   ],
   "source": [
    "interact(end_conditions_changed, x=x_slider, y=y_slider)\n",
    ";"
   ]
  },
  {
   "cell_type": "code",
   "execution_count": 7,
   "id": "c7d1d56c",
   "metadata": {},
   "outputs": [],
   "source": [
    "out2 = interactive_output(process_dropdown_change, {\n",
    "    \"index\": throwsDropdown,\n",
    "})"
   ]
  },
  {
   "cell_type": "code",
   "execution_count": 8,
   "id": "333defb7",
   "metadata": {},
   "outputs": [
    {
     "data": {
      "application/vnd.jupyter.widget-view+json": {
       "model_id": "c404a4274e0549f2a482b87bb2bc8b92",
       "version_major": 2,
       "version_minor": 0
      },
      "text/plain": [
       "VBox(children=(Dropdown(description='Throws:', options=(('0 Hyzer Backhand 0.9872543360595347', 0), ('1 Hyzer …"
      ]
     },
     "metadata": {},
     "output_type": "display_data"
    }
   ],
   "source": [
    "display(VBox([throwsDropdown,out2]))"
   ]
  },
  {
   "cell_type": "code",
   "execution_count": null,
   "id": "e62e2686",
   "metadata": {},
   "outputs": [],
   "source": []
  },
  {
   "cell_type": "code",
   "execution_count": null,
   "id": "2754de60",
   "metadata": {},
   "outputs": [],
   "source": []
  }
 ],
 "metadata": {
  "kernelspec": {
   "display_name": "myvenv",
   "language": "python",
   "name": "myvenv"
  },
  "language_info": {
   "codemirror_mode": {
    "name": "ipython",
    "version": 3
   },
   "file_extension": ".py",
   "mimetype": "text/x-python",
   "name": "python",
   "nbconvert_exporter": "python",
   "pygments_lexer": "ipython3",
   "version": "3.8.10"
  }
 },
 "nbformat": 4,
 "nbformat_minor": 5
}
