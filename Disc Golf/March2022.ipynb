{
 "cells": [
  {
   "cell_type": "markdown",
   "id": "98d6c85a",
   "metadata": {},
   "source": [
    "# Disc Golf Sim by McCann Dahl\n",
    "Set the inital conditions using the sliders and watch the flight graphs update"
   ]
  },
  {
   "cell_type": "code",
   "execution_count": 1,
   "id": "72380084",
   "metadata": {},
   "outputs": [],
   "source": [
    "from ipywidgets import HBox, VBox, IntSlider, interactive_output, Dropdown, FloatSlider\n",
    "from IPython.display import display\n",
    "import frispy\n",
    "from dataclasses import dataclass\n",
    "from ipynb.fs.full.sharedfunctions import plot_func "
   ]
  },
  {
   "cell_type": "code",
   "execution_count": 2,
   "id": "3f5c7bb2",
   "metadata": {},
   "outputs": [],
   "source": [
    "class MccDisc():\n",
    "    def __init__(self, disc, name):\n",
    "        self.disc = disc\n",
    "        self.name = name\n",
    "@dataclass\n",
    "class HummelModel(frispy.Model):\n",
    "    PL0: float = 0.33\n",
    "    PLa: float = 1.9\n",
    "    PD0: float = 0.18\n",
    "    PTy0: float = -0.082\n",
    "    PTya: float = 0.43\n",
    "@dataclass\n",
    "class AviarModel(frispy.Model):\n",
    "    PL0: float = 0.152\n",
    "    PLa: float = 0.044\n",
    "    PD0: float = 0.083\n",
    "    PTy0: float = -0.018\n",
    "    PTya: float = 0.002\n",
    "@dataclass\n",
    "class BuzzModel(frispy.Model):\n",
    "    PL0: float = 0.099\n",
    "    PLa: float = 0.041\n",
    "    PD0: float = 0.061\n",
    "    PTy0: float = -0.033\n",
    "    PTya: float = 0.004\n",
    "@dataclass\n",
    "class RocModel(frispy.Model):\n",
    "    PL0: float = 0.053\n",
    "    PLa: float = 0.043\n",
    "    PD0: float = 0.067\n",
    "    PTy0: float = -0.015\n",
    "    PTya: float = 0.003\n",
    "@dataclass\n",
    "class FlickModel(frispy.Model):\n",
    "    PL0: float = 0.100\n",
    "    PLa: float = 0.038\n",
    "    PD0: float = 0.076\n",
    "    PTy0: float = -0.007\n",
    "    PTya: float = 0.008\n",
    "@dataclass\n",
    "class StormModel(frispy.Model):\n",
    "    PL0: float = 0.107\n",
    "    PLa: float = 0.045\n",
    "    PD0: float = 0.057\n",
    "    PTy0: float = -0.026\n",
    "    PTya: float = 0.004\n",
    "@dataclass\n",
    "class WraithModel(frispy.Model):\n",
    "    PL0: float = 0.143\n",
    "    PLa: float = 0.040\n",
    "    PD0: float = 0.055\n",
    "    PTy0: float = -0.020\n",
    "    PTya: float = 0.006\n",
    "@dataclass\n",
    "class QuarterModel(frispy.Model):\n",
    "    PL0: float = 0.138\n",
    "    PLa: float = 0.039\n",
    "    PD0: float = 0.065\n",
    "    PTy0: float = -0.038\n",
    "    PTya: float = 0.005\n",
    "all_MccDiscs = [\n",
    "    MccDisc(frispy.Disc(model=frispy.Model()),'Frispy default'),\n",
    "    MccDisc(frispy.Disc(model=HummelModel()),'Hummel study'),\n",
    "    MccDisc(frispy.Disc(model=AviarModel()),'Putter - Aviar'),\n",
    "    MccDisc(frispy.Disc(model=RocModel()),'Midrange - Roc'),\n",
    "    MccDisc(frispy.Disc(model=BuzzModel()),'Midrange - Buzz'),\n",
    "    MccDisc(frispy.Disc(model=WraithModel()),'Driver - Wraith'),\n",
    "    MccDisc(frispy.Disc(model=FlickModel()),'Driver - Flick'),\n",
    "    MccDisc(frispy.Disc(model=QuarterModel()),'Driver - Quarter'),\n",
    "]"
   ]
  },
  {
   "cell_type": "code",
   "execution_count": 3,
   "id": "2c991139",
   "metadata": {},
   "outputs": [],
   "source": [
    "number_of_sliders_updated_from_dropdown_change = 0"
   ]
  },
  {
   "cell_type": "markdown",
   "id": "842b32f4",
   "metadata": {},
   "source": [
    "## Disc Coefficients\n",
    "Use these sliders to set the disc coefficients. The dropdown will help you select some default disc coefficent sets."
   ]
  },
  {
   "cell_type": "code",
   "execution_count": 4,
   "id": "9e21d9da",
   "metadata": {},
   "outputs": [],
   "source": [
    "all_coefficients = list(map(lambda x: x.disc.model.PL0, all_MccDiscs))\n",
    "PL0_slider = FloatSlider(\n",
    "    min=min(all_coefficients),\n",
    "    max=max(all_coefficients),\n",
    "    step=abs(max(all_coefficients)-min(all_coefficients))/20,\n",
    "    description='PL0:'\n",
    ")\n",
    "all_coefficients = list(map(lambda x: x.disc.model.PLa, all_MccDiscs))\n",
    "PLa_slider = FloatSlider(\n",
    "    min=min(all_coefficients),\n",
    "    max=max(all_coefficients),\n",
    "    step=abs(max(all_coefficients)-min(all_coefficients))/20,\n",
    "    description='PLa:'\n",
    ")\n",
    "all_coefficients = list(map(lambda x: x.disc.model.PD0, all_MccDiscs))\n",
    "PD0_slider = FloatSlider(\n",
    "    min=min(all_coefficients),\n",
    "    max=max(all_coefficients),\n",
    "    step=abs(max(all_coefficients)-min(all_coefficients))/20,\n",
    "    description='PD0:'\n",
    ")\n",
    "all_coefficients = list(map(lambda x: x.disc.model.PTy0, all_MccDiscs))\n",
    "PTy0_slider = FloatSlider(\n",
    "    min=min(all_coefficients),\n",
    "    max=max(all_coefficients),\n",
    "    step=abs(max(all_coefficients)-min(all_coefficients))/20,\n",
    "    description='PTy0:'\n",
    ")\n",
    "all_coefficients = list(map(lambda x: x.disc.model.PTya, all_MccDiscs))\n",
    "PTya_slider = FloatSlider(\n",
    "    min=min(all_coefficients),\n",
    "    max=max(all_coefficients),\n",
    "    step=abs(max(all_coefficients)-min(all_coefficients))/20,\n",
    "    description='PTya:'\n",
    ")\n",
    "all_coefficient_sliders = [PL0_slider,PLa_slider,PD0_slider,PTy0_slider,PTya_slider]\n",
    "\n",
    "def set_coefficient_sliders(mccdisc):\n",
    "    if mccdisc is not None:\n",
    "        PL0_slider.value = mccdisc.disc.model.PL0\n",
    "        PLa_slider.value = mccdisc.disc.model.PLa\n",
    "        PD0_slider.value = mccdisc.disc.model.PD0\n",
    "        PTy0_slider.value = mccdisc.disc.model.PTy0\n",
    "        PTya_slider.value = mccdisc.disc.model.PTya\n",
    "selected_index = 4\n",
    "number_of_sliders_updated_from_dropdown_change = 5\n",
    "set_coefficient_sliders(all_MccDiscs[selected_index])"
   ]
  },
  {
   "cell_type": "code",
   "execution_count": 5,
   "id": "c0fe1e3f",
   "metadata": {},
   "outputs": [],
   "source": [
    "discCoefficientsDropdown = Dropdown(\n",
    "    value=all_MccDiscs[selected_index],\n",
    "    options=list(map(lambda x: (x.name,x), all_MccDiscs)),\n",
    "    description='Disc:',\n",
    ")\n",
    "def on_change_discCoefficientsDropdown(change):\n",
    "    global number_of_sliders_updated_from_dropdown_change\n",
    "    if change['type'] == 'change' and change['name'] == 'value':\n",
    "        newDiscSelected = change['new']\n",
    "        number_of_sliders_updated_from_dropdown_change = 5\n",
    "        set_coefficient_sliders(newDiscSelected)\n",
    "\n",
    "discCoefficientsDropdown.observe(on_change_discCoefficientsDropdown)"
   ]
  },
  {
   "cell_type": "code",
   "execution_count": 6,
   "id": "b2035b0f",
   "metadata": {},
   "outputs": [
    {
     "data": {
      "application/vnd.jupyter.widget-view+json": {
       "model_id": "ae86392482ef4711aebf61a80c9e45a0",
       "version_major": 2,
       "version_minor": 0
      },
      "text/plain": [
       "HBox(children=(Dropdown(description='Disc:', index=4, options=(('Frispy default', <__main__.MccDisc object at …"
      ]
     },
     "metadata": {},
     "output_type": "display_data"
    }
   ],
   "source": [
    "display(HBox([discCoefficientsDropdown, VBox(all_coefficient_sliders)]))"
   ]
  },
  {
   "cell_type": "markdown",
   "id": "625f4bb6",
   "metadata": {},
   "source": [
    "## Disc throw\n",
    "Use these sliders to determine the x y and z rotations and speeds of the disc as it leaves the thrower's hand"
   ]
  },
  {
   "cell_type": "code",
   "execution_count": 7,
   "id": "38ad4ea9",
   "metadata": {},
   "outputs": [],
   "source": [
    "x_slider = FloatSlider(\n",
    "    min=-5,\n",
    "    max=5,\n",
    "    step=0.1,\n",
    "    description='x (m):'\n",
    ")\n",
    "y_slider = FloatSlider(\n",
    "    min=0,\n",
    "    max=5,\n",
    "    step=0.1,\n",
    "    description='y (m):'\n",
    ")\n",
    "z_slider = FloatSlider(\n",
    "    value=1,\n",
    "    min=0,\n",
    "    max=5,\n",
    "    step=0.1,\n",
    "    description='z (m):'\n",
    ")\n",
    "vx_slider = FloatSlider(\n",
    "    value=30,\n",
    "    min=0,\n",
    "    max=200,\n",
    "    step=0.1,\n",
    "    description='x vel (m/s):'\n",
    ")\n",
    "vy_slider = FloatSlider(\n",
    "    min=-40,\n",
    "    max=40,\n",
    "    step=0.1,\n",
    "    description='y vel (m/s):'\n",
    ")\n",
    "vz_slider = FloatSlider(\n",
    "    min=-40,\n",
    "    max=40,\n",
    "    step=0.1,\n",
    "    description='z vel (m/s):'\n",
    ")\n",
    "phi_slider = FloatSlider(\n",
    "    value=0.36,\n",
    "    min=-1,\n",
    "    max=1,\n",
    "    step=0.01,\n",
    "    description='phi (rad):'\n",
    ")\n",
    "theta_slider = FloatSlider(\n",
    "    min=-1,\n",
    "    max=1,\n",
    "    step=0.01,\n",
    "    description='theta (rad):'\n",
    ")\n",
    "gamma_slider = FloatSlider(\n",
    "    min=-3.14,\n",
    "    max=3.14,\n",
    "    step=0.1,\n",
    "    description='gamma (rad):'\n",
    ")\n",
    "dphi_slider = FloatSlider(\n",
    "    min=-1,\n",
    "    max=1,\n",
    "    step=0.01,\n",
    "    description='dphi (rad/s):'\n",
    ")\n",
    "dtheta_slider = FloatSlider(\n",
    "    min=-1,\n",
    "    max=1,\n",
    "    step=0.01,\n",
    "    description='dtheta (rad/s):'\n",
    ")\n",
    "dgamma_slider = FloatSlider(\n",
    "    value=60,\n",
    "    min=-400,\n",
    "    max=400,\n",
    "    step=0.1,\n",
    "    description='dgamma (rad/s):'\n",
    ")\n",
    "all_throw_sliders = [x_slider,y_slider,z_slider,vx_slider,vy_slider,vz_slider,\n",
    "phi_slider,theta_slider,gamma_slider,dphi_slider,dtheta_slider,dgamma_slider]"
   ]
  },
  {
   "cell_type": "code",
   "execution_count": 8,
   "id": "20ae94fe",
   "metadata": {},
   "outputs": [],
   "source": [
    "discThrowDropdown = Dropdown(\n",
    "    options=[\n",
    "        ('Backhand',1),\n",
    "        ('Fronthand',-1),\n",
    "    ],\n",
    "    description='Type:',\n",
    ")\n",
    "def set_discThrowDropdown_sliders(index):\n",
    "    global number_of_sliders_updated_from_dropdown_change\n",
    "    number_of_sliders_updated_from_dropdown_change = 1\n",
    "    dgamma_slider.value = 60 * index\n",
    "def on_change_discThrowDropdown(change):\n",
    "    if change['type'] == 'change' and change['name'] == 'value':\n",
    "        index = change['new']\n",
    "        set_discThrowDropdown_sliders(index)\n",
    "\n",
    "discThrowDropdown.observe(on_change_discThrowDropdown)"
   ]
  },
  {
   "cell_type": "code",
   "execution_count": 9,
   "id": "0751a4e2",
   "metadata": {},
   "outputs": [],
   "source": [
    "discAngleDropdown = Dropdown(\n",
    "    options=[\n",
    "        ('Anhyzer',1),\n",
    "        ('Hyzer',-1),\n",
    "    ],\n",
    "    description='Angle:',\n",
    ")\n",
    "def set_discAngleDropdown_sliders(index):\n",
    "    global number_of_sliders_updated_from_dropdown_change\n",
    "    number_of_sliders_updated_from_dropdown_change = 1\n",
    "    phi_slider.value = 0.36 * index\n",
    "def on_change_discAngleDropdown(change):\n",
    "    if change['type'] == 'change' and change['name'] == 'value':\n",
    "        index = change['new']\n",
    "        set_discAngleDropdown_sliders(index)\n",
    "\n",
    "discAngleDropdown.observe(on_change_discAngleDropdown)"
   ]
  },
  {
   "cell_type": "code",
   "execution_count": 10,
   "id": "74be471b",
   "metadata": {},
   "outputs": [
    {
     "data": {
      "application/vnd.jupyter.widget-view+json": {
       "model_id": "62aa4584981e48dd9ae1d8736008a49c",
       "version_major": 2,
       "version_minor": 0
      },
      "text/plain": [
       "HBox(children=(VBox(children=(Dropdown(description='Type:', options=(('Backhand', 1), ('Fronthand', -1)), valu…"
      ]
     },
     "metadata": {},
     "output_type": "display_data"
    }
   ],
   "source": [
    "display(HBox([VBox([discThrowDropdown,discAngleDropdown]), VBox(all_throw_sliders[0:6]), VBox(all_throw_sliders[6:12])]))"
   ]
  },
  {
   "cell_type": "markdown",
   "id": "4c4f8127",
   "metadata": {},
   "source": [
    "## Graphs\n",
    "Here is the simulated throw of the above configuration"
   ]
  },
  {
   "cell_type": "code",
   "execution_count": 11,
   "id": "145add3d",
   "metadata": {},
   "outputs": [],
   "source": [
    "out = interactive_output(plot_func, {\n",
    "    \"PL0\": PL0_slider,\n",
    "    \"PLa\": PLa_slider,\n",
    "    \"PD0\": PD0_slider,\n",
    "    \"PTy0\": PTy0_slider,\n",
    "    \"PTya\": PTya_slider,\n",
    "    \"x\": x_slider,\n",
    "    \"y\": y_slider,\n",
    "    \"z\": z_slider,\n",
    "    \"vx\": vx_slider,\n",
    "    \"vy\": vy_slider,\n",
    "    \"vz\": vz_slider,\n",
    "    \"phi\": phi_slider,\n",
    "    \"theta\": theta_slider,\n",
    "    \"gamma\": gamma_slider,\n",
    "    \"dphi\": dphi_slider,\n",
    "    \"dtheta\": dtheta_slider,\n",
    "    \"dgamma\": dgamma_slider,\n",
    "})"
   ]
  },
  {
   "cell_type": "code",
   "execution_count": 12,
   "id": "faf033b3",
   "metadata": {},
   "outputs": [
    {
     "data": {
      "application/vnd.jupyter.widget-view+json": {
       "model_id": "e3fba14432f94b6191af177e622e6864",
       "version_major": 2,
       "version_minor": 0
      },
      "text/plain": [
       "Output()"
      ]
     },
     "metadata": {},
     "output_type": "display_data"
    }
   ],
   "source": [
    "display(out)"
   ]
  },
  {
   "cell_type": "markdown",
   "id": "ebdf6c62",
   "metadata": {},
   "source": [
    "All distances are given in meters. These graphs may look like they have unnecessary empty space - this is to ensure that the perspectives and visualizations are to-scale and accurate. \n",
    "If you have any questions or comments about this simulation, contact McCann Dahl mccdahl@gmail.com"
   ]
  },
  {
   "cell_type": "code",
   "execution_count": 13,
   "id": "a47abe65",
   "metadata": {},
   "outputs": [
    {
     "data": {
      "application/vnd.jupyter.widget-view+json": {
       "model_id": "d5d5c98205944940a8d9cc5df3674295",
       "version_major": 2,
       "version_minor": 0
      },
      "text/plain": [
       "Output()"
      ]
     },
     "metadata": {},
     "output_type": "display_data"
    }
   ],
   "source": [
    "### clear dropdown when slider updated manually\n",
    "def clear_dropdown_discCoefficientsDropdown(PL0,PLa,PD0,PTy0,PTya):\n",
    "    global number_of_sliders_updated_from_dropdown_change\n",
    "    if number_of_sliders_updated_from_dropdown_change > 0:\n",
    "        number_of_sliders_updated_from_dropdown_change -= 1\n",
    "    else:\n",
    "        discCoefficientsDropdown.value = None\n",
    "        \n",
    "interactive_output(clear_dropdown_discCoefficientsDropdown, {\n",
    "    \"PL0\": PL0_slider,\n",
    "    \"PLa\": PLa_slider,\n",
    "    \"PD0\": PD0_slider,\n",
    "    \"PTy0\": PTy0_slider,\n",
    "    \"PTya\": PTya_slider,\n",
    "})\n",
    "\n",
    "def clear_dropdown_discThrowDropdown(dgamma_slider_value):\n",
    "    global number_of_sliders_updated_from_dropdown_change\n",
    "    if number_of_sliders_updated_from_dropdown_change > 0:\n",
    "        number_of_sliders_updated_from_dropdown_change -= 1\n",
    "    else:\n",
    "        discThrowDropdown.value = None\n",
    "        \n",
    "interactive_output(clear_dropdown_discThrowDropdown, {\n",
    "    \"dgamma_slider_value\": dgamma_slider,\n",
    "})\n",
    "\n",
    "def clear_dropdown_discAngleDropdown(phi_slider_value):\n",
    "    global number_of_sliders_updated_from_dropdown_change\n",
    "    if number_of_sliders_updated_from_dropdown_change > 0:\n",
    "        number_of_sliders_updated_from_dropdown_change -= 1\n",
    "    else:\n",
    "        discAngleDropdown.value = None\n",
    "        \n",
    "interactive_output(clear_dropdown_discAngleDropdown, {\n",
    "    \"phi_slider_value\": phi_slider,\n",
    "})"
   ]
  },
  {
   "cell_type": "code",
   "execution_count": null,
   "id": "ecb296b4",
   "metadata": {},
   "outputs": [],
   "source": []
  }
 ],
 "metadata": {
  "kernelspec": {
   "display_name": "myvenv",
   "language": "python",
   "name": "myvenv"
  },
  "language_info": {
   "codemirror_mode": {
    "name": "ipython",
    "version": 3
   },
   "file_extension": ".py",
   "mimetype": "text/x-python",
   "name": "python",
   "nbconvert_exporter": "python",
   "pygments_lexer": "ipython3",
   "version": "3.8.10"
  }
 },
 "nbformat": 4,
 "nbformat_minor": 5
}
