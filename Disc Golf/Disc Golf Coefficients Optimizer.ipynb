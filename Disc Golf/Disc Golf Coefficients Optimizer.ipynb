{
 "cells": [
  {
   "cell_type": "markdown",
   "id": "7902b052",
   "metadata": {},
   "source": [
    "# Disc Golf Coefficients Optimizer\n",
    "#### This document calculates all the local maximum of disc golf throws using various inital conditions\n",
    "#### The goal of this research is to see if mathmatical models of disc golf throws can simulate reality (throw 800+ ft). Current simulations seem to indicate that conditions only allow for shorter throws."
   ]
  },
  {
   "cell_type": "code",
   "execution_count": 1,
   "id": "f4ff795d",
   "metadata": {},
   "outputs": [],
   "source": [
    "from ipynb.fs.full.sharedfunctions import compute_custom_trajectory, Result, output_file_name\n",
    "from ipywidgets import IntProgress"
   ]
  },
  {
   "cell_type": "code",
   "execution_count": 2,
   "id": "cbbc01c2",
   "metadata": {},
   "outputs": [
    {
     "name": "stdout",
     "output_type": "stream",
     "text": [
      "1\n"
     ]
    }
   ],
   "source": [
    "number_of_lines_written = 0\n",
    "try:\n",
    "    with open(output_file_name, 'r+') as file1:\n",
    "        number_of_lines_written = len(file1.readlines())\n",
    "    print(number_of_lines_written)\n",
    "except:\n",
    "    print('No file found')"
   ]
  },
  {
   "cell_type": "code",
   "execution_count": 3,
   "id": "f831a61d",
   "metadata": {},
   "outputs": [],
   "source": [
    "def to_range(lower, upper=None, number_of_iterations_per_var=1):\n",
    "    if number_of_iterations_per_var == 1:\n",
    "        return [lower]\n",
    "    if upper is None:\n",
    "        upper = lower*-1\n",
    "    return [lower + x*(upper-lower)/number_of_iterations_per_var for x in range(number_of_iterations_per_var+1)]"
   ]
  },
  {
   "cell_type": "code",
   "execution_count": 4,
   "id": "82a6b9f4",
   "metadata": {},
   "outputs": [],
   "source": [
    "PL0 = to_range(0.053,0.33,number_of_iterations_per_var=3)\n",
    "PLa = to_range(0.038,1.9,number_of_iterations_per_var=3)\n",
    "PD0 = to_range(0.055,0.18,number_of_iterations_per_var=3)\n",
    "PTy0 = to_range(-0.082,-0.007,number_of_iterations_per_var=3)\n",
    "PTya = to_range(0.003,0.43,number_of_iterations_per_var=3)\n",
    "x = to_range(5)\n",
    "y = to_range(5)\n",
    "z = to_range(1,5)\n",
    "vx = to_range(10,120,number_of_iterations_per_var=4)\n",
    "vy = to_range(0)\n",
    "vz = to_range(0)\n",
    "phi = to_range(-0.36,number_of_iterations_per_var=2)\n",
    "theta = to_range(0)\n",
    "gamma = to_range(0)\n",
    "dphi = to_range(0)\n",
    "dtheta = to_range(0)\n",
    "dgamma = to_range(-62.0,number_of_iterations_per_var=2)\n",
    "alpha_0  = to_range(-4*3.14/180)\n",
    "PDa = to_range(0.69)\n",
    "PTxwx = to_range(-0.013)\n",
    "PTxwz = to_range(-0.0017)\n",
    "PTywy = to_range(-0.014)\n",
    "PTzwz = to_range(-0.000034)\n",
    "area = to_range(0.058556)\n",
    "I_zz = to_range(0.002352)\n",
    "I_xx = to_range(0.001219)\n",
    "mass = to_range(0.175)"
   ]
  },
  {
   "cell_type": "code",
   "execution_count": 5,
   "id": "af912713",
   "metadata": {},
   "outputs": [],
   "source": [
    "all_vars = [\n",
    "    PL0,\n",
    "    PLa,\n",
    "    PD0,\n",
    "    PTy0,\n",
    "    PTya,\n",
    "    #x,\n",
    "    #y,\n",
    "    #z,\n",
    "    vx,\n",
    "    vy,\n",
    "    vz,\n",
    "    phi,\n",
    "    theta,\n",
    "    gamma,\n",
    "    dphi,\n",
    "    dtheta,\n",
    "    dgamma,\n",
    "    alpha_0,\n",
    "    PDa,\n",
    "    PTxwx,\n",
    "    PTxwz,\n",
    "    PTywy,\n",
    "    PTzwz,\n",
    "    area,\n",
    "    I_zz,\n",
    "    I_xx,\n",
    "    mass,\n",
    "]"
   ]
  },
  {
   "cell_type": "code",
   "execution_count": 6,
   "id": "2ea33c97",
   "metadata": {},
   "outputs": [],
   "source": [
    "def compute_custom_trajectory_optimizer(\n",
    "        PL0,\n",
    "        PLa,\n",
    "        PD0,\n",
    "        PTy0,\n",
    "        PTya,\n",
    "        x,\n",
    "        y,\n",
    "        z,\n",
    "        vx,\n",
    "        vy,\n",
    "        vz,\n",
    "        phi,\n",
    "        theta,\n",
    "        gamma,\n",
    "        dphi,\n",
    "        dtheta,\n",
    "        dgamma,\n",
    "        alpha_0 = 0,\n",
    "        PDa = None,\n",
    "        PTxwx = None,\n",
    "        PTxwz = None,\n",
    "        PTywy = None,\n",
    "        PTzwz = None,\n",
    "        area = None,  # m^2\n",
    "        I_zz = None,  # kg*m^2\n",
    "        I_xx = None,  # kg*m^2\n",
    "        mass = None,  # kg\n",
    "    ):\n",
    "    result = compute_custom_trajectory(\n",
    "        PL0,\n",
    "        PLa,\n",
    "        PD0,\n",
    "        PTy0,\n",
    "        PTya,\n",
    "        x,\n",
    "        y,\n",
    "        z,\n",
    "        vx,\n",
    "        vy,\n",
    "        vz,\n",
    "        phi,\n",
    "        theta,\n",
    "        gamma,\n",
    "        dphi,\n",
    "        dtheta,\n",
    "        dgamma,\n",
    "        alpha_0 = alpha_0,\n",
    "        PDa = PDa,\n",
    "        PTxwx = PTxwx,\n",
    "        PTxwz = PTxwz,\n",
    "        PTywy = PTywy,\n",
    "        PTzwz = PTzwz,\n",
    "        area = area,\n",
    "        I_zz = I_zz,\n",
    "        I_xx = I_xx,\n",
    "        mass = mass\n",
    "    )\n",
    "    if result is not None and len(result.x) > 0 and len(result.y) > 0:\n",
    "        return result.x[-1], result.y[-1]\n",
    "    return 0,0"
   ]
  },
  {
   "cell_type": "code",
   "execution_count": 7,
   "id": "1a46885f",
   "metadata": {},
   "outputs": [],
   "source": [
    "def getResults(f, variables, values = []):\n",
    "    var_values = variables[len(values)]\n",
    "    for var_value in var_values:\n",
    "        new_values = []\n",
    "        for v in values:\n",
    "            new_values.append(v)\n",
    "        new_values.append(var_value)\n",
    "        if len(new_values) == len(variables):\n",
    "            if progressBar.value >= number_of_lines_written:\n",
    "                end_x, end_y = compute_custom_trajectory_optimizer(\n",
    "                    new_values[0],\n",
    "                    new_values[1],\n",
    "                    new_values[2],\n",
    "                    new_values[3],\n",
    "                    new_values[4],\n",
    "                    0, # x\n",
    "                    0, # y\n",
    "                    1, # z\n",
    "                    new_values[5],\n",
    "                    new_values[6],\n",
    "                    new_values[7],\n",
    "                    new_values[8],\n",
    "                    new_values[9],\n",
    "                    new_values[10],\n",
    "                    new_values[11],\n",
    "                    new_values[12],\n",
    "                    new_values[13],\n",
    "                    new_values[14],\n",
    "                    new_values[15],\n",
    "                    new_values[16],\n",
    "                    new_values[17],\n",
    "                    new_values[18],\n",
    "                    new_values[19],\n",
    "                    new_values[20],\n",
    "                    new_values[21],\n",
    "                    new_values[22],\n",
    "                    new_values[23],\n",
    "                )\n",
    "                result = Result(new_values, end_x, end_y)\n",
    "                f.write(f'{result.toString()}\\n')\n",
    "            progressBar.value += 1\n",
    "        else:\n",
    "            getResults(f, variables,new_values)"
   ]
  },
  {
   "cell_type": "code",
   "execution_count": 8,
   "id": "0f1afa11",
   "metadata": {},
   "outputs": [
    {
     "data": {
      "application/vnd.jupyter.widget-view+json": {
       "model_id": "13e7f307f875427fa5cc8786cbaea18e",
       "version_major": 2,
       "version_minor": 0
      },
      "text/plain": [
       "IntProgress(value=0, max=0)"
      ]
     },
     "metadata": {},
     "output_type": "display_data"
    }
   ],
   "source": [
    "progressBar = IntProgress(min=0, max=0) # instantiate the bar\n",
    "display(progressBar) # display the bar"
   ]
  },
  {
   "cell_type": "code",
   "execution_count": 9,
   "id": "f88cccf8",
   "metadata": {},
   "outputs": [
    {
     "name": "stdout",
     "output_type": "stream",
     "text": [
      "46080\n"
     ]
    }
   ],
   "source": [
    "max_count = 1\n",
    "for var in all_vars:\n",
    "    max_count = max_count*len(var)\n",
    "progressBar.max = max_count\n",
    "print(max_count)"
   ]
  },
  {
   "cell_type": "code",
   "execution_count": null,
   "id": "1c64c2cb",
   "metadata": {},
   "outputs": [],
   "source": [
    "with open(output_file_name, 'w') as f:\n",
    "    getResults(f, all_vars)"
   ]
  },
  {
   "cell_type": "code",
   "execution_count": null,
   "id": "d73190c0",
   "metadata": {},
   "outputs": [],
   "source": []
  },
  {
   "cell_type": "code",
   "execution_count": null,
   "id": "8c2653c0",
   "metadata": {},
   "outputs": [],
   "source": []
  }
 ],
 "metadata": {
  "kernelspec": {
   "display_name": "myvenv",
   "language": "python",
   "name": "myvenv"
  },
  "language_info": {
   "codemirror_mode": {
    "name": "ipython",
    "version": 3
   },
   "file_extension": ".py",
   "mimetype": "text/x-python",
   "name": "python",
   "nbconvert_exporter": "python",
   "pygments_lexer": "ipython3",
   "version": "3.8.10"
  }
 },
 "nbformat": 4,
 "nbformat_minor": 5
}
