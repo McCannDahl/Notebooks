{
 "cells": [
  {
   "cell_type": "markdown",
   "id": "7902b052",
   "metadata": {},
   "source": [
    "# Disc Golf Coefficients Optimizer\n",
    "#### This document calculates all the local maximum of disc golf throws using various inital conditions\n",
    "#### The goal of this research is to see if mathmatical models of disc golf throws can simulate reality (throw 800+ ft). Current simulations seem to indicate that conditions only allow for shorter throws."
   ]
  },
  {
   "cell_type": "code",
   "execution_count": null,
   "id": "82a6b9f4",
   "metadata": {},
   "outputs": [],
   "source": []
  }
 ],
 "metadata": {
  "kernelspec": {
   "display_name": "myvenv",
   "language": "python",
   "name": "myvenv"
  },
  "language_info": {
   "codemirror_mode": {
    "name": "ipython",
    "version": 3
   },
   "file_extension": ".py",
   "mimetype": "text/x-python",
   "name": "python",
   "nbconvert_exporter": "python",
   "pygments_lexer": "ipython3",
   "version": "3.8.10"
  }
 },
 "nbformat": 4,
 "nbformat_minor": 5
}
